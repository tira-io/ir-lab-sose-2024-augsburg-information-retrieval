{
 "cells": [
  {
   "cell_type": "code",
   "execution_count": 4,
   "metadata": {},
   "outputs": [
    {
     "ename": "ImportError",
     "evalue": "cannot import name 'ColBERTConfig' from 'colbert' (/usr/local/lib/python3.10/dist-packages/colbert/__init__.py)",
     "output_type": "error",
     "traceback": [
      "\u001b[0;31m---------------------------------------------------------------------------\u001b[0m",
      "\u001b[0;31mImportError\u001b[0m                               Traceback (most recent call last)",
      "Cell \u001b[0;32mIn[4], line 5\u001b[0m\n\u001b[1;32m      3\u001b[0m \u001b[38;5;28;01mimport\u001b[39;00m \u001b[38;5;21;01mpyterrier\u001b[39;00m \u001b[38;5;28;01mas\u001b[39;00m \u001b[38;5;21;01mpt\u001b[39;00m\n\u001b[1;32m      4\u001b[0m \u001b[38;5;28;01mimport\u001b[39;00m \u001b[38;5;21;01mos\u001b[39;00m\n\u001b[0;32m----> 5\u001b[0m \u001b[38;5;28;01mfrom\u001b[39;00m \u001b[38;5;21;01mcolbert\u001b[39;00m \u001b[38;5;28;01mimport\u001b[39;00m ColBERTConfig, ColBERT\n\u001b[1;32m      6\u001b[0m \u001b[38;5;28;01mfrom\u001b[39;00m \u001b[38;5;21;01mcolbert\u001b[39;00m\u001b[38;5;21;01m.\u001b[39;00m\u001b[38;5;21;01mranking\u001b[39;00m \u001b[38;5;28;01mimport\u001b[39;00m ColBERTFactory\n\u001b[1;32m      8\u001b[0m \u001b[38;5;66;03m# Initialize PyTerrier\u001b[39;00m\n",
      "\u001b[0;31mImportError\u001b[0m: cannot import name 'ColBERTConfig' from 'colbert' (/usr/local/lib/python3.10/dist-packages/colbert/__init__.py)"
     ]
    }
   ],
   "source": [
    "from tira.third_party_integrations import ensure_pyterrier_is_loaded, persist_and_normalize_run\n",
    "from tira.rest_api_client import Client\n",
    "import pyterrier as pt\n",
    "import os\n",
    "from colbert.infra import ColBERTConfig, ColBERT\n",
    "from colbert.ranking import ColBERTFactory\n",
    "\n",
    "# Initialize PyTerrier\n",
    "if not pt.started():\n",
    "    pt.init()"
   ]
  },
  {
   "cell_type": "code",
   "execution_count": null,
   "metadata": {},
   "outputs": [],
   "source": [
    "# Load the dataset and index\n",
    "pt_dataset = pt.get_dataset('irds:ir-lab-sose-2024/ir-acl-anthology-20240504-training')\n",
    "index = tira.pt.index('ir-lab-sose-2024/tira-ir-starter/Index (tira-ir-starter-pyterrier)', pt_dataset)\n",
    "\n",
    "# Retrieve initial results using BM25\n",
    "bm25 = pt.BatchRetrieve(index, wmodel=\"BM25\")\n",
    "top10 = bm25.topk(10)"
   ]
  },
  {
   "cell_type": "code",
   "execution_count": 1,
   "metadata": {},
   "outputs": [
    {
     "ename": "ModuleNotFoundError",
     "evalue": "No module named 'pyterrier_colbert'",
     "output_type": "error",
     "traceback": [
      "\u001b[0;31m---------------------------------------------------------------------------\u001b[0m",
      "\u001b[0;31mModuleNotFoundError\u001b[0m                       Traceback (most recent call last)",
      "Cell \u001b[0;32mIn[1], line 2\u001b[0m\n\u001b[1;32m      1\u001b[0m \u001b[38;5;28;01mimport\u001b[39;00m \u001b[38;5;21;01mpyterrier\u001b[39;00m \u001b[38;5;28;01mas\u001b[39;00m \u001b[38;5;21;01mpt\u001b[39;00m\n\u001b[0;32m----> 2\u001b[0m \u001b[38;5;28;01mfrom\u001b[39;00m \u001b[38;5;21;01mpyterrier_colbert\u001b[39;00m\u001b[38;5;21;01m.\u001b[39;00m\u001b[38;5;21;01mranking\u001b[39;00m \u001b[38;5;28;01mimport\u001b[39;00m ColBERTFactory, ColBERTModelOnlyRanker\n\u001b[1;32m      4\u001b[0m \u001b[38;5;66;03m# Initialize PyTerrier\u001b[39;00m\n\u001b[1;32m      5\u001b[0m \u001b[38;5;28;01mif\u001b[39;00m \u001b[38;5;129;01mnot\u001b[39;00m pt\u001b[38;5;241m.\u001b[39mstarted():\n",
      "\u001b[0;31mModuleNotFoundError\u001b[0m: No module named 'pyterrier_colbert'"
     ]
    }
   ],
   "source": [
    "# Specify the ColBERT model and checkpoint path\n",
    "checkpoint_path = \"path/to/colbert_checkpoint\"\n",
    "\n",
    "# Set up the ColBERT model\n",
    "config = ColBERTConfig(\n",
    "    nbits=2, # quantization\n",
    "    bsize=128, # batch size\n",
    "    root='.', # root directory for ColBERT data\n",
    "    experiment='experiment_name', # name for the experiment\n",
    ")\n",
    "\n",
    "colbert = ColBERT.from_pretrained('bert-base-uncased', config=config)\n",
    "\n",
    "# Create the ColBERT re-ranker\n",
    "factory = ColBERTFactory(checkpoint=checkpoint_path, config=config)\n",
    "reranker = factory.text_scorer()\n",
    "\n",
    "# Apply the re-ranker to the top 10 results\n",
    "reranked_results = reranker.transform(top10)\n",
    "\n",
    "# Print the reranked results\n",
    "print(reranked_results)"
   ]
  }
 ],
 "metadata": {
  "kernelspec": {
   "display_name": "Python 3",
   "language": "python",
   "name": "python3"
  },
  "language_info": {
   "codemirror_mode": {
    "name": "ipython",
    "version": 3
   },
   "file_extension": ".py",
   "mimetype": "text/x-python",
   "name": "python",
   "nbconvert_exporter": "python",
   "pygments_lexer": "ipython3",
   "version": "3.10.12"
  }
 },
 "nbformat": 4,
 "nbformat_minor": 2
}
