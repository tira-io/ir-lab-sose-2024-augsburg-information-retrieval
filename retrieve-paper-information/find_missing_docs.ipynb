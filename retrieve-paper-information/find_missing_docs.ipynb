{
 "cells": [
  {
   "cell_type": "code",
   "execution_count": 1,
   "metadata": {},
   "outputs": [],
   "source": [
    "import json\n",
    "import os\n",
    "\n",
    "\n",
    "if os.getcwd().endswith('retrieve-paper-information'):\n",
    "    os.chdir('..')\n",
    "\n",
    "with open('data/tira_documents_retrieved.json', 'r') as file:\n",
    "            retrieved_documents = json.load(file)\n",
    "\n",
    "with open('data/tira_documents.json', 'r') as file:\n",
    "            tira_documents = json.load(file)\n",
    "\n",
    "\n",
    "tira_documents = {doc['docno']: doc['text'] for doc in tira_documents}"
   ]
  },
  {
   "cell_type": "code",
   "execution_count": 2,
   "metadata": {},
   "outputs": [],
   "source": [
    "missing_ids = [doc for doc, info in retrieved_documents.items() if info is None]\n",
    "\n",
    "missing_results = [{'docno': doc, 'text': tira_documents[doc]} for doc in missing_ids]"
   ]
  },
  {
   "cell_type": "code",
   "execution_count": 6,
   "metadata": {},
   "outputs": [
    {
     "name": "stdout",
     "output_type": "stream",
     "text": [
      "Missing results: 20739\n",
      "Percentage of missing results: 16%\n"
     ]
    }
   ],
   "source": [
    "print(f'Missing results: {len(missing_results)}')\n",
    "print(f'Percentage of missing results: {round((len(missing_results) / len(retrieved_documents))*100)}%')"
   ]
  },
  {
   "cell_type": "code",
   "execution_count": 4,
   "metadata": {},
   "outputs": [],
   "source": [
    "with open('data/tira_docs_missing.json', 'w') as file:\n",
    "        json.dump(missing_results, file)"
   ]
  },
  {
   "cell_type": "code",
   "execution_count": 5,
   "metadata": {},
   "outputs": [
    {
     "name": "stdout",
     "output_type": "stream",
     "text": [
      "Saved tira_missing_docs_0.json\n",
      "Saved tira_missing_docs_1.json\n",
      "Saved tira_missing_docs_2.json\n",
      "Saved tira_missing_docs_3.json\n",
      "Saved tira_missing_docs_4.json\n"
     ]
    }
   ],
   "source": [
    "chunk_size = 5000\n",
    "\n",
    "splitted_docs = [missing_results[i:i + chunk_size] for i in range(0, len(missing_results), chunk_size)]\n",
    "\n",
    "\n",
    "\n",
    "for i, docs in enumerate(splitted_docs):\n",
    "    \n",
    "    with open(f'data/splitted_docs/tira_missing_docs_{i}.json', 'w') as file:\n",
    "        json.dump(docs, file)\n",
    "    print(f'Saved tira_missing_docs_{i}.json')"
   ]
  }
 ],
 "metadata": {
  "kernelspec": {
   "display_name": "Python 3",
   "language": "python",
   "name": "python3"
  },
  "language_info": {
   "codemirror_mode": {
    "name": "ipython",
    "version": 3
   },
   "file_extension": ".py",
   "mimetype": "text/x-python",
   "name": "python",
   "nbconvert_exporter": "python",
   "pygments_lexer": "ipython3",
   "version": "3.10.12"
  }
 },
 "nbformat": 4,
 "nbformat_minor": 2
}
