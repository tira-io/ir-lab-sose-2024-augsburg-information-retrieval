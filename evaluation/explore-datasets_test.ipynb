{
 "cells": [
  {
   "cell_type": "markdown",
   "metadata": {},
   "source": [
    "# Explore The Key Concepts of IR Experiments: Topics, Documents, and Relevance Judgments\n",
    "\n",
    "Get some ideas on what you want to focus on. Is it precision? Is it Recall? "
   ]
  },
  {
   "cell_type": "code",
   "execution_count": 1,
   "metadata": {},
   "outputs": [],
   "source": [
    "from tira.third_party_integrations import ir_datasets\n",
    "\n",
    "dataset = ir_datasets.load('ir-lab-sose-2024/ir-acl-anthology-20240504-training')\n"
   ]
  },
  {
   "cell_type": "code",
   "execution_count": 3,
   "metadata": {},
   "outputs": [
    {
     "name": "stdout",
     "output_type": "stream",
     "text": [
      "['EXTENSIONS', 'PREFIX', '_DynamicDocs__parsed_docs', '_DynamicQueries__get_queries', '__class__', '__delattr__', '__dict__', '__dir__', '__doc__', '__eq__', '__format__', '__ge__', '__get__', '__getattr__', '__getattribute__', '__gt__', '__hash__', '__init__', '__init_subclass__', '__le__', '__lt__', '__module__', '__ne__', '__new__', '__reduce__', '__reduce_ex__', '__repr__', '__self__', '__self_class__', '__setattr__', '__sizeof__', '__str__', '__subclasshook__', '__thisclass__', '__weakref__', 'docs', 'docs_cls', 'docs_count', 'docs_handler', 'docs_iter', 'docs_lang', 'docs_namespace', 'docs_store', 'get_input_file', 'input_file', 'load_default_text', 'original_qrels', 'qrels', 'qrels_cls', 'qrels_defs', 'qrels_handler', 'qrels_iter', 'qrels_path', 'queries', 'queries_cls', 'queries_handler', 'queries_iter', 'queries_lang', 'queries_namespace', 'stream_docs']\n"
     ]
    }
   ],
   "source": [
    "print(dir(dataset))\n",
    "# 'docs', 'docs_cls', 'docs_count', 'docs_handler', 'docs_iter', 'docs_lang', 'docs_namespace', 'docs_store', 'get_input_file', 'input_file', 'load_default_text', 'original_qrels', 'qrels', 'qrels_cls', 'qrels_defs', 'qrels_handler', 'qrels_iter', 'qrels_path', 'queries', 'queries_cls', 'queries_handler', 'queries_iter', 'queries_lang', 'queries_namespace', 'stream_docs'"
   ]
  },
  {
   "cell_type": "code",
   "execution_count": 9,
   "metadata": {},
   "outputs": [
    {
     "name": "stdout",
     "output_type": "stream",
     "text": [
      "Total number of queries: 68\n"
     ]
    },
    {
     "data": {
      "text/plain": [
       "[TirexQuery(query_id='1', text='retrieval system improving effectiveness', title='retrieval system improving effectiveness', query='retrieval system improving effectiveness', description='What papers focus on improving the effectiveness of a retrieval system?', narrative='Relevant papers include research on what makes a retrieval system effective and what improves the effectiveness of a retrieval system. Papers that focus on improving something else or improving the effectiveness of a system that is not a retrieval system are not relevant.'),\n",
       " TirexQuery(query_id='2', text='machine learning language identification', title='machine learning language identification', query='machine learning language identification', description='What papers are about machine learning for language identification?', narrative='Relevant papers include research on methods of machine learning for language identification or how to improve those methods. Papers that focus on other methods for language identification or the usaged of machine learning not for language identification are not relevant.'),\n",
       " TirexQuery(query_id='3', text='social media detect self-harm', title='social media detect self-harm', query='social media detect self-harm', description=\"Which papers focus on how to recognize signs of self-harm in people's social media posts?\", narrative='Relevant papers include research on early detection of self-harm on social media platforms such as Facebook, Instagram, Reddit, Twitter and co. Papers that addresses mental health issues like depression or anorexia are not relevant. Furthermore, papers that deal with self-harm but are not related to social media are also not relevant.'),\n",
       " TirexQuery(query_id='4', text='stemming for arabic languages', title='stemming for arabic languages', query='stemming for arabic languages', description='Which papers focus on improving stemming in arabic languages?', narrative='Relevant papers include research on stemming methods for arabic languages or how to improve those methods. Papers that focus on stemming in other languages are not relevant, as well as papers that do not focus on stemming.'),\n",
       " TirexQuery(query_id='5', text='audio based animal recognition', title='audio based animal recognition', query='audio based animal recognition', description='Which papers focus on classifying animal species by sound?', narrative='Relevant papers focus on recognizing the species of animals or sub-classes of animals via their sound profile. Papers that focus on other audio recognition fields such as music are not relevant.'),\n",
       " TirexQuery(query_id='6', text='Comparison different retrieval models', title='Comparison different retrieval models', query='Comparison different retrieval models', description='Which different retrieval models exist and what are their similarities and differences?', narrative='Relevant documents include the description and comparison of at least two different retrieval models. Documents containing only information about one specific retrieval model are not relevant.'),\n",
       " TirexQuery(query_id='7', text='Cache architecture', title='Cache architecture', query='Cache architecture', description='How are caches composed and how does their architecture function?', narrative='Relevant documents include the description of the structure of a cache. Documents that only provide general information about caches and their function are not relevant.'),\n",
       " TirexQuery(query_id='8', text='Document scoping formula', title='Document scoping formula', query='Document scoping formula', description='How was the formula for document scoping developed?', narrative=\"Relevant documents include information about how the formula for document scoping was derived from it's variables. Documents only using the formula are not relevant.\"),\n",
       " TirexQuery(query_id='9', text='Pseudo-relevance feedback', title='Pseudo-relevance feedback', query='Pseudo-relevance feedback', description='How does pseudo-relevance feedback improve a query?', narrative='Documents that specifically showcase how this method is used to improve the query are relevant. Documents which prove the effectiveness of the method are not relevant.'),\n",
       " TirexQuery(query_id='10', text='How to represent natural conversations in word nets', title='How to represent natural conversations in word nets', query='How to represent natural conversations in word nets', description='How is it possible to filter and classify information that can be found in chats and interviews?', narrative='Relevant documents include information about effective complexity reduction of natural conversations and how to put the extracted content in an order. Not relevant documents are those who speak about data bases and artifically obtained data.'),\n",
       " TirexQuery(query_id='11', text='Algorithm acceleration with Nvidia CUDA', title='Algorithm acceleration with Nvidia CUDA', query='Algorithm acceleration with Nvidia CUDA', description='Developing new algorithms and improving the existing ones leveraging a graphics processing unit with CUDA', narrative='Relevant entries only include information about the Nvidia CUDA computing platform. Entries not mentioning CUDA as the main tool are irrelevant. Entries about other computing platforms, such as AMD ROCm are irrelevant.'),\n",
       " TirexQuery(query_id='12', text='mention of algorithm', title='mention of algorithm', query='mention of algorithm', description='What entries mention algorithms in their abstract?', narrative='Relevant entries mention algorithms as part of their work. Entries containing one or more algorithms are both relevant.'),\n",
       " TirexQuery(query_id='13', text='at least three authors', title='at least three authors', query='at least three authors', description='Which entries have at least three authors?', narrative='Relevant entries have at least three authors. Entries containing only one or two authors are not relevant.'),\n",
       " TirexQuery(query_id='14', text='German domain', title='German domain', query='German domain', description='Which entries include German domains?', narrative='Relevant entries include links with a German domain. Entries ending with .de are relevant.'),\n",
       " TirexQuery(query_id='15', text=' mention of open source ', title=' mention of open source ', query=' mention of open source ', description=' Which entries mention open source software/projects ', narrative='Relevant entries mention open source projects or software. Entries containing the phrase \"open source\" are relevant. '),\n",
       " TirexQuery(query_id='16', text='Inclusion of text-mining', title='Inclusion of text-mining', query='Inclusion of text-mining', description='Which entries mention text-mining?', narrative='Relevant entries mention text-mining as one of their methods. Entries including text-mining, e. g. in their abstract or keywords.'),\n",
       " TirexQuery(query_id='17', text='The Ethics of Artificial Intelligence', title='The Ethics of Artificial Intelligence', query='The Ethics of Artificial Intelligence', description='What are the ethical considerations surrounding the development and use of artificial intelligence?', narrative='Relevant entries should explore the ethical issues related to artificial intelligence, including accountability and responsibility, privacy and surveillance, job displacement, and the potential for AI to be used for harm.'),\n",
       " TirexQuery(query_id='19', text='machine learning for more relevant results', title='machine learning for more relevant results', query='machine learning for more relevant results', description='Which papers describe methods to find more relevant results using machine learning?', narrative='Relevant papers describe one or more methods to find more relevant results using machine learning. Papers about just machine learning in IR in general or papers just about finding more relevant results are not relevant.'),\n",
       " TirexQuery(query_id='20', text='Crawling websites using machine learning', title='Crawling websites using machine learning', query='Crawling websites using machine learning', description='Papers that describe how to use AI to crawl the context of websites more efficient.', narrative='Papers in this topic describe methods and algorithms to use machine learning for crawling. They also contain information on the latest research findings on the topic. Papers about crawling methods without AI are not relevant for this topic.'),\n",
       " TirexQuery(query_id='21', text='Recommenders influence on users', title='Recommenders influence on users', query='Recommenders influence on users', description='Papers that describe the change in user behaviour because of recommenders?', narrative='Relevant papers describe how users are affected by recommenders, papers about the recommenders from a technological point of view are not relevant')]"
      ]
     },
     "execution_count": 9,
     "metadata": {},
     "output_type": "execute_result"
    }
   ],
   "source": [
    "queries = [i for i in dataset.queries_iter()]\n",
    "\n",
    "# Count the total number of queries\n",
    "total_queries = sum(1 for _ in dataset.queries_iter())\n",
    "\n",
    "print(f\"Total number of queries: {total_queries}\")\n",
    "\n",
    "queries[:20]\n",
    "\n",
    "# text, title, query are the same. "
   ]
  },
  {
   "cell_type": "code",
   "execution_count": 5,
   "metadata": {},
   "outputs": [],
   "source": [
    "docs_store = dataset.docs_store()"
   ]
  },
  {
   "cell_type": "code",
   "execution_count": 6,
   "metadata": {},
   "outputs": [
    {
     "data": {
      "text/plain": [
       "<tira.ir_datasets_util.DictDocsstore at 0x7caba6e704c0>"
      ]
     },
     "execution_count": 6,
     "metadata": {},
     "output_type": "execute_result"
    }
   ],
   "source": [
    "docs_store"
   ]
  },
  {
   "cell_type": "code",
   "execution_count": 10,
   "metadata": {},
   "outputs": [
    {
     "name": "stdout",
     "output_type": "stream",
     "text": [
      "TrecQrel(query_id='1', doc_id='2005.ipm_journal-ir0volumeA41A1.7', relevance=1, iteration='0')\n",
      "Total number of relevance judgments: 2623\n"
     ]
    }
   ],
   "source": [
    "for i in dataset.qrels_iter():\n",
    "    print(i)\n",
    "    # look only at the first example\n",
    "    break\n",
    "\n",
    "# Count the total number of relevance judgments\n",
    "total_qrels = sum(1 for _ in dataset.qrels_iter())\n",
    "\n",
    "print(f\"Total number of relevance judgments: {total_qrels}\")"
   ]
  },
  {
   "cell_type": "code",
   "execution_count": 8,
   "metadata": {},
   "outputs": [
    {
     "data": {
      "text/plain": [
       "GenericDoc(doc_id='2005.ipm_journal-ir0volumeA41A1.7', text='A probabilistic model for stemmer generation\\n\\n\\n AbstractIn this paper we will present a language-independent probabilistic model which can automatically generate stemmers. Stemmers can improve the retrieval effectiveness of information retrieval systems, however the designing and the implementation of stemmers requires a laborious amount of effort due to the fact that documents and queries are often written or spoken in several different languages. The probabilistic model proposed in this paper aims at the development of stemmers used for several languages. The proposed model describes the mutual reinforcement relationship between stems and derivations and then provides a probabilistic interpretation. A series of experiments shows that the stemmers generated by the probabilistic model are as effective as the ones based on linguistic knowledge.')"
      ]
     },
     "execution_count": 8,
     "metadata": {},
     "output_type": "execute_result"
    }
   ],
   "source": [
    "docs_store.get('2005.ipm_journal-ir0volumeA41A1.7')"
   ]
  }
 ],
 "metadata": {
  "kernelspec": {
   "display_name": "Python 3",
   "language": "python",
   "name": "python3"
  },
  "language_info": {
   "codemirror_mode": {
    "name": "ipython",
    "version": 3
   },
   "file_extension": ".py",
   "mimetype": "text/x-python",
   "name": "python",
   "nbconvert_exporter": "python",
   "pygments_lexer": "ipython3",
   "version": "3.10.12"
  }
 },
 "nbformat": 4,
 "nbformat_minor": 2
}
