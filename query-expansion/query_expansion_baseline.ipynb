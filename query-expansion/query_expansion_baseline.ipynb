{
 "cells": [
  {
   "cell_type": "code",
   "execution_count": 14,
   "metadata": {},
   "outputs": [],
   "source": [
    "# Imports\n",
    "from tira.third_party_integrations import ensure_pyterrier_is_loaded, persist_and_normalize_run\n",
    "from tira.rest_api_client import Client\n",
    "import pyterrier as pt"
   ]
  },
  {
   "cell_type": "code",
   "execution_count": 15,
   "metadata": {},
   "outputs": [],
   "source": [
    "# Create a REST client to the TIRA platform for retrieving the pre-indexed data.\n",
    "ensure_pyterrier_is_loaded()\n",
    "tira = Client()\n",
    "\n",
    "# The dataset: the union of the IR Anthology and the ACL Anthology\n",
    "# This line creates an IRDSDataset object and registers it under the name provided as an argument.\n",
    "pt_dataset = pt.get_dataset('irds:ir-lab-sose-2024/ir-acl-anthology-20240504-training')\n",
    "\n",
    "# A (pre-built) PyTerrier index loaded from TIRA\n",
    "index = tira.pt.index('ir-lab-sose-2024/tira-ir-starter/Index (tira-ir-starter-pyterrier)', pt_dataset)"
   ]
  },
  {
   "cell_type": "code",
   "execution_count": 16,
   "metadata": {},
   "outputs": [],
   "source": [
    "bm25 = pt.BatchRetrieve(index, wmodel=\"BM25\")\n",
    "\n",
    "# Baseline Query Expansions\n",
    "bo1 = pt.rewrite.Bo1QueryExpansion(index)\n",
    "kl = pt.rewrite.KLQueryExpansion(index)\n",
    "rm3 = pt.rewrite.RM3(index)\n",
    "\n",
    "# Example pipeline\n",
    "pipeline_bo1 = bm25 >> bo1 >> bm25\n",
    "pipeline_kl = bm25 >> kl >> bm25\n",
    "pipeline_rm3 = bm25 >> rm3 >> bm25"
   ]
  },
  {
   "cell_type": "code",
   "execution_count": 17,
   "metadata": {},
   "outputs": [
    {
     "name": "stdout",
     "output_type": "stream",
     "text": [
      "19:31:14.322 [main] WARN org.terrier.querying.RM1 - Did not identify any usable candidate expansion terms from docid 125137 among 5 possibilities\n",
      "19:31:14.949 [main] WARN org.terrier.querying.RM1 - Did not identify any usable candidate expansion terms from docid 116910 among 4 possibilities\n",
      "The run file is normalized outside the TIRA sandbox, I will store it at \"../runs/bo1\".\n",
      "Done. run file is stored under \"../runs/bo1/run.txt\".\n",
      "The run file is normalized outside the TIRA sandbox, I will store it at \"../runs/kl\".\n",
      "Done. run file is stored under \"../runs/kl/run.txt\".\n",
      "The run file is normalized outside the TIRA sandbox, I will store it at \"../runs/rm3\".\n",
      "Done. run file is stored under \"../runs/rm3/run.txt\".\n"
     ]
    }
   ],
   "source": [
    "run_bo1 = pipeline_bo1(pt_dataset.get_topics('text'))\n",
    "run_kl = pipeline_kl(pt_dataset.get_topics('text'))\n",
    "run_rm3 = pipeline_rm3(pt_dataset.get_topics('text'))\n",
    "\n",
    "persist_and_normalize_run(run_bo1, system_name='bo1', default_output='../runs/bo1')\n",
    "persist_and_normalize_run(run_kl, system_name='kl', default_output='../runs/kl')\n",
    "persist_and_normalize_run(run_rm3, system_name='rm3', default_output='../runs/rm3')\n"
   ]
  },
  {
   "cell_type": "code",
   "execution_count": 18,
   "metadata": {},
   "outputs": [
    {
     "name": "stdout",
     "output_type": "stream",
     "text": [
      "There are multiple query fields available: ('text', 'title', 'query', 'description', 'narrative'). To use with pyterrier, provide variant or modify dataframe to add query column.\n"
     ]
    },
    {
     "data": {
      "text/html": [
       "<div>\n",
       "<style scoped>\n",
       "    .dataframe tbody tr th:only-of-type {\n",
       "        vertical-align: middle;\n",
       "    }\n",
       "\n",
       "    .dataframe tbody tr th {\n",
       "        vertical-align: top;\n",
       "    }\n",
       "\n",
       "    .dataframe thead th {\n",
       "        text-align: right;\n",
       "    }\n",
       "</style>\n",
       "<table border=\"1\" class=\"dataframe\">\n",
       "  <thead>\n",
       "    <tr style=\"text-align: right;\">\n",
       "      <th></th>\n",
       "      <th>name</th>\n",
       "      <th>ndcg_cut.10</th>\n",
       "      <th>recip_rank</th>\n",
       "      <th>recall_100</th>\n",
       "    </tr>\n",
       "  </thead>\n",
       "  <tbody>\n",
       "    <tr>\n",
       "      <th>0</th>\n",
       "      <td>BO1</td>\n",
       "      <td>0.378220</td>\n",
       "      <td>0.571535</td>\n",
       "      <td>0.595545</td>\n",
       "    </tr>\n",
       "    <tr>\n",
       "      <th>1</th>\n",
       "      <td>KL</td>\n",
       "      <td>0.379452</td>\n",
       "      <td>0.565090</td>\n",
       "      <td>0.583871</td>\n",
       "    </tr>\n",
       "    <tr>\n",
       "      <th>2</th>\n",
       "      <td>RM3</td>\n",
       "      <td>0.333132</td>\n",
       "      <td>0.556066</td>\n",
       "      <td>0.558675</td>\n",
       "    </tr>\n",
       "    <tr>\n",
       "      <th>3</th>\n",
       "      <td>BM 25 (Baseline)</td>\n",
       "      <td>0.374041</td>\n",
       "      <td>0.579877</td>\n",
       "      <td>0.601333</td>\n",
       "    </tr>\n",
       "    <tr>\n",
       "      <th>4</th>\n",
       "      <td>Sparse Cross Encoder</td>\n",
       "      <td>0.366460</td>\n",
       "      <td>0.612980</td>\n",
       "      <td>0.601333</td>\n",
       "    </tr>\n",
       "    <tr>\n",
       "      <th>5</th>\n",
       "      <td>RankZephyr</td>\n",
       "      <td>0.347070</td>\n",
       "      <td>0.568413</td>\n",
       "      <td>0.601333</td>\n",
       "    </tr>\n",
       "  </tbody>\n",
       "</table>\n",
       "</div>"
      ],
      "text/plain": [
       "                   name  ndcg_cut.10  recip_rank  recall_100\n",
       "0                   BO1     0.378220    0.571535    0.595545\n",
       "1                    KL     0.379452    0.565090    0.583871\n",
       "2                   RM3     0.333132    0.556066    0.558675\n",
       "3      BM 25 (Baseline)     0.374041    0.579877    0.601333\n",
       "4  Sparse Cross Encoder     0.366460    0.612980    0.601333\n",
       "5            RankZephyr     0.347070    0.568413    0.601333"
      ]
     },
     "execution_count": 18,
     "metadata": {},
     "output_type": "execute_result"
    }
   ],
   "source": [
    "# Some baselines that were executed in TIRA\n",
    "\n",
    "bm25_baseline = tira.pt.from_submission('ir-benchmarks/tira-ir-starter/BM25 (tira-ir-starter-pyterrier)', pt_dataset)\n",
    "sparse_cross_encoder = tira.pt.from_submission('ir-benchmarks/fschlatt/sparse-cross-encoder-4-512', pt_dataset)\n",
    "rank_zephyr = tira.pt.from_submission('workshop-on-open-web-search/fschlatt/rank-zephyr', pt_dataset)\n",
    "\n",
    "# This assumes we have execited the ../baseline-retrieval-system/baseline-retrieval-system.ipynb notebook before.\n",
    "bo1_result = pt.io.read_results('../runs/bo1/run.txt')\n",
    "kl_result = pt.io.read_results('../runs/kl/run.txt')\n",
    "rm3_result = pt.io.read_results('../runs/rm3/run.txt')\n",
    "\n",
    "pt.Experiment(\n",
    "    [bo1_result, kl_result, rm3_result, bm25_baseline, sparse_cross_encoder, rank_zephyr],\n",
    "    pt_dataset.get_topics(),\n",
    "    pt_dataset.get_qrels(),\n",
    "    [\"ndcg_cut.10\", \"recip_rank\", \"recall_100\"],\n",
    "    names=[\"BO1\", \"KL\", \"RM3\", \"BM 25 (Baseline)\", \"Sparse Cross Encoder\", \"RankZephyr\"]\n",
    ")\n"
   ]
  }
 ],
 "metadata": {
  "kernelspec": {
   "display_name": "Python 3",
   "language": "python",
   "name": "python3"
  },
  "language_info": {
   "codemirror_mode": {
    "name": "ipython",
    "version": 3
   },
   "file_extension": ".py",
   "mimetype": "text/x-python",
   "name": "python",
   "nbconvert_exporter": "python",
   "pygments_lexer": "ipython3",
   "version": "3.10.12"
  }
 },
 "nbformat": 4,
 "nbformat_minor": 2
}
