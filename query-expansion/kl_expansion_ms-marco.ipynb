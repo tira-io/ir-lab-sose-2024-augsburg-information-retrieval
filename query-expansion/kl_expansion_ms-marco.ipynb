{
 "cells": [
  {
   "cell_type": "code",
   "execution_count": 6,
   "metadata": {},
   "outputs": [],
   "source": [
    "# Imports\n",
    "from tira.third_party_integrations import ensure_pyterrier_is_loaded, persist_and_normalize_run\n",
    "import pyterrier as pt\n",
    "import json\n",
    "import pandas as pd\n",
    "\n",
    "# Create a REST client to the TIRA platform for retrieving the pre-indexed data.\n",
    "ensure_pyterrier_is_loaded()\n",
    "# tira = Client()"
   ]
  },
  {
   "cell_type": "code",
   "execution_count": 8,
   "metadata": {},
   "outputs": [],
   "source": [
    "# Define the dataset and index name\n",
    "dataset_name = 'msmarco_passage'\n",
    "index_name = 'terrier_stemmed'\n",
    "\n",
    "# Load the index\n",
    "dataset = pt.get_dataset(dataset_name)\n",
    "index_ref = dataset.get_index(index_name)\n",
    "\n",
    "# Create a BM25 transformer\n",
    "# bm25_terrier_stemmed = pt.BatchRetrieve.from_dataset(dataset_name, index_name, wmodel='BM25')\n",
    "bm25 = pt.BatchRetrieve(index_ref, wmodel='BM25')"
   ]
  },
  {
   "cell_type": "code",
   "execution_count": 10,
   "metadata": {},
   "outputs": [
    {
     "name": "stdout",
     "output_type": "stream",
     "text": [
      "Original Queries:\n",
      "   qid                                              query\n",
      "0    1                                        what is rba\n",
      "1    2                       was ronald reagan a democrat\n",
      "2    3  how long do you need for sydney and surroundin...\n",
      "Expanded Queries DataFrame:\n",
      "0    applypipeline:off rba^1.846029471 type^0.04316...\n",
      "1    applypipeline:off ronald^1.246149665 reagan^1....\n",
      "2    applypipeline:off long^1.000000000 need^1.0000...\n",
      "Name: query, dtype: object\n"
     ]
    }
   ],
   "source": [
    "kl = pt.rewrite.KLQueryExpansion(index_ref, fb_terms=10, fb_docs=3)\n",
    "# Define the pipeline: BM25 followed by KLQueryExpansion\n",
    "pipeline = bm25 >> kl\n",
    "\n",
    "# Get the topics (queries) from the dataset\n",
    "# queries_df = dataset.get_topics('train')\n",
    "queries = [\n",
    "    {\"qid\": 1, \"query\": \"what is rba\"},\n",
    "    {\"qid\": 2, \"query\": \"was ronald reagan a democrat\"},\n",
    "    {\"qid\": 3, \"query\": \"how long do you need for sydney and surrounding areas\"}\n",
    "]\n",
    "queries_df = pd.DataFrame(queries)\n",
    "\n",
    "# Display the first few queries\n",
    "print(\"Original Queries:\")\n",
    "print(queries_df.head())\n",
    "\n",
    "# Apply the pipeline to the topics (queries)\n",
    "expanded_queries = pipeline.transform(queries_df)['query'] # \"query_0\": original query\n",
    "print(expanded_queries)\n"
   ]
  }
 ],
 "metadata": {
  "kernelspec": {
   "display_name": "Python 3",
   "language": "python",
   "name": "python3"
  },
  "language_info": {
   "codemirror_mode": {
    "name": "ipython",
    "version": 3
   },
   "file_extension": ".py",
   "mimetype": "text/x-python",
   "name": "python",
   "nbconvert_exporter": "python",
   "pygments_lexer": "ipython3",
   "version": "3.10.12"
  }
 },
 "nbformat": 4,
 "nbformat_minor": 2
}
