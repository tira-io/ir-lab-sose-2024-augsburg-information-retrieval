{
 "cells": [
  {
   "cell_type": "markdown",
   "metadata": {},
   "source": [
    "## Analyse des Datensatzes: Dokumenten-Korpus, Queries und Jeweilige Relevanten Dokumente\n",
    "\n",
    "Diese Analyse ist um den Korpus besser zu verstehen.\n",
    "Es werden Statistiken auf Corpus-Ebene (Dokumentenlängen etc.) und auf Text-Ebene (Häufige Wörter etc.) berechnet.\n",
    "\n",
    "<!--Die erhaltenen Informationen sind nützlich für das Pre-Processing der Texte (Zahlenwerte, Sonderzeichen, Textlängen, Abkürzungen, usw.) -->\n",
    "\n",
    "<details>\n",
    "<summary> Overview of analysis </summary>\n",
    "\n",
    "Dataset size:\n",
    "- Total number of documents\n",
    "- Total number of queries\n",
    "- Number of relevant documents per query (from qrels)\n",
    "\n",
    "\n",
    "Document statistics:\n",
    "- Average length of documents (in words or tokens)\n",
    "- Distribution of document lengths\n",
    "- Percentage of documents with only titles vs. those with both title and abstract\n",
    "- Average length of titles and abstracts separately\n",
    "- Sentence length distribution\n",
    "- Part-of-speech distribution\n",
    "- TF-IDF analysis to identify important terms\n",
    "- Named Entity Recognition to understand the types of entities in your documents\n",
    "\n",
    "Query statistics:\n",
    "- Average length of queries (in words or tokens)\n",
    "- Distribution of query lengths\n",
    "- Types of questions (e.g., factoid, open-ended, etc.)\n",
    "- Query complexity based on noun phrases and named entities\n",
    "- Query type classification\n",
    "- Word frequency analysis\n",
    "- Query similarity analysis\n",
    "\n",
    "\n",
    "Vocabulary statistics:\n",
    "- Size of vocabulary (unique words) in the entire dataset\n",
    "- Vocabulary overlap between queries and documents\n",
    "- Detailed vocabulary size and overlap between documents and queries\n",
    "- Word frequency distributions\n",
    "- Comparison of top words in documents and queries\n",
    "- Unique words in queries not found in documents\n",
    "- TF-IDF analysis to identify important terms\n",
    "- Lexical diversity measures\n",
    "\n",
    "\n",
    "\n",
    "Domain-specific information:\n",
    "- Most common topics or keywords in the dataset\n",
    "- Distribution of publication years (if available)\n",
    "- Distribution of venues or conferences (if available)\n",
    "- Identification of potential domain-specific terms\n",
    "- Word cloud visualization of domain-specific terms\n",
    "- N-gram analysis (bigrams and trigrams)\n",
    "- Document structure analysis (title length, presence of abstract)\n",
    "- Common abbreviations in documents and queries\n",
    "- Query type classification and distribution\n",
    "\n",
    "\n",
    "Relevance judgments:\n",
    "- Average number of relevant documents per query\n",
    "- Distribution of relevance scores (if using graded relevance)\n",
    "- Distribution of relevance scores\n",
    "- Queries with most/least relevant documents\n",
    "- Correlation between query length and number of relevant documents\n",
    "- Percentage of queries with at least one relevant document\n",
    "- Average relevance score\n",
    "\n",
    "\n",
    "Data quality:\n",
    "- Presence of any non-English documents or queries\n",
    "- Presence of any duplicate documents or queries\n",
    "- Any formatting inconsistencies or errors\n",
    "\n",
    "\n",
    "For dense retrieval using FAISS + BERT-like model:\n",
    "- Token limit: Check if any documents or queries exceed the max token limit of your chosen BERT-like model.\n",
    "- Preprocessing: Determine if you need any specific preprocessing steps for scientific text (e.g., handling citations, equations, or special characters).\n",
    "- Domain adaptation: Consider if you need to fine-tune your BERT-like model on scientific text for better performance.\n",
    "- Embedding strategy: Decide how you'll handle documents with only titles vs. those with both title and abstract (e.g., separate embeddings or combined).\n",
    "- Query-document similarity: Analyze the semantic similarity between queries and their relevant documents to gauge the potential effectiveness of dense retrieval.\n",
    "- Out-of-vocabulary words: Check for domain-specific terms that might not be in your model's vocabulary.\n",
    "</details>"
   ]
  },
  {
   "cell_type": "markdown",
   "metadata": {},
   "source": [
    "#### Setup"
   ]
  },
  {
   "cell_type": "code",
   "execution_count": 2,
   "metadata": {},
   "outputs": [],
   "source": [
    "#!pip install matplotlib\n",
    "#!pip install nltk\n",
    "#!pip install python-terrier"
   ]
  },
  {
   "cell_type": "code",
   "execution_count": 25,
   "metadata": {},
   "outputs": [
    {
     "name": "stderr",
     "output_type": "stream",
     "text": [
      "[nltk_data] Downloading package punkt to /root/nltk_data...\n",
      "[nltk_data]   Package punkt is already up-to-date!\n",
      "[nltk_data] Downloading package stopwords to /root/nltk_data...\n",
      "[nltk_data]   Package stopwords is already up-to-date!\n"
     ]
    }
   ],
   "source": [
    "import os\n",
    "import re\n",
    "import json\n",
    "from collections import Counter\n",
    "import string\n",
    "\n",
    "import numpy as np\n",
    "import matplotlib.pyplot as plt\n",
    "from sklearn.feature_extraction.text import TfidfVectorizer\n",
    "import pandas as pd\n",
    "pd.set_option(\"display.max_colwidth\", None)\n",
    "pd.set_option(\"display.max_columns\", None)\n",
    "pd.set_option(\"display.width\", None)\n",
    "pd.set_option(\"display.precision\", 4)\n",
    "pd.set_option(\"display.max_rows\", None)\n",
    "pd.set_option('display.float_format', '{:.5f}'.format)\n",
    "\n",
    "from nltk.tokenize import word_tokenize\n",
    "from nltk.corpus import stopwords\n",
    "import nltk\n",
    "nltk.download('punkt')\n",
    "nltk.download('stopwords')\n",
    "\n",
    "import pyterrier as pt\n",
    "from tira.third_party_integrations import ensure_pyterrier_is_loaded\n",
    "from tira.third_party_integrations import ir_datasets\n",
    "from tira.rest_api_client import Client\n",
    "ensure_pyterrier_is_loaded()\n",
    "tira = Client()"
   ]
  },
  {
   "cell_type": "markdown",
   "metadata": {},
   "source": [
    "#### Dataset"
   ]
  },
  {
   "cell_type": "code",
   "execution_count": 14,
   "metadata": {},
   "outputs": [
    {
     "name": "stdout",
     "output_type": "stream",
     "text": [
      "There are multiple query fields available: ('text', 'title', 'query', 'description', 'narrative'). To use with pyterrier, provide variant or modify dataframe to add query column.\n"
     ]
    }
   ],
   "source": [
    "dataset = pt.get_dataset('irds:ir-lab-sose-2024/ir-acl-anthology-20240504-training')\n",
    "#docs = dataset.get_corpus()  # only get_corpus_iter() is possible -> docs loaded from ir_datasets\n",
    "queries = dataset.get_topics()\n",
    "qrels = dataset.get_qrels()\n",
    "\n",
    "if os.path.exists(\"dataset_corpus.json\"):\n",
    "    with open(\"dataset_corpus.json\", \"r\") as f:\n",
    "        corpus = json.load(f)\n",
    "else:\n",
    "    ir_dataset = ir_datasets.load(\"ir-lab-sose-2024/ir-acl-anthology-20240504-training\")\n",
    "    corpus = ir_dataset.docs_store().docs\n",
    "    del ir_dataset"
   ]
  },
  {
   "cell_type": "code",
   "execution_count": 15,
   "metadata": {},
   "outputs": [
    {
     "name": "stdout",
     "output_type": "stream",
     "text": [
      "# docs: 126958\n",
      "# queries: 68\n",
      "# relevance judgements: 2623\n"
     ]
    }
   ],
   "source": [
    "corpus = [{\"docno\": v[0], \"text\": v[1]} for v in corpus.values()]\n",
    "docs_df = pd.DataFrame(corpus)\n",
    "queries_df = pd.DataFrame(queries)\n",
    "qrels_df = pd.DataFrame(qrels)\n",
    "\n",
    "print(f\"# docs: {len(docs_df)}\")\n",
    "print(f\"# queries: {len(queries_df)}\")\n",
    "print(f\"# relevance judgements: {len(qrels_df)}\")"
   ]
  },
  {
   "cell_type": "code",
   "execution_count": 19,
   "metadata": {},
   "outputs": [
    {
     "name": "stdout",
     "output_type": "stream",
     "text": [
      "['docno', 'text']\n",
      "['qid', 'text', 'title', 'query', 'description', 'narrative', 'query_length']\n",
      "['qid', 'docno', 'label', 'iteration']\n"
     ]
    }
   ],
   "source": [
    "print(list(docs_df.columns))\n",
    "print(list(queries_df.columns))\n",
    "print(list(qrels_df.columns))"
   ]
  },
  {
   "cell_type": "markdown",
   "metadata": {},
   "source": [
    "#### Document Statistics"
   ]
  },
  {
   "cell_type": "code",
   "execution_count": 17,
   "metadata": {},
   "outputs": [
    {
     "name": "stdout",
     "output_type": "stream",
     "text": [
      "Average document length: 102.62 words\n",
      "Percentage of documents with abstract: 68.73%\n"
     ]
    },
    {
     "data": {
      "image/png": "[encoded data removed]",
      "text/plain": [
       "<Figure size 1000x500 with 1 Axes>"
      ]
     },
     "metadata": {},
     "output_type": "display_data"
    }
   ],
   "source": [
    "docs_df['doc_length'] = docs_df['text'].apply(lambda x: len(x.split()))\n",
    "docs_df['has_abstract'] = docs_df['text'].apply(lambda x: '\\n\\n' in x)\n",
    "\n",
    "print(f\"Average document length: {docs_df['doc_length'].mean():.2f} words\")\n",
    "print(f\"Percentage of documents with abstract: {docs_df['has_abstract'].mean()*100:.2f}%\")\n",
    "\n",
    "plt.figure(figsize=(10, 5))\n",
    "plt.hist(docs_df['doc_length'], bins=500)\n",
    "plt.title('Distribution of Document Lengths')\n",
    "#plt.xlabel('Number of Words')\n",
    "#plt.ylabel('Frequency')\n",
    "plt.show()"
   ]
  },
  {
   "cell_type": "code",
   "execution_count": 18,
   "metadata": {},
   "outputs": [
    {
     "name": "stdout",
     "output_type": "stream",
     "text": [
      "Average title length: 72.29 characters\n",
      "Average abstract length: 631.04 characters\n"
     ]
    }
   ],
   "source": [
    "# Seperate statistics for title and abstract\n",
    "def preprocess_doc(text):\n",
    "    parts = text.split('\\n\\n')\n",
    "    title = parts[0]\n",
    "    abstract = parts[1] if len(parts) > 1 else \"\"\n",
    "    return title, abstract\n",
    "\n",
    "docs_df['title'], docs_df['abstract'] = zip(*docs_df['text'].apply(preprocess_doc))\n",
    "\n",
    "print(f\"Average title length: {docs_df['title'].apply(len).mean():.2f} characters\")\n",
    "print(f\"Average abstract length: {docs_df['abstract'].apply(len).mean():.2f} characters\")"
   ]
  },
  {
   "cell_type": "code",
   "execution_count": 19,
   "metadata": {},
   "outputs": [
    {
     "name": "stdout",
     "output_type": "stream",
     "text": [
      "Average sentence length: 22.55 words\n"
     ]
    },
    {
     "data": {
      "image/png": "[encoded data removed]",
      "text/plain": [
       "<Figure size 1000x500 with 1 Axes>"
      ]
     },
     "metadata": {},
     "output_type": "display_data"
    }
   ],
   "source": [
    "# Sentence length distribution\n",
    "docs_df['sentences'] = docs_df['text'].apply(nltk.sent_tokenize)\n",
    "docs_df['sentence_lengths'] = docs_df['sentences'].apply(lambda x: [len(s.split()) for s in x])\n",
    "\n",
    "avg_sentence_length = np.mean([length for lengths in docs_df['sentence_lengths'] for length in lengths])\n",
    "print(f\"Average sentence length: {avg_sentence_length:.2f} words\")\n",
    "\n",
    "plt.figure(figsize=(10, 5))\n",
    "plt.hist([length for lengths in docs_df['sentence_lengths'] for length in lengths], bins=30)\n",
    "plt.title('Distribution of Sentence Lengths')\n",
    "plt.xlabel('Number of Words')\n",
    "plt.ylabel('Frequency')\n",
    "plt.show()"
   ]
  },
  {
   "cell_type": "code",
   "execution_count": 1,
   "metadata": {},
   "outputs": [],
   "source": [
    "# Part-of-speech distribution\n",
    "nltk.download('averaged_perceptron_tagger')\n",
    "\n",
    "def get_pos_tags(text):\n",
    "    words = nltk.word_tokenize(text)\n",
    "    return [tag for _, tag in nltk.pos_tag(words)]\n",
    "\n",
    "docs_df['pos_tags'] = docs_df['text'].apply(get_pos_tags)\n",
    "pos_counts = Counter([tag for tags in docs_df['pos_tags'] for tag in tags])\n",
    "\n",
    "plt.figure(figsize=(12, 6))\n",
    "plt.bar(pos_counts.keys(), pos_counts.values())\n",
    "plt.title('Distribution of Part-of-Speech Tags')\n",
    "plt.xlabel('POS Tag')\n",
    "plt.ylabel('Frequency')\n",
    "plt.xticks(rotation=90)\n",
    "plt.show()"
   ]
  },
  {
   "cell_type": "code",
   "execution_count": 25,
   "metadata": {},
   "outputs": [
    {
     "name": "stdout",
     "output_type": "stream",
     "text": [
      "Top 20 words by TF-IDF score:\n",
      "information: 4043.3388\n",
      "based: 3871.8306\n",
      "language: 3713.0696\n",
      "data: 3498.0407\n",
      "model: 3385.6392\n",
      "system: 3356.0732\n",
      "translation: 3057.8360\n",
      "retrieval: 2981.7503\n",
      "using: 2970.0846\n",
      "task: 2868.4674\n",
      "text: 2717.7618\n",
      "models: 2608.8632\n",
      "learning: 2474.6869\n",
      "paper: 2438.3234\n",
      "approach: 2430.2326\n",
      "search: 2402.3531\n",
      "web: 2385.8454\n",
      "word: 2336.1644\n",
      "semantic: 2225.2787\n",
      "results: 2168.7621\n"
     ]
    }
   ],
   "source": [
    "# TF-IDF analysis\n",
    "vectorizer = TfidfVectorizer(stop_words=stopwords.words('english'), max_features=1000)\n",
    "tfidf_matrix = vectorizer.fit_transform(docs_df['text'])\n",
    "\n",
    "feature_names = vectorizer.get_feature_names_out()\n",
    "tfidf_sums = tfidf_matrix.sum(axis=0).A1\n",
    "top_tfidf_words = sorted(zip(feature_names, tfidf_sums), key=lambda x: x[1], reverse=True)[:20]\n",
    "\n",
    "print(\"Top 20 words by TF-IDF score:\")\n",
    "for word, score in top_tfidf_words:\n",
    "    print(f\"{word}: {score:.4f}\")"
   ]
  },
  {
   "cell_type": "code",
   "execution_count": 7,
   "metadata": {},
   "outputs": [
    {
     "name": "stderr",
     "output_type": "stream",
     "text": [
      "[nltk_data] Downloading package maxent_ne_chunker to\n",
      "[nltk_data]     /root/nltk_data...\n",
      "[nltk_data]   Package maxent_ne_chunker is already up-to-date!\n",
      "[nltk_data] Downloading package words to /root/nltk_data...\n",
      "[nltk_data]   Package words is already up-to-date!\n"
     ]
    }
   ],
   "source": [
    "# Named Entity Recognition\n",
    "nltk.download('maxent_ne_chunker')\n",
    "nltk.download('words')\n",
    "\n",
    "def get_named_entities(text):\n",
    "    words = nltk.word_tokenize(text)\n",
    "    pos_tags = nltk.pos_tag(words)\n",
    "    return nltk.ne_chunk(pos_tags)\n",
    "\n",
    "docs_df['named_entities'] = docs_df['text'].apply(get_named_entities)\n",
    "entity_types = Counter([ne.label() for doc_ne in docs_df['named_entities'] for ne in doc_ne if isinstance(ne, nltk.Tree)])\n",
    "\n",
    "plt.figure(figsize=(10, 5))\n",
    "plt.bar(entity_types.keys(), entity_types.values())\n",
    "plt.title('Distribution of Named Entity Types')\n",
    "plt.xlabel('Entity Type')\n",
    "plt.ylabel('Frequency')\n",
    "plt.xticks(rotation=45)\n",
    "plt.show()"
   ]
  },
  {
   "cell_type": "markdown",
   "metadata": {},
   "source": [
    "#### Query Statistics"
   ]
  },
  {
   "cell_type": "code",
   "execution_count": 20,
   "metadata": {},
   "outputs": [
    {
     "name": "stdout",
     "output_type": "stream",
     "text": [
      "Average query length: 9.93 words\n"
     ]
    },
    {
     "data": {
      "image/png": "[encoded data removed]",
      "text/plain": [
       "<Figure size 1000x500 with 1 Axes>"
      ]
     },
     "metadata": {},
     "output_type": "display_data"
    }
   ],
   "source": [
    "queries_df['query_length'] = queries_df['description'].apply(lambda x: len(x.split()))\n",
    "\n",
    "print(f\"Average query length: {queries_df['query_length'].mean():.2f} words\")\n",
    "\n",
    "plt.figure(figsize=(10, 5))\n",
    "plt.hist(queries_df['query_length'], bins=20)\n",
    "plt.title('Distribution of Query Lengths')\n",
    "plt.xlabel('Number of Words')\n",
    "plt.ylabel('Frequency')\n",
    "plt.show()"
   ]
  },
  {
   "cell_type": "code",
   "execution_count": 8,
   "metadata": {},
   "outputs": [
    {
     "name": "stderr",
     "output_type": "stream",
     "text": [
      "[nltk_data] Downloading package averaged_perceptron_tagger to\n",
      "[nltk_data]     /root/nltk_data...\n",
      "[nltk_data]   Package averaged_perceptron_tagger is already up-to-\n",
      "[nltk_data]       date!\n"
     ]
    },
    {
     "name": "stdout",
     "output_type": "stream",
     "text": [
      "Query complexity statistics:\n",
      "       noun_phrase_count  entity_count\n",
      "count           68.00000      68.00000\n",
      "mean             2.38235       0.00000\n",
      "std              0.82912       0.00000\n",
      "min              0.00000       0.00000\n",
      "25%              2.00000       0.00000\n",
      "50%              2.00000       0.00000\n",
      "75%              3.00000       0.00000\n",
      "max              4.00000       0.00000\n"
     ]
    }
   ],
   "source": [
    "# Query complexity (based on number of entities and noun phrases)\n",
    "nltk.download('averaged_perceptron_tagger')\n",
    "\n",
    "def count_noun_phrases(text):\n",
    "    words = nltk.word_tokenize(text)\n",
    "    pos_tags = nltk.pos_tag(words)\n",
    "    return len([tag for tag in pos_tags if tag[1].startswith('NN')])\n",
    "\n",
    "queries_df['noun_phrase_count'] = queries_df['query'].apply(count_noun_phrases)\n",
    "queries_df['named_entities'] = queries_df['query'].apply(get_named_entities)\n",
    "queries_df['entity_count'] = queries_df['named_entities'].apply(lambda x: len([ne for ne in x if isinstance(ne, nltk.Tree)]))\n",
    "\n",
    "print(\"Query complexity statistics:\")\n",
    "print(queries_df[['noun_phrase_count', 'entity_count']].describe())"
   ]
  },
  {
   "cell_type": "code",
   "execution_count": 21,
   "metadata": {},
   "outputs": [
    {
     "data": {
      "image/png": "[encoded data removed]",
      "text/plain": [
       "<Figure size 1000x500 with 1 Axes>"
      ]
     },
     "metadata": {},
     "output_type": "display_data"
    }
   ],
   "source": [
    "# Query type classification\n",
    "def classify_query_type(query):\n",
    "    query = query.lower()\n",
    "    if query.startswith(('what', 'which', 'who')):\n",
    "        return 'Factoid'\n",
    "    elif query.startswith(('how', 'why')):\n",
    "        return 'Explanation'\n",
    "    elif query.startswith(('is', 'are', 'does', 'do')):\n",
    "        return 'Yes/No'\n",
    "    else:\n",
    "        return 'Other'\n",
    "\n",
    "queries_df['query_type'] = queries_df['description'].apply(classify_query_type)\n",
    "query_type_counts = queries_df['query_type'].value_counts()\n",
    "\n",
    "plt.figure(figsize=(10, 5))\n",
    "query_type_counts.plot(kind='bar')\n",
    "plt.title('Distribution of Query Types')\n",
    "plt.xlabel('Query Type')\n",
    "plt.ylabel('Count')\n",
    "plt.show()"
   ]
  },
  {
   "cell_type": "code",
   "execution_count": 27,
   "metadata": {},
   "outputs": [
    {
     "name": "stdout",
     "output_type": "stream",
     "text": [
      "\n",
      "Top 20 most frequent words in queries:\n",
      "[('?', 48), ('which', 31), ('papers', 26), ('the', 25), ('retrieval', 21), ('of', 20), ('in', 18), ('what', 17), ('and', 17), ('information', 16), ('on', 14), ('how', 13), ('that', 12), ('documents', 12), ('are', 10), ('to', 10), ('about', 9), ('for', 9), ('include', 8), ('algorithms', 7)]\n",
      "\n",
      "Top 20 most frequent non-stopword words in queries:\n",
      "[('?', 48), ('papers', 26), ('retrieval', 21), ('information', 16), ('documents', 12), ('include', 8), ('algorithms', 7), ('describe', 6), ('query', 5), ('entries', 5), ('.', 5), ('research', 5), ('focus', 4), ('language', 4), ('processing', 4), ('using', 4), ('search', 4), (',', 4), ('natural', 4), ('(', 4)]\n",
      "\n",
      "Top 20 most frequent non-stopword non-punctuation words in queries:\n",
      "[('papers', 26), ('retrieval', 21), ('information', 16), ('documents', 12), ('include', 8), ('algorithms', 7), ('describe', 6), ('query', 5), ('entries', 5), ('research', 5), ('focus', 4), ('language', 4), ('processing', 4), ('using', 4), ('search', 4), ('natural', 4), ('analysis', 4), ('informational', 4), ('cover', 4), ('improving', 3)]\n"
     ]
    }
   ],
   "source": [
    "# Word frequency analysis\n",
    "query_words = [word.lower() for query in queries_df['description'] for word in nltk.word_tokenize(query)]\n",
    "word_freq = Counter(query_words)\n",
    "\n",
    "print(\"\\nTop 20 most frequent words in queries:\")\n",
    "print(word_freq.most_common(20))\n",
    "\n",
    "stopwords_en = stopwords.words('english')\n",
    "query_words = [word for word in query_words if word not in stopwords_en]\n",
    "word_freq = Counter(query_words)\n",
    "\n",
    "print(\"\\nTop 20 most frequent non-stopword words in queries:\")\n",
    "print(word_freq.most_common(20))\n",
    "\n",
    "punkt = string.punctuation\n",
    "query_words = [word for word in query_words if word not in punkt]\n",
    "word_freq = Counter(query_words)\n",
    "\n",
    "print(\"\\nTop 20 most frequent non-stopword non-punctuation words in queries:\")\n",
    "print(word_freq.most_common(20))"
   ]
  },
  {
   "cell_type": "code",
   "execution_count": 28,
   "metadata": {},
   "outputs": [
    {
     "name": "stdout",
     "output_type": "stream",
     "text": [
      "\n",
      "Average cosine similarity between queries: 0.0228\n"
     ]
    }
   ],
   "source": [
    "# Query similarity analysis\n",
    "from sklearn.feature_extraction.text import TfidfVectorizer\n",
    "from sklearn.metrics.pairwise import cosine_similarity\n",
    "\n",
    "vectorizer = TfidfVectorizer()\n",
    "query_vectors = vectorizer.fit_transform(queries_df['query'])\n",
    "similarity_matrix = cosine_similarity(query_vectors)\n",
    "\n",
    "avg_similarity = (similarity_matrix.sum() - similarity_matrix.shape[0]) / (similarity_matrix.shape[0] * (similarity_matrix.shape[0] - 1))\n",
    "print(f\"\\nAverage cosine similarity between queries: {avg_similarity:.4f}\")"
   ]
  },
  {
   "cell_type": "markdown",
   "metadata": {},
   "source": [
    "#### Vocab statistics"
   ]
  },
  {
   "cell_type": "code",
   "execution_count": 32,
   "metadata": {},
   "outputs": [
    {
     "name": "stdout",
     "output_type": "stream",
     "text": [
      "Document vocabulary size: 133858\n",
      "Query vocabulary size: 273\n",
      "Vocabulary overlap: 273\n",
      "Percentage of query vocabulary in document vocabulary: 100.00%\n"
     ]
    }
   ],
   "source": [
    "def get_vocabulary(text_series):\n",
    "    return [word.lower() for text in text_series for word in re.findall(r'\\w+', text)]\n",
    "\n",
    "doc_words = get_vocabulary(docs_df['text'])\n",
    "doc_vocab = set(doc_words)\n",
    "query_words = get_vocabulary(queries_df['description'])\n",
    "query_vocab = set(query_words)\n",
    "\n",
    "print(f\"Document vocabulary size: {len(doc_vocab)}\")\n",
    "print(f\"Query vocabulary size: {len(query_vocab)}\")\n",
    "print(f\"Vocabulary overlap: {len(doc_vocab.intersection(query_vocab))}\")\n",
    "print(f\"Percentage of query vocabulary in document vocabulary: {len(doc_vocab.intersection(query_vocab)) / len(query_vocab) * 100:.2f}%\")"
   ]
  },
  {
   "cell_type": "code",
   "execution_count": 33,
   "metadata": {},
   "outputs": [
    {
     "data": {
      "image/png": "[encoded data removed]",
      "text/plain": [
       "<Figure size 1200x500 with 2 Axes>"
      ]
     },
     "metadata": {},
     "output_type": "display_data"
    }
   ],
   "source": [
    "# 2. Word frequency distribution\n",
    "doc_word_freq = Counter(doc_words)\n",
    "query_word_freq = Counter(query_words)\n",
    "\n",
    "plt.figure(figsize=(12, 5))\n",
    "plt.subplot(1, 2, 1)\n",
    "plt.loglog(range(1, 101), [freq for _, freq in doc_word_freq.most_common(100)])\n",
    "plt.title(\"Document Word Frequency Distribution\")\n",
    "plt.xlabel(\"Word Rank\")\n",
    "plt.ylabel(\"Frequency\")\n",
    "\n",
    "plt.subplot(1, 2, 2)\n",
    "plt.loglog(range(1, 101), [freq for _, freq in query_word_freq.most_common(100)])\n",
    "plt.title(\"Query Word Frequency Distribution\")\n",
    "plt.xlabel(\"Word Rank\")\n",
    "plt.ylabel(\"Frequency\")\n",
    "plt.tight_layout()\n",
    "plt.show()"
   ]
  },
  {
   "cell_type": "code",
   "execution_count": 37,
   "metadata": {},
   "outputs": [
    {
     "name": "stdout",
     "output_type": "stream",
     "text": [
      "\n",
      "Top 20 words in documents:\n",
      "[('the', 671614), ('of', 457697), ('and', 365591), ('a', 333576), ('to', 305592), ('in', 275086), ('for', 198030), ('we', 178779), ('on', 136473), ('is', 133571), ('that', 128812), ('this', 110098), ('with', 96133), ('as', 80038), ('are', 75806), ('by', 71139), ('an', 69429), ('from', 67887), ('our', 67676), ('based', 66851)]\n",
      "\n",
      "Top 20 words in queries:\n",
      "[('which', 31), ('papers', 26), ('the', 25), ('retrieval', 21), ('of', 20), ('in', 18), ('and', 18), ('what', 17), ('information', 16), ('on', 14), ('how', 13), ('that', 12), ('documents', 12), ('are', 10), ('to', 10), ('about', 9), ('for', 9), ('include', 8), ('algorithms', 7), ('does', 6)]\n",
      "\n",
      "Top 20 words in documents (no stopword & punctuation):\n",
      "[('based', 66851), ('model', 56871), ('data', 56614), ('language', 55690), ('information', 52234), ('paper', 47714), ('system', 45223), ('task', 45055), ('using', 44702), ('models', 39670), ('results', 38384), ('text', 35082), ('approach', 34558), ('translation', 34503), ('learning', 32063), ('word', 30874), ('two', 28246), ('show', 28142), ('e', 28136), ('method', 27633)]\n",
      "\n",
      "Top 20 words in queries (no stopword & punctuation):\n",
      "[('papers', 26), ('retrieval', 21), ('information', 16), ('documents', 12), ('include', 8), ('algorithms', 7), ('describe', 6), ('language', 5), ('query', 5), ('entries', 5), ('research', 5), ('focus', 4), ('processing', 4), ('using', 4), ('search', 4), ('natural', 4), ('analysis', 4), ('informational', 4), ('cover', 4), ('improving', 3)]\n"
     ]
    }
   ],
   "source": [
    "# 3. Top words comparison\n",
    "print(\"\\nTop 20 words in documents:\")\n",
    "print(doc_word_freq.most_common(20))\n",
    "print(\"\\nTop 20 words in queries:\")\n",
    "print(query_word_freq.most_common(20))\n",
    "\n",
    "\n",
    "# Without stopwords / punctuation\n",
    "print(\"\\nTop 20 words in documents (no stopword & punctuation):\")\n",
    "print([(word, frequency) for word, frequency in doc_word_freq.most_common() if word not in stopwords_en and word not in punkt][:20])\n",
    "print(\"\\nTop 20 words in queries (no stopword & punctuation):\")\n",
    "print([(word, frequency) for word, frequency in query_word_freq.most_common() if word not in stopwords_en and word not in punkt][:20])\n"
   ]
  },
  {
   "cell_type": "code",
   "execution_count": 40,
   "metadata": {},
   "outputs": [
    {
     "name": "stdout",
     "output_type": "stream",
     "text": [
      "\n",
      "Top 20 words by TF-IDF score:\n",
      "information: 2493.9879\n",
      "based: 2487.0187\n",
      "language: 2374.7980\n",
      "model: 2218.8777\n",
      "data: 2191.6794\n",
      "translation: 2087.5814\n",
      "retrieval: 1963.8316\n",
      "using: 1897.2675\n",
      "task: 1893.4045\n",
      "text: 1754.9613\n",
      "models: 1720.4906\n",
      "learning: 1644.3972\n",
      "word: 1588.3730\n",
      "approach: 1585.6798\n",
      "search: 1574.0985\n",
      "paper: 1541.1706\n",
      "semantic: 1489.0575\n",
      "web: 1488.9436\n",
      "results: 1421.1139\n",
      "systems: 1374.2751\n",
      "machine: 1310.3118\n",
      "method: 1304.8306\n",
      "evaluation: 1292.6168\n",
      "analysis: 1290.6577\n",
      "corpus: 1287.4651\n",
      "knowledge: 1217.7779\n",
      "user: 1195.8899\n",
      "query: 1175.0806\n",
      "features: 1142.4423\n",
      "performance: 1140.3989\n",
      "classification: 1069.7829\n",
      "different: 1060.8233\n",
      "document: 1053.5636\n",
      "use: 1044.2338\n",
      "methods: 1041.9983\n",
      "domain: 1037.2524\n",
      "new: 1019.7561\n",
      "training: 1003.9633\n",
      "used: 999.9456\n",
      "neural: 984.4543\n",
      "english: 984.2171\n",
      "speech: 960.0198\n",
      "social: 956.4911\n",
      "languages: 951.2110\n",
      "words: 938.7203\n",
      "present: 927.2572\n",
      "large: 914.6342\n",
      "automatic: 906.5860\n",
      "tasks: 901.4565\n",
      "extraction: 894.7462\n"
     ]
    }
   ],
   "source": [
    "# 5. TF-IDF analysis\n",
    "tfidf = TfidfVectorizer(stop_words='english')\n",
    "tfidf_matrix = tfidf.fit_transform(docs_df['text'])\n",
    "feature_names = tfidf.get_feature_names_out()\n",
    "tfidf_scores = tfidf_matrix.sum(axis=0).A1\n",
    "\n",
    "print(\"\\nTop 20 words by TF-IDF score:\")\n",
    "for word, score in sorted(zip(feature_names, tfidf_scores), key=lambda x: x[1], reverse=True)[:50]:\n",
    "    print(f\"{word}: {score:.4f}\")"
   ]
  },
  {
   "cell_type": "code",
   "execution_count": 41,
   "metadata": {},
   "outputs": [
    {
     "name": "stdout",
     "output_type": "stream",
     "text": [
      "\n",
      "Document lexical diversity: 0.0099\n",
      "Query lexical diversity: 0.4009\n"
     ]
    }
   ],
   "source": [
    "# 6. Lexical diversity\n",
    "doc_lexical_diversity = len(doc_vocab) / len(doc_words)\n",
    "query_lexical_diversity = len(query_vocab) / len(query_words)\n",
    "print(f\"\\nDocument lexical diversity: {doc_lexical_diversity:.4f}\")\n",
    "print(f\"Query lexical diversity: {query_lexical_diversity:.4f}\")"
   ]
  },
  {
   "cell_type": "markdown",
   "metadata": {},
   "source": [
    "#### Domain-specific info"
   ]
  },
  {
   "cell_type": "code",
   "execution_count": 42,
   "metadata": {},
   "outputs": [
    {
     "ename": "",
     "evalue": "",
     "output_type": "error",
     "traceback": [
      "\u001b[1;31mDer Kernel ist beim Ausführen von Code in der aktuellen Zelle oder einer vorherigen Zelle abgestürzt. \n",
      "\u001b[1;31mBitte überprüfen Sie den Code in der/den Zelle(n), um eine mögliche Fehlerursache zu identifizieren. \n",
      "\u001b[1;31mKlicken Sie <a href='https://aka.ms/vscodeJupyterKernelCrash'>hier</a>, um weitere Informationen zu erhalten. \n",
      "\u001b[1;31mWeitere Informationen finden Sie unter Jupyter <a href='command:jupyter.viewOutput'>Protokoll</a>."
     ]
    }
   ],
   "source": [
    "def get_top_n_words(text_series, n=20):\n",
    "    words = [word.lower() for text in text_series for word in re.findall(r'\\w+', text)]\n",
    "    return Counter(words).most_common(n)\n",
    "\n",
    "top_doc_words = get_top_n_words(docs_df['text'])\n",
    "print(\"Top 20 words in documents:\")\n",
    "print(top_doc_words)"
   ]
  },
  {
   "cell_type": "code",
   "execution_count": null,
   "metadata": {},
   "outputs": [],
   "source": [
    "# 1. Identify potential domain-specific terms\n",
    "def extract_potential_domain_terms(text):\n",
    "    # This regex looks for capitalized words or words with numbers\n",
    "    return re.findall(r'\\b([A-Z][a-z]+(?:\\s[A-Z][a-z]+)*|\\w+\\d+\\w*|\\w+\\-\\w+)\\b', text)\n",
    "\n",
    "doc_domain_terms = [term for doc in docs_df['text'] for term in extract_potential_domain_terms(doc)]\n",
    "query_domain_terms = [term for query in queries_df['query'] for term in extract_potential_domain_terms(query)]\n",
    "\n",
    "print(\"Top 20 potential domain-specific terms in documents:\")\n",
    "print(Counter(doc_domain_terms).most_common(20))\n",
    "print(\"\\nTop 20 potential domain-specific terms in queries:\")\n",
    "print(Counter(query_domain_terms).most_common(20))"
   ]
  },
  {
   "cell_type": "code",
   "execution_count": null,
   "metadata": {},
   "outputs": [],
   "source": [
    "# 2. Word cloud of domain-specific terms\n",
    "domain_text = ' '.join(doc_domain_terms)\n",
    "wordcloud = WordCloud(width=800, height=400, background_color='white').generate(domain_text)\n",
    "\n",
    "plt.figure(figsize=(10, 5))\n",
    "plt.imshow(wordcloud, interpolation='bilinear')\n",
    "plt.axis('off')\n",
    "plt.title('Word Cloud of Potential Domain-Specific Terms')\n",
    "plt.show()"
   ]
  },
  {
   "cell_type": "code",
   "execution_count": null,
   "metadata": {},
   "outputs": [],
   "source": [
    "# 3. Analyze n-grams\n",
    "def get_ngrams(text, n):\n",
    "    words = nltk.word_tokenize(text.lower())\n",
    "    return list(nltk.ngrams(words, n))\n",
    "\n",
    "doc_bigrams = [bigram for doc in docs_df['text'] for bigram in get_ngrams(doc, 2)]\n",
    "doc_trigrams = [trigram for doc in docs_df['text'] for trigram in get_ngrams(doc, 3)]\n",
    "\n",
    "print(\"\\nTop 20 bigrams in documents:\")\n",
    "print(Counter(doc_bigrams).most_common(20))\n",
    "print(\"\\nTop 20 trigrams in documents:\")\n",
    "print(Counter(doc_trigrams).most_common(20))"
   ]
  },
  {
   "cell_type": "code",
   "execution_count": null,
   "metadata": {},
   "outputs": [],
   "source": [
    "# 4. Analyze document structure\n",
    "docs_df['title_length'] = docs_df['text'].apply(lambda x: len(x.split('\\n\\n')[0].split()))\n",
    "docs_df['has_abstract'] = docs_df['text'].apply(lambda x: len(x.split('\\n\\n')) > 1)\n",
    "\n",
    "print(f\"\\nAverage title length: {docs_df['title_length'].mean():.2f} words\")\n",
    "print(f\"Percentage of documents with abstract: {docs_df['has_abstract'].mean()*100:.2f}%\")"
   ]
  },
  {
   "cell_type": "code",
   "execution_count": null,
   "metadata": {},
   "outputs": [],
   "source": [
    "# 5. Identify common abbreviations\n",
    "def extract_abbreviations(text):\n",
    "    return re.findall(r'\\b[A-Z]{2,}\\b', text)\n",
    "\n",
    "doc_abbrevs = [abbr for doc in docs_df['text'] for abbr in extract_abbreviations(doc)]\n",
    "query_abbrevs = [abbr for query in queries_df['query'] for abbr in extract_abbreviations(query)]\n",
    "\n",
    "print(\"\\nTop 20 abbreviations in documents:\")\n",
    "print(Counter(doc_abbrevs).most_common(20))\n",
    "print(\"\\nTop 20 abbreviations in queries:\")\n",
    "print(Counter(query_abbrevs).most_common(20))"
   ]
  },
  {
   "cell_type": "code",
   "execution_count": null,
   "metadata": {},
   "outputs": [],
   "source": [
    "# 6. Analyze query types\n",
    "def classify_query(query):\n",
    "    query = query.lower()\n",
    "    if any(query.startswith(word) for word in ['what', 'who', 'when', 'where', 'which']):\n",
    "        return 'Factoid'\n",
    "    elif query.startswith('how'):\n",
    "        return 'Procedure'\n",
    "    elif query.startswith('why'):\n",
    "        return 'Explanation'\n",
    "    elif any(word in query for word in ['difference', 'compare', 'versus', 'vs']):\n",
    "        return 'Comparison'\n",
    "    else:\n",
    "        return 'Other'\n",
    "\n",
    "queries_df['query_type'] = queries_df['query'].apply(classify_query)\n",
    "query_type_dist = queries_df['query_type'].value_counts(normalize=True)\n",
    "\n",
    "print(\"\\nQuery type distribution:\")\n",
    "print(query_type_dist)\n",
    "\n",
    "plt.figure(figsize=(10, 5))\n",
    "query_type_dist.plot(kind='bar')\n",
    "plt.title('Distribution of Query Types')\n",
    "plt.xlabel('Query Type')\n",
    "plt.ylabel('Proportion')\n",
    "plt.show()"
   ]
  },
  {
   "cell_type": "markdown",
   "metadata": {},
   "source": [
    "#### Qrels statistics"
   ]
  },
  {
   "cell_type": "code",
   "execution_count": null,
   "metadata": {},
   "outputs": [],
   "source": [
    "qrels_df['relevant'] = qrels_df['qrel'] > 0\n",
    "relevant_per_query = qrels_df.groupby('qid')['relevant'].sum()\n",
    "\n",
    "print(f\"Average number of relevant documents per query: {relevant_per_query.mean():.2f}\")\n",
    "\n",
    "plt.figure(figsize=(10, 5))\n",
    "plt.hist(relevant_per_query, bins=20)\n",
    "plt.title('Distribution of Relevant Documents per Query')\n",
    "plt.xlabel('Number of Relevant Documents')\n",
    "plt.ylabel('Frequency')\n",
    "plt.show()"
   ]
  },
  {
   "cell_type": "code",
   "execution_count": null,
   "metadata": {},
   "outputs": [],
   "source": [
    "# 1. Distribution of relevance scores\n",
    "plt.figure(figsize=(10, 5))\n",
    "plt.hist(qrels_df['qrel'], bins=np.arange(qrels_df['qrel'].min(), qrels_df['qrel'].max()+2)-0.5)\n",
    "plt.title('Distribution of Relevance Scores')\n",
    "plt.xlabel('Relevance Score')\n",
    "plt.ylabel('Frequency')\n",
    "plt.show()"
   ]
  },
  {
   "cell_type": "code",
   "execution_count": null,
   "metadata": {},
   "outputs": [],
   "source": [
    "# 2. Queries with most/least relevant documents\n",
    "relevant_docs_per_query = qrels_df[qrels_df['qrel'] > 0].groupby('qid').size().sort_values(ascending=False)\n",
    "print(\"Queries with most relevant documents:\")\n",
    "print(relevant_docs_per_query.head())\n",
    "print(\"\\nQueries with least relevant documents:\")\n",
    "print(relevant_docs_per_query.tail())"
   ]
  },
  {
   "cell_type": "code",
   "execution_count": null,
   "metadata": {},
   "outputs": [],
   "source": [
    "# 3. Correlation between query length and number of relevant documents\n",
    "query_lengths = queries_df.set_index('qid')['query'].apply(lambda x: len(x.split()))\n",
    "correlation = query_lengths.corr(relevant_docs_per_query)\n",
    "print(f\"\\nCorrelation between query length and number of relevant documents: {correlation:.4f}\")"
   ]
  },
  {
   "cell_type": "code",
   "execution_count": null,
   "metadata": {},
   "outputs": [],
   "source": [
    "# 4. Percentage of queries with at least one relevant document\n",
    "queries_with_relevant = (relevant_docs_per_query > 0).mean() * 100\n",
    "print(f\"\\nPercentage of queries with at least one relevant document: {queries_with_relevant:.2f}%\")"
   ]
  },
  {
   "cell_type": "code",
   "execution_count": null,
   "metadata": {},
   "outputs": [],
   "source": [
    "# 5. Average relevance score\n",
    "avg_relevance = qrels_df['qrel'].mean()\n",
    "print(f\"\\nAverage relevance score: {avg_relevance:.4f}\")"
   ]
  },
  {
   "cell_type": "markdown",
   "metadata": {},
   "source": [
    "#### Data qualitiy? -> zu vocab"
   ]
  },
  {
   "cell_type": "code",
   "execution_count": null,
   "metadata": {},
   "outputs": [],
   "source": [
    "non_english = docs_df['text'].apply(lambda x: not x.isascii()).sum()\n",
    "print(f\"Number of potentially non-English documents: {non_english}\")\n",
    "\n",
    "duplicate_docs = docs_df['text'].duplicated().sum()\n",
    "print(f\"Number of duplicate documents: {duplicate_docs}\")"
   ]
  },
  {
   "cell_type": "markdown",
   "metadata": {},
   "source": [
    "#### BERT-specific analisis"
   ]
  },
  {
   "cell_type": "code",
   "execution_count": null,
   "metadata": {},
   "outputs": [],
   "source": [
    "from transformers import AutoTokenizer"
   ]
  },
  {
   "cell_type": "code",
   "execution_count": null,
   "metadata": {},
   "outputs": [],
   "source": [
    "tokenizer = AutoTokenizer.from_pretrained(\"bert-base-uncased\")\n",
    "\n",
    "def get_token_length(text):\n",
    "    return len(tokenizer.encode(text))\n",
    "\n",
    "docs_df['token_length'] = docs_df['text'].apply(get_token_length)\n",
    "queries_df['token_length'] = queries_df['query'].apply(get_token_length)\n",
    "\n",
    "print(f\"Max document token length: {docs_df['token_length'].max()}\")\n",
    "print(f\"Max query token length: {queries_df['token_length'].max()}\")\n",
    "\n",
    "plt.figure(figsize=(10, 5))\n",
    "plt.hist(docs_df['token_length'], bins=50)\n",
    "plt.title('Distribution of Document Token Lengths')\n",
    "plt.xlabel('Number of Tokens')\n",
    "plt.ylabel('Frequency')\n",
    "plt.show()"
   ]
  },
  {
   "cell_type": "code",
   "execution_count": null,
   "metadata": {},
   "outputs": [],
   "source": [
    "# Out-of-vocabulary statistics -> how many unknown words?\n",
    "def get_oov_words(text):\n",
    "    tokens = tokenizer.tokenize(text)\n",
    "    return [token for token in tokens if token.startswith('##')]\n",
    "\n",
    "docs_df['oov_words'] = docs_df['text'].apply(get_oov_words)\n",
    "queries_df['oov_words'] = queries_df['query'].apply(get_oov_words)\n",
    "\n",
    "print(f\"Average OOV words per document: {docs_df['oov_words'].apply(len).mean():.2f}\")\n",
    "print(f\"Average OOV words per query: {queries_df['oov_words'].apply(len).mean():.2f}\")"
   ]
  },
  {
   "cell_type": "markdown",
   "metadata": {},
   "source": [
    "#### OLD"
   ]
  },
  {
   "cell_type": "code",
   "execution_count": 29,
   "metadata": {},
   "outputs": [],
   "source": [
    "def analyze_text(texts):\n",
    "    #char_counts = Counter()\n",
    "    #word_counts = Counter()\n",
    "    #number_counts = Counter()\n",
    "    #special_char_counts = Counter()\n",
    "    abbreviation_counts = Counter()\n",
    "    words_with_numbers = Counter()\n",
    "\n",
    "    #abbreviation_regex = r'\\b(?:[A-Za-z]\\.){2,}'\n",
    "    abbreviation_regex = r'\\b(?:[A-Za-z]\\.?){2,}\\.'\n",
    "    number_in_word_regex = r'\\b\\w*\\d+\\w*\\b' #r'\\w*\\d\\w*' \n",
    "\n",
    "    for text in texts:\n",
    "        # Zählen der Zeichen\n",
    "        #char_counts.update(text)\n",
    "        # Tokenisierung\n",
    "        #tokens = word_tokenize(text)\n",
    "        #word_counts.update(tokens)\n",
    "        # Zählen von Zahlen\n",
    "        #numbers = re.findall(r'\\b\\d+\\b', text)\n",
    "        #number_counts.update(numbers)\n",
    "        # Zählen von Abkürzungen\n",
    "        abbreviations = re.findall(abbreviation_regex, text)\n",
    "        abbreviation_counts.update(abbreviations)\n",
    "        # Zählen von Sonderzeichen\n",
    "        #special_char_counts.update(re.findall(r'[^\\w\\s]', text))\n",
    "        # Finden von Wörtern, die Zahlen enthalten\n",
    "        words_with_number = re.findall(number_in_word_regex, text)\n",
    "        words_with_numbers.update(words_with_number)\n",
    "\n",
    "    # Ausgabe der gesammelten Statistiken\n",
    "    #print(f\"Anzahl der Zeichen: {sum(char_counts.values())}\")\n",
    "    #print(f\"Anzahl der Wörter: {sum(word_counts.values())}\")\n",
    "    #print(f\"Am häufigsten vorkommende Wörter: {word_counts.most_common(10)}\")\n",
    "    #print(f\"Am häufigsten vorkommende Zahlen: {number_counts.most_common(10)}\")\n",
    "    #print(f\"Am häufigsten vorkommende Sonderzeichen: {special_char_counts.most_common(10)}\")\n",
    "    print(f\"Am häufigsten vorkommende Abkürzungen: {abbreviation_counts.most_common(200)}\")\n",
    "    print(f\"Wörter mit Zahlen: {words_with_numbers.most_common(200)}\")\n",
    "\n",
    "\n"
   ]
  },
  {
   "cell_type": "code",
   "execution_count": 2,
   "metadata": {},
   "outputs": [
    {
     "ename": "NameError",
     "evalue": "name 'analyze_text' is not defined",
     "output_type": "error",
     "traceback": [
      "\u001b[0;31m---------------------------------------------------------------------------\u001b[0m",
      "\u001b[0;31mNameError\u001b[0m                                 Traceback (most recent call last)",
      "Cell \u001b[0;32mIn[2], line 1\u001b[0m\n\u001b[0;32m----> 1\u001b[0m \u001b[43manalyze_text\u001b[49m(texts)\n",
      "\u001b[0;31mNameError\u001b[0m: name 'analyze_text' is not defined"
     ]
    }
   ],
   "source": [
    "analyze_text(texts)"
   ]
  }
 ],
 "metadata": {
  "kernelspec": {
   "display_name": "Python 3",
   "language": "python",
   "name": "python3"
  },
  "language_info": {
   "codemirror_mode": {
    "name": "ipython",
    "version": 3
   },
   "file_extension": ".py",
   "mimetype": "text/x-python",
   "name": "python",
   "nbconvert_exporter": "python",
   "pygments_lexer": "ipython3",
   "version": "3.10.12"
  }
 },
 "nbformat": 4,
 "nbformat_minor": 2
}
