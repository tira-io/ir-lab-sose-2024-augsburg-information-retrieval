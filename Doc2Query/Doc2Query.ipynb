{
 "cells": [
  {
   "cell_type": "markdown",
   "metadata": {},
   "source": [
    "# Doc2Query"
   ]
  },
  {
   "cell_type": "code",
   "execution_count": 1,
   "metadata": {},
   "outputs": [],
   "source": [
    "#from Doc2Query.Doc2Query import Doc2Query\n",
    "from Doc2Query import Doc2Query\n",
    "import pyterrier as pt\n",
    "from tira.third_party_integrations import ensure_pyterrier_is_loaded, persist_and_normalize_run\n",
    "from tira.rest_api_client import Client\n",
    "from transformers import AutoModelForCausalLM, AutoTokenizer"
   ]
  },
  {
   "cell_type": "code",
   "execution_count": 2,
   "metadata": {},
   "outputs": [
    {
     "name": "stderr",
     "output_type": "stream",
     "text": [
      "PyTerrier 0.10.0 has loaded Terrier 5.8 (built by craigm on 2023-11-01 18:05) and terrier-helper 0.0.8\n",
      "\n",
      "No etc/terrier.properties, using terrier.default.properties for bootstrap configuration.\n"
     ]
    }
   ],
   "source": [
    "# Create a REST client to the TIRA platform for retrieving the pre-indexed data.\n",
    "ensure_pyterrier_is_loaded()\n",
    "tira = Client()"
   ]
  },
  {
   "cell_type": "code",
   "execution_count": 3,
   "metadata": {},
   "outputs": [
    {
     "data": {
      "text/plain": [
       "pyterrier.datasets.IRDSDataset"
      ]
     },
     "execution_count": 3,
     "metadata": {},
     "output_type": "execute_result"
    }
   ],
   "source": [
    "# PyTerrier dataset to pass\n",
    "pt_dataset = pt.get_dataset('irds:ir-lab-sose-2024/ir-acl-anthology-20240504-training')\n",
    "type(pt_dataset)"
   ]
  },
  {
   "cell_type": "markdown",
   "metadata": {},
   "source": [
    "### Expand the Documents"
   ]
  },
  {
   "cell_type": "code",
   "execution_count": 4,
   "metadata": {},
   "outputs": [],
   "source": [
    "# Create an instance of Doc2Query\n",
    "Doc2Query = Doc2Query(\"google/flan-t5-small\", temperatur=None,promting_technique=None)"
   ]
  },
  {
   "cell_type": "code",
   "execution_count": 5,
   "metadata": {},
   "outputs": [
    {
     "name": "stderr",
     "output_type": "stream",
     "text": [
      "ir-lab-sose-2024/ir-acl-anthology-20240504-training documents: 100%|██████████| 126958/126958 [00:02<00:00, 56293.20it/s]\n"
     ]
    }
   ],
   "source": [
    "# The text documents from the PyTerrier dataset\n",
    "documents = Doc2Query.getDocumentsDfFromPtDataset(pt_dataset)"
   ]
  },
  {
   "cell_type": "code",
   "execution_count": 6,
   "metadata": {},
   "outputs": [
    {
     "name": "stderr",
     "output_type": "stream",
     "text": [
      "/usr/local/lib/python3.10/dist-packages/transformers/generation/utils.py:1259: UserWarning: Using the model-agnostic default `max_length` (=20) to control the generation length. We recommend setting `max_new_tokens` to control the maximum length of the generation.\n",
      "  warnings.warn(\n"
     ]
    }
   ],
   "source": [
    "# Generate queries for the dataset and extend the documents by the queries\n",
    "expanded_documents = Doc2Query.expandDocumentsByQueries(documents)"
   ]
  },
  {
   "cell_type": "code",
   "execution_count": null,
   "metadata": {},
   "outputs": [],
   "source": [
    "expanded_documents[['text']].to_dict()"
   ]
  },
  {
   "cell_type": "code",
   "execution_count": null,
   "metadata": {},
   "outputs": [],
   "source": [
    "# Create the index using PyTerrier\n",
    "indexer = pt.IterDictIndexer(\n",
    "    \"./indexes/index_Doc2Query-flan-t5-small\",\n",
    "    overwrite=True,\n",
    "    fields=[\"text\"],\n",
    "    meta=[\"docno\"]\n",
    ")\n",
    "# Index the documents\n",
    "indexref = indexer.index(expanded_documents)\n",
    "\n",
    "# Retrieve documents using BM25\n",
    "bm25 = pt.BatchRetrieve(indexref, wmodel=\"BM25\")\n",
    "\n",
    "# Perform retrieval\n",
    "#queries_df = pt_dataset.get_topics()\n",
    "#run = bm25.transform(queries_df)\n",
    "run = bm25(pt_dataset.get_topics('text'))\n",
    "\n",
    "# Evaluate the results\n",
    "qrels_df = pt_dataset.get_qrels()\n",
    "eval = pt.Evaluate(run, qrels_df, metrics=[\"map\", \"ndcg\", \"ndcg_cut.10\", \"recip_rank\", \"recall_100\"])\n",
    "print(\"Evaluation Metrics:\")\n",
    "print(eval)"
   ]
  },
  {
   "cell_type": "code",
   "execution_count": null,
   "metadata": {},
   "outputs": [],
   "source": [
    "# Filter run to include only judged documents\n",
    "qrels_df = pt_dataset.get_qrels()\n",
    "judged_docnos = qrels_df['docno'].unique()\n",
    "filtered_run = run[run['docno'].isin(judged_docnos)]\n",
    "\n",
    "# Evaluate the results\n",
    "eval = pt.Evaluate(filtered_run, qrels_df, metrics=[\"map\", \"ndcg\", \"ndcg_cut.10\", \"recip_rank\", \"recall_100\"])\n",
    "print(\"Evaluation Metrics:\")\n",
    "print(eval)"
   ]
  },
  {
   "cell_type": "code",
   "execution_count": null,
   "metadata": {},
   "outputs": [],
   "source": [
    "# Persist the run file for subsequent evaluations\n",
    "#persist_and_normalize_run(run, system_name='Doc2Query-flan-t5-small-BM25-judged_only', default_output='../runs')"
   ]
  },
  {
   "cell_type": "markdown",
   "metadata": {},
   "source": [
    "### Get few shot exampels"
   ]
  },
  {
   "cell_type": "code",
   "execution_count": 8,
   "metadata": {},
   "outputs": [
    {
     "data": {
      "text/html": [
       "<div>\n",
       "<style scoped>\n",
       "    .dataframe tbody tr th:only-of-type {\n",
       "        vertical-align: middle;\n",
       "    }\n",
       "\n",
       "    .dataframe tbody tr th {\n",
       "        vertical-align: top;\n",
       "    }\n",
       "\n",
       "    .dataframe thead th {\n",
       "        text-align: right;\n",
       "    }\n",
       "</style>\n",
       "<table border=\"1\" class=\"dataframe\">\n",
       "  <thead>\n",
       "    <tr style=\"text-align: right;\">\n",
       "      <th></th>\n",
       "      <th>text</th>\n",
       "      <th>docno</th>\n",
       "    </tr>\n",
       "  </thead>\n",
       "  <tbody>\n",
       "    <tr>\n",
       "      <th>0</th>\n",
       "      <td>A Study on Word Similarity using Context Vecto...</td>\n",
       "      <td>O02-2002</td>\n",
       "    </tr>\n",
       "    <tr>\n",
       "      <th>1</th>\n",
       "      <td>Bootstrapping Large Sense Tagged Corpora</td>\n",
       "      <td>L02-1310</td>\n",
       "    </tr>\n",
       "    <tr>\n",
       "      <th>2</th>\n",
       "      <td>Headerless, Quoteless, but not Hopeless? Using...</td>\n",
       "      <td>R13-1042</td>\n",
       "    </tr>\n",
       "    <tr>\n",
       "      <th>3</th>\n",
       "      <td>Aligning Words in {E}nglish-{H}indi Parallel C...</td>\n",
       "      <td>W05-0819</td>\n",
       "    </tr>\n",
       "    <tr>\n",
       "      <th>4</th>\n",
       "      <td>Proposal of a very-large-corpus acquisition me...</td>\n",
       "      <td>L02-1309</td>\n",
       "    </tr>\n",
       "    <tr>\n",
       "      <th>...</th>\n",
       "      <td>...</td>\n",
       "      <td>...</td>\n",
       "    </tr>\n",
       "    <tr>\n",
       "      <th>126953</th>\n",
       "      <td>Self-Spacial Join Selectivity Estimation Using...</td>\n",
       "      <td>1998.tois_journal-ir0volumeA16A2.2</td>\n",
       "    </tr>\n",
       "    <tr>\n",
       "      <th>126954</th>\n",
       "      <td>Hyperdocuments as Automata: Verification of Tr...</td>\n",
       "      <td>1998.tois_journal-ir0volumeA16A1.0</td>\n",
       "    </tr>\n",
       "    <tr>\n",
       "      <th>126955</th>\n",
       "      <td>Evaluation of an Algorithm for Finding a Match...</td>\n",
       "      <td>1998.tois_journal-ir0volumeA16A1.1</td>\n",
       "    </tr>\n",
       "    <tr>\n",
       "      <th>126956</th>\n",
       "      <td>Corpus-Based Stemming Using Cooccurrence of Wo...</td>\n",
       "      <td>1998.tois_journal-ir0volumeA16A1.2</td>\n",
       "    </tr>\n",
       "    <tr>\n",
       "      <th>126957</th>\n",
       "      <td>Electronic Mail as a Coalition-Building Inform...</td>\n",
       "      <td>1998.tois_journal-ir0volumeA16A1.3</td>\n",
       "    </tr>\n",
       "  </tbody>\n",
       "</table>\n",
       "<p>126958 rows × 2 columns</p>\n",
       "</div>"
      ],
      "text/plain": [
       "                                                     text  \\\n",
       "0       A Study on Word Similarity using Context Vecto...   \n",
       "1                Bootstrapping Large Sense Tagged Corpora   \n",
       "2       Headerless, Quoteless, but not Hopeless? Using...   \n",
       "3       Aligning Words in {E}nglish-{H}indi Parallel C...   \n",
       "4       Proposal of a very-large-corpus acquisition me...   \n",
       "...                                                   ...   \n",
       "126953  Self-Spacial Join Selectivity Estimation Using...   \n",
       "126954  Hyperdocuments as Automata: Verification of Tr...   \n",
       "126955  Evaluation of an Algorithm for Finding a Match...   \n",
       "126956  Corpus-Based Stemming Using Cooccurrence of Wo...   \n",
       "126957  Electronic Mail as a Coalition-Building Inform...   \n",
       "\n",
       "                                     docno  \n",
       "0                                 O02-2002  \n",
       "1                                 L02-1310  \n",
       "2                                 R13-1042  \n",
       "3                                 W05-0819  \n",
       "4                                 L02-1309  \n",
       "...                                    ...  \n",
       "126953  1998.tois_journal-ir0volumeA16A2.2  \n",
       "126954  1998.tois_journal-ir0volumeA16A1.0  \n",
       "126955  1998.tois_journal-ir0volumeA16A1.1  \n",
       "126956  1998.tois_journal-ir0volumeA16A1.2  \n",
       "126957  1998.tois_journal-ir0volumeA16A1.3  \n",
       "\n",
       "[126958 rows x 2 columns]"
      ]
     },
     "execution_count": 8,
     "metadata": {},
     "output_type": "execute_result"
    }
   ],
   "source": [
    "documents"
   ]
  },
  {
   "cell_type": "code",
   "execution_count": 33,
   "metadata": {},
   "outputs": [
    {
     "data": {
      "text/html": [
       "<div>\n",
       "<style scoped>\n",
       "    .dataframe tbody tr th:only-of-type {\n",
       "        vertical-align: middle;\n",
       "    }\n",
       "\n",
       "    .dataframe tbody tr th {\n",
       "        vertical-align: top;\n",
       "    }\n",
       "\n",
       "    .dataframe thead th {\n",
       "        text-align: right;\n",
       "    }\n",
       "</style>\n",
       "<table border=\"1\" class=\"dataframe\">\n",
       "  <thead>\n",
       "    <tr style=\"text-align: right;\">\n",
       "      <th></th>\n",
       "      <th>qid</th>\n",
       "      <th>query</th>\n",
       "    </tr>\n",
       "  </thead>\n",
       "  <tbody>\n",
       "    <tr>\n",
       "      <th>0</th>\n",
       "      <td>1</td>\n",
       "      <td>retrieval system improving effectiveness</td>\n",
       "    </tr>\n",
       "    <tr>\n",
       "      <th>1</th>\n",
       "      <td>2</td>\n",
       "      <td>machine learning language identification</td>\n",
       "    </tr>\n",
       "    <tr>\n",
       "      <th>2</th>\n",
       "      <td>3</td>\n",
       "      <td>social media detect self harm</td>\n",
       "    </tr>\n",
       "    <tr>\n",
       "      <th>3</th>\n",
       "      <td>4</td>\n",
       "      <td>stemming for arabic languages</td>\n",
       "    </tr>\n",
       "    <tr>\n",
       "      <th>4</th>\n",
       "      <td>5</td>\n",
       "      <td>audio based animal recognition</td>\n",
       "    </tr>\n",
       "    <tr>\n",
       "      <th>...</th>\n",
       "      <td>...</td>\n",
       "      <td>...</td>\n",
       "    </tr>\n",
       "    <tr>\n",
       "      <th>63</th>\n",
       "      <td>65</td>\n",
       "      <td>information in different language</td>\n",
       "    </tr>\n",
       "    <tr>\n",
       "      <th>64</th>\n",
       "      <td>66</td>\n",
       "      <td>abbreviations in queries</td>\n",
       "    </tr>\n",
       "    <tr>\n",
       "      <th>65</th>\n",
       "      <td>67</td>\n",
       "      <td>lemmatization algorithms</td>\n",
       "    </tr>\n",
       "    <tr>\n",
       "      <th>66</th>\n",
       "      <td>68</td>\n",
       "      <td>filter ad rich documents</td>\n",
       "    </tr>\n",
       "    <tr>\n",
       "      <th>67</th>\n",
       "      <td>18</td>\n",
       "      <td>advancements in information retrieval</td>\n",
       "    </tr>\n",
       "  </tbody>\n",
       "</table>\n",
       "<p>68 rows × 2 columns</p>\n",
       "</div>"
      ],
      "text/plain": [
       "   qid                                     query\n",
       "0    1  retrieval system improving effectiveness\n",
       "1    2  machine learning language identification\n",
       "2    3             social media detect self harm\n",
       "3    4             stemming for arabic languages\n",
       "4    5            audio based animal recognition\n",
       "..  ..                                       ...\n",
       "63  65         information in different language\n",
       "64  66                  abbreviations in queries\n",
       "65  67                  lemmatization algorithms\n",
       "66  68                  filter ad rich documents\n",
       "67  18     advancements in information retrieval\n",
       "\n",
       "[68 rows x 2 columns]"
      ]
     },
     "execution_count": 33,
     "metadata": {},
     "output_type": "execute_result"
    }
   ],
   "source": [
    "queries = pt_dataset.get_topics('text')\n",
    "queries"
   ]
  },
  {
   "cell_type": "code",
   "execution_count": 34,
   "metadata": {},
   "outputs": [],
   "source": [
    "qrels = pt_dataset.get_qrels()\n",
    "qrels = qrels[qrels['label'] == 1]"
   ]
  },
  {
   "cell_type": "code",
   "execution_count": 57,
   "metadata": {},
   "outputs": [
    {
     "name": "stdout",
     "output_type": "stream",
     "text": [
      "docno\n",
      "2011.sigirconf_conference-2011.58             3\n",
      "2000.clef_workshop-2000.0                     3\n",
      "1985.tois_journal-ir0volumeA3A2.1             3\n",
      "2019.wwwjournals_journal-ir0volumeA22A3.19    3\n",
      "2015.fire_workshop-2015w.20                   3\n",
      "1985.tois_journal-ir0volumeA3A2.5             3\n",
      "2016.wwwconf_conference-2016.11               3\n",
      "2004.ipm_journal-ir0volumeA40A6.4             3\n",
      "2011.tois_journal-ir0volumeA29A2.0            3\n",
      "2016.sigirconf_conference-2016.230            3\n",
      "Name: count, dtype: int64\n"
     ]
    }
   ],
   "source": [
    "# Count occurrences of each docno\n",
    "docno_counts = qrels['docno'].value_counts()\n",
    "\n",
    "# Find the maximum count value\n",
    "max_count = docno_counts.max()\n",
    "\n",
    "# Filter docnos with the maximum count value\n",
    "max_count_docnos = docno_counts[docno_counts == max_count]\n",
    "\n",
    "# Print the results\n",
    "print(max_count_docnos)"
   ]
  },
  {
   "cell_type": "code",
   "execution_count": 61,
   "metadata": {},
   "outputs": [
    {
     "data": {
      "text/html": [
       "<div>\n",
       "<style scoped>\n",
       "    .dataframe tbody tr th:only-of-type {\n",
       "        vertical-align: middle;\n",
       "    }\n",
       "\n",
       "    .dataframe tbody tr th {\n",
       "        vertical-align: top;\n",
       "    }\n",
       "\n",
       "    .dataframe thead th {\n",
       "        text-align: right;\n",
       "    }\n",
       "</style>\n",
       "<table border=\"1\" class=\"dataframe\">\n",
       "  <thead>\n",
       "    <tr style=\"text-align: right;\">\n",
       "      <th></th>\n",
       "      <th>qid</th>\n",
       "      <th>docno</th>\n",
       "      <th>label</th>\n",
       "      <th>iteration</th>\n",
       "    </tr>\n",
       "  </thead>\n",
       "  <tbody>\n",
       "    <tr>\n",
       "      <th>772</th>\n",
       "      <td>21</td>\n",
       "      <td>2016.wwwconf_conference-2016.11</td>\n",
       "      <td>1</td>\n",
       "      <td>0</td>\n",
       "    </tr>\n",
       "    <tr>\n",
       "      <th>842</th>\n",
       "      <td>23</td>\n",
       "      <td>2016.wwwconf_conference-2016.11</td>\n",
       "      <td>1</td>\n",
       "      <td>0</td>\n",
       "    </tr>\n",
       "    <tr>\n",
       "      <th>1375</th>\n",
       "      <td>36</td>\n",
       "      <td>2016.wwwconf_conference-2016.11</td>\n",
       "      <td>1</td>\n",
       "      <td>0</td>\n",
       "    </tr>\n",
       "  </tbody>\n",
       "</table>\n",
       "</div>"
      ],
      "text/plain": [
       "     qid                            docno  label iteration\n",
       "772   21  2016.wwwconf_conference-2016.11      1         0\n",
       "842   23  2016.wwwconf_conference-2016.11      1         0\n",
       "1375  36  2016.wwwconf_conference-2016.11      1         0"
      ]
     },
     "execution_count": 61,
     "metadata": {},
     "output_type": "execute_result"
    }
   ],
   "source": [
    "filtered_qrels = qrels[qrels['docno'] == '2016.wwwconf_conference-2016.11']\n",
    "filtered_qrels"
   ]
  },
  {
   "cell_type": "code",
   "execution_count": 62,
   "metadata": {},
   "outputs": [
    {
     "data": {
      "text/html": [
       "<div>\n",
       "<style scoped>\n",
       "    .dataframe tbody tr th:only-of-type {\n",
       "        vertical-align: middle;\n",
       "    }\n",
       "\n",
       "    .dataframe tbody tr th {\n",
       "        vertical-align: top;\n",
       "    }\n",
       "\n",
       "    .dataframe thead th {\n",
       "        text-align: right;\n",
       "    }\n",
       "</style>\n",
       "<table border=\"1\" class=\"dataframe\">\n",
       "  <thead>\n",
       "    <tr style=\"text-align: right;\">\n",
       "      <th></th>\n",
       "      <th>qid</th>\n",
       "      <th>docno</th>\n",
       "      <th>label</th>\n",
       "      <th>iteration</th>\n",
       "      <th>query</th>\n",
       "      <th>text</th>\n",
       "    </tr>\n",
       "  </thead>\n",
       "  <tbody>\n",
       "    <tr>\n",
       "      <th>0</th>\n",
       "      <td>21</td>\n",
       "      <td>2016.wwwconf_conference-2016.11</td>\n",
       "      <td>1</td>\n",
       "      <td>0</td>\n",
       "      <td>recommenders influence on users</td>\n",
       "      <td>When do Recommender Systems Work the Best?: Th...</td>\n",
       "    </tr>\n",
       "    <tr>\n",
       "      <th>1</th>\n",
       "      <td>23</td>\n",
       "      <td>2016.wwwconf_conference-2016.11</td>\n",
       "      <td>1</td>\n",
       "      <td>0</td>\n",
       "      <td>consumer product reviews</td>\n",
       "      <td>When do Recommender Systems Work the Best?: Th...</td>\n",
       "    </tr>\n",
       "    <tr>\n",
       "      <th>2</th>\n",
       "      <td>36</td>\n",
       "      <td>2016.wwwconf_conference-2016.11</td>\n",
       "      <td>1</td>\n",
       "      <td>0</td>\n",
       "      <td>recommendation systems</td>\n",
       "      <td>When do Recommender Systems Work the Best?: Th...</td>\n",
       "    </tr>\n",
       "  </tbody>\n",
       "</table>\n",
       "</div>"
      ],
      "text/plain": [
       "  qid                            docno  label iteration  \\\n",
       "0  21  2016.wwwconf_conference-2016.11      1         0   \n",
       "1  23  2016.wwwconf_conference-2016.11      1         0   \n",
       "2  36  2016.wwwconf_conference-2016.11      1         0   \n",
       "\n",
       "                             query  \\\n",
       "0  recommenders influence on users   \n",
       "1         consumer product reviews   \n",
       "2           recommendation systems   \n",
       "\n",
       "                                                text  \n",
       "0  When do Recommender Systems Work the Best?: Th...  \n",
       "1  When do Recommender Systems Work the Best?: Th...  \n",
       "2  When do Recommender Systems Work the Best?: Th...  "
      ]
     },
     "execution_count": 62,
     "metadata": {},
     "output_type": "execute_result"
    }
   ],
   "source": [
    "# Merge with queries DataFrame\n",
    "merged_df = filtered_qrels.merge(queries, on='qid', how='left')\n",
    "\n",
    "# Merge with documents DataFrame\n",
    "final_df = merged_df.merge(documents, on='docno', how='left')\n",
    "final_df"
   ]
  },
  {
   "cell_type": "code",
   "execution_count": 63,
   "metadata": {},
   "outputs": [
    {
     "data": {
      "text/plain": [
       "\"When do Recommender Systems Work the Best?: The Moderating Effects of Product Attributes and Consumer Reviews on Recommender Performance\\n\\n\\n ABSTRACTWe investigate the moderating effect of product attributes and consumer reviews on the efficacy of a collaborative filtering recommender system on an e-commerce site. We run a randomized field experiment on a top North American retailer's website with 184,375 users split into a recommendertreated group and a control group with 37,215 unique products in the dataset. By augmenting the dataset with Amazon Mechanical Turk tagged product attributes and consumer review data from the website, we study their moderating influence on recommenders in generating conversion.We first confirm that the use of recommenders increases the baseline conversion rate by 5.9%. We find that the recommenders act as substitutes for high average review ratings with the effect of using recommenders increasing the conversion rate as much as about 1.4 additional average star ratings. Additionally, we find that the positive impacts on conversion from recommenders are greater for hedonic products compared to utilitarian products while searchexperience quality did not have any impact. We also find that the higher the price, the lower the positive impact of recommenders, while having lengthier product descriptions and higher review volumes increased the recommender's effectiveness. More findings are discussed in the Results.For managers, we 1) identify the products and product attributes for which the recommenders work well, 2) show how other product information sources on e-commerce sites interact with recommenders. Additionally, the insights from the results could inform novel recommender algorithm designs that are aware of strength and shortcomings. From an academic standpoint, we provide insight into the underlying mechanism behind how recommenders cause consumers to purchase.\""
      ]
     },
     "execution_count": 63,
     "metadata": {},
     "output_type": "execute_result"
    }
   ],
   "source": [
    "final_df['text'][0]"
   ]
  },
  {
   "cell_type": "code",
   "execution_count": null,
   "metadata": {},
   "outputs": [],
   "source": []
  }
 ],
 "metadata": {
  "kernelspec": {
   "display_name": "Python 3 (ipykernel)",
   "language": "python",
   "name": "python3"
  },
  "language_info": {
   "codemirror_mode": {
    "name": "ipython",
    "version": 3
   },
   "file_extension": ".py",
   "mimetype": "text/x-python",
   "name": "python",
   "nbconvert_exporter": "python",
   "pygments_lexer": "ipython3",
   "version": "3.10.12"
  }
 },
 "nbformat": 4,
 "nbformat_minor": 2
}
