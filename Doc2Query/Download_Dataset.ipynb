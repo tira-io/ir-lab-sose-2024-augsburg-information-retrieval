{
 "cells": [
  {
   "cell_type": "code",
   "execution_count": 1,
   "metadata": {},
   "outputs": [],
   "source": [
    "# Imports\n",
    "from tira.third_party_integrations import ensure_pyterrier_is_loaded, persist_and_normalize_run\n",
    "from tira.rest_api_client import Client\n",
    "import pyterrier as pt\n",
    "import pandas as pd"
   ]
  },
  {
   "cell_type": "code",
   "execution_count": 3,
   "metadata": {},
   "outputs": [
    {
     "name": "stderr",
     "output_type": "stream",
     "text": [
      "PyTerrier 0.10.0 has loaded Terrier 5.8 (built by craigm on 2023-11-01 18:05) and terrier-helper 0.0.8\n",
      "\n",
      "No etc/terrier.properties, using terrier.default.properties for bootstrap configuration.\n"
     ]
    }
   ],
   "source": [
    "# Create a REST client to the TIRA platform for retrieving the pre-indexed data.\n",
    "ensure_pyterrier_is_loaded()\n",
    "tira = Client()"
   ]
  },
  {
   "cell_type": "code",
   "execution_count": 4,
   "metadata": {},
   "outputs": [],
   "source": [
    "# The dataset: the union of the IR Anthology and the ACL Anthology\n",
    "# This line creates an IRDSDataset object and registers it under the name provided as an argument.\n",
    "pt_dataset = pt.get_dataset('irds:ir-lab-sose-2024/ir-acl-anthology-20240504-training')"
   ]
  },
  {
   "cell_type": "markdown",
   "metadata": {},
   "source": [
    "### Text Documents"
   ]
  },
  {
   "cell_type": "code",
   "execution_count": 4,
   "metadata": {},
   "outputs": [
    {
     "name": "stderr",
     "output_type": "stream",
     "text": [
      "ir-lab-sose-2024/ir-acl-anthology-20240504-training documents: 100%|██████████| 126958/126958 [00:02<00:00, 56156.37it/s]\n"
     ]
    }
   ],
   "source": [
    "# Iterate over all the text documents and add them to a list\n",
    "docs_iter = iter(pt_dataset.get_corpus_iter())\n",
    "\n",
    "doc_list = []\n",
    "for doc in docs_iter:\n",
    "    doc_list.append(doc)"
   ]
  },
  {
   "cell_type": "code",
   "execution_count": 10,
   "metadata": {},
   "outputs": [
    {
     "data": {
      "text/html": [
       "<div>\n",
       "<style scoped>\n",
       "    .dataframe tbody tr th:only-of-type {\n",
       "        vertical-align: middle;\n",
       "    }\n",
       "\n",
       "    .dataframe tbody tr th {\n",
       "        vertical-align: top;\n",
       "    }\n",
       "\n",
       "    .dataframe thead th {\n",
       "        text-align: right;\n",
       "    }\n",
       "</style>\n",
       "<table border=\"1\" class=\"dataframe\">\n",
       "  <thead>\n",
       "    <tr style=\"text-align: right;\">\n",
       "      <th></th>\n",
       "      <th>text</th>\n",
       "      <th>docno</th>\n",
       "    </tr>\n",
       "  </thead>\n",
       "  <tbody>\n",
       "    <tr>\n",
       "      <th>0</th>\n",
       "      <td>A Study on Word Similarity using Context Vecto...</td>\n",
       "      <td>O02-2002</td>\n",
       "    </tr>\n",
       "    <tr>\n",
       "      <th>1</th>\n",
       "      <td>Bootstrapping Large Sense Tagged Corpora</td>\n",
       "      <td>L02-1310</td>\n",
       "    </tr>\n",
       "    <tr>\n",
       "      <th>2</th>\n",
       "      <td>Headerless, Quoteless, but not Hopeless? Using...</td>\n",
       "      <td>R13-1042</td>\n",
       "    </tr>\n",
       "    <tr>\n",
       "      <th>3</th>\n",
       "      <td>Aligning Words in {E}nglish-{H}indi Parallel C...</td>\n",
       "      <td>W05-0819</td>\n",
       "    </tr>\n",
       "    <tr>\n",
       "      <th>4</th>\n",
       "      <td>Proposal of a very-large-corpus acquisition me...</td>\n",
       "      <td>L02-1309</td>\n",
       "    </tr>\n",
       "    <tr>\n",
       "      <th>...</th>\n",
       "      <td>...</td>\n",
       "      <td>...</td>\n",
       "    </tr>\n",
       "    <tr>\n",
       "      <th>126953</th>\n",
       "      <td>Self-Spacial Join Selectivity Estimation Using...</td>\n",
       "      <td>1998.tois_journal-ir0volumeA16A2.2</td>\n",
       "    </tr>\n",
       "    <tr>\n",
       "      <th>126954</th>\n",
       "      <td>Hyperdocuments as Automata: Verification of Tr...</td>\n",
       "      <td>1998.tois_journal-ir0volumeA16A1.0</td>\n",
       "    </tr>\n",
       "    <tr>\n",
       "      <th>126955</th>\n",
       "      <td>Evaluation of an Algorithm for Finding a Match...</td>\n",
       "      <td>1998.tois_journal-ir0volumeA16A1.1</td>\n",
       "    </tr>\n",
       "    <tr>\n",
       "      <th>126956</th>\n",
       "      <td>Corpus-Based Stemming Using Cooccurrence of Wo...</td>\n",
       "      <td>1998.tois_journal-ir0volumeA16A1.2</td>\n",
       "    </tr>\n",
       "    <tr>\n",
       "      <th>126957</th>\n",
       "      <td>Electronic Mail as a Coalition-Building Inform...</td>\n",
       "      <td>1998.tois_journal-ir0volumeA16A1.3</td>\n",
       "    </tr>\n",
       "  </tbody>\n",
       "</table>\n",
       "<p>126958 rows × 2 columns</p>\n",
       "</div>"
      ],
      "text/plain": [
       "                                                     text  \\\n",
       "0       A Study on Word Similarity using Context Vecto...   \n",
       "1                Bootstrapping Large Sense Tagged Corpora   \n",
       "2       Headerless, Quoteless, but not Hopeless? Using...   \n",
       "3       Aligning Words in {E}nglish-{H}indi Parallel C...   \n",
       "4       Proposal of a very-large-corpus acquisition me...   \n",
       "...                                                   ...   \n",
       "126953  Self-Spacial Join Selectivity Estimation Using...   \n",
       "126954  Hyperdocuments as Automata: Verification of Tr...   \n",
       "126955  Evaluation of an Algorithm for Finding a Match...   \n",
       "126956  Corpus-Based Stemming Using Cooccurrence of Wo...   \n",
       "126957  Electronic Mail as a Coalition-Building Inform...   \n",
       "\n",
       "                                     docno  \n",
       "0                                 O02-2002  \n",
       "1                                 L02-1310  \n",
       "2                                 R13-1042  \n",
       "3                                 W05-0819  \n",
       "4                                 L02-1309  \n",
       "...                                    ...  \n",
       "126953  1998.tois_journal-ir0volumeA16A2.2  \n",
       "126954  1998.tois_journal-ir0volumeA16A1.0  \n",
       "126955  1998.tois_journal-ir0volumeA16A1.1  \n",
       "126956  1998.tois_journal-ir0volumeA16A1.2  \n",
       "126957  1998.tois_journal-ir0volumeA16A1.3  \n",
       "\n",
       "[126958 rows x 2 columns]"
      ]
     },
     "metadata": {},
     "output_type": "display_data"
    }
   ],
   "source": [
    "doc_df = pd.DataFrame(doc_list)\n",
    "\n",
    "# Display the DataFrame\n",
    "display(doc_df)"
   ]
  },
  {
   "cell_type": "markdown",
   "metadata": {},
   "source": [
    "### Queries"
   ]
  },
  {
   "cell_type": "code",
   "execution_count": 8,
   "metadata": {},
   "outputs": [
    {
     "name": "stdout",
     "output_type": "stream",
     "text": [
      "There are multiple query fields available: ('text', 'title', 'query', 'description', 'narrative'). To use with pyterrier, provide variant or modify dataframe to add query column.\n"
     ]
    }
   ],
   "source": [
    "queries = pt_dataset.get_topics()\n",
    "# Save the DataFrame to a CSV file\n",
    "queries.to_csv('Queries.csv', index=False)"
   ]
  },
  {
   "cell_type": "markdown",
   "metadata": {},
   "source": [
    "### Relevance Judgements"
   ]
  },
  {
   "cell_type": "code",
   "execution_count": 10,
   "metadata": {},
   "outputs": [],
   "source": [
    "qrels = pt_dataset.get_qrels()\n",
    "# Save the DataFrame to a CSV file\n",
    "qrels.to_csv('Qrels.csv', index=False)"
   ]
  }
 ],
 "metadata": {
  "kernelspec": {
   "display_name": "Python 3",
   "language": "python",
   "name": "python3"
  },
  "language_info": {
   "codemirror_mode": {
    "name": "ipython",
    "version": 3
   },
   "file_extension": ".py",
   "mimetype": "text/x-python",
   "name": "python",
   "nbconvert_exporter": "python",
   "pygments_lexer": "ipython3",
   "version": "3.10.12"
  }
 },
 "nbformat": 4,
 "nbformat_minor": 2
}
