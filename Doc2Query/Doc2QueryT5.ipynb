{
 "cells": [
  {
   "cell_type": "markdown",
   "metadata": {},
   "source": [
    "# Doc2Query using a T5 model specifically trained for this task"
   ]
  },
  {
   "cell_type": "code",
   "execution_count": 1,
   "metadata": {},
   "outputs": [
    {
     "name": "stderr",
     "output_type": "stream",
     "text": [
      "PyTerrier 0.10.0 has loaded Terrier 5.8 (built by craigm on 2023-11-01 18:05) and terrier-helper 0.0.8\n",
      "\n",
      "No etc/terrier.properties, using terrier.default.properties for bootstrap configuration.\n"
     ]
    }
   ],
   "source": [
    "from tira.third_party_integrations import ensure_pyterrier_is_loaded, persist_and_normalize_run\n",
    "from tira.rest_api_client import Client\n",
    "import pyterrier as pt\n",
    "import gzip\n",
    "import json\n",
    "from tqdm import tqdm\n",
    "\n",
    "tira = Client()\n",
    "ensure_pyterrier_is_loaded()"
   ]
  },
  {
   "cell_type": "code",
   "execution_count": 2,
   "metadata": {},
   "outputs": [
    {
     "name": "stderr",
     "output_type": "stream",
     "text": [
      "126958it [00:00, 260231.71it/s]\n"
     ]
    }
   ],
   "source": [
    "# Create an IRDSDataset object and registers it under the name provided as an argument.\n",
    "dataset = 'ir-lab-sose-2024/ir-acl-anthology-20240504-training'\n",
    "pt_dataset = pt.get_dataset(f'irds:{dataset}')\n",
    "\n",
    "def doc_t5_query(dataset):\n",
    "    docs = tira.get_run_output('ir-benchmarks/seanmacavaney/DocT5Query', dataset) + '/documents.jsonl.gz'\n",
    "    with gzip.open(docs, 'rt') as f:\n",
    "        for l in tqdm(f):\n",
    "            l = json.loads(l)\n",
    "            l['text'] = l['querygen']\n",
    "            l['docno'] = l['doc_id']\n",
    "            del l['doc_id']\n",
    "            del l['querygen']\n",
    "            yield l\n",
    "\n",
    "# Expand the documents\n",
    "# Preprocess document_expansions into a dictionary for faster lookup\n",
    "expansions_dict = {expansion['docno']: expansion['text'] for expansion in doc_t5_query(dataset)}\n",
    "#expansions_dict"
   ]
  },
  {
   "cell_type": "code",
   "execution_count": 3,
   "metadata": {},
   "outputs": [
    {
     "name": "stderr",
     "output_type": "stream",
     "text": [
      "ir-lab-sose-2024/ir-acl-anthology-20240504-training documents:   0%|          | 0/126958 [00:00<?, ?it/s]"
     ]
    },
    {
     "name": "stdout",
     "output_type": "stream",
     "text": [
      "{'text': 'A Study on Word Similarity using Context Vector Models\\n\\n\\n There is a need to measure word similarity when processing natural languages, especially when using generalization, classification, or example -based approaches. Usually, measures of similarity between two words are defined according to the distance between their semantic classes in a semantic taxonomy . The taxonomy approaches are more or less semantic -based that do not consider syntactic similarit ies. However, in real applications, both semantic and syntactic similarities are required and weighted differently. Word similarity based on context vectors is a mixture of syntactic and semantic similarit ies. In this paper, we propose using only syntactic related co-occurrences as context vectors and adopt information theoretic models to solve the problems of data sparseness and characteristic precision. The probabilistic distribution of co-occurrence context features is derived by parsing the contextual environment of each word , and all the context features are adjusted according to their IDF (inverse document frequency) values. The agglomerative clustering algorithm is applied to group similar words according to their similarity values. It turns out that words with similar syntactic categories and semantic classes are grouped together.', 'docno': 'O02-2002'}\n",
      "what is the study of word similarity called?\n",
      "what is the measure of word similarity\n",
      "why measure word similarity?\n"
     ]
    },
    {
     "name": "stderr",
     "output_type": "stream",
     "text": [
      "\n"
     ]
    }
   ],
   "source": [
    "# Original documents and document expansion for first document\n",
    "for document in iter(pt_dataset.get_corpus_iter()):\n",
    "  print(document)\n",
    "  # Show document expansion for first document\n",
    "  print(expansions_dict[document['docno']])\n",
    "  # we only show the first one\n",
    "  break"
   ]
  },
  {
   "cell_type": "code",
   "execution_count": 4,
   "metadata": {},
   "outputs": [
    {
     "name": "stdout",
     "output_type": "stream",
     "text": [
      "Expansions dictionary created with 126958 items.\n"
     ]
    },
    {
     "name": "stderr",
     "output_type": "stream",
     "text": [
      "ir-lab-sose-2024/ir-acl-anthology-20240504-training documents: 100%|██████████| 126958/126958 [00:02<00:00, 49641.87it/s]"
     ]
    },
    {
     "name": "stdout",
     "output_type": "stream",
     "text": [
      "Total combined documents: 126958\n"
     ]
    },
    {
     "name": "stderr",
     "output_type": "stream",
     "text": [
      "\n"
     ]
    }
   ],
   "source": [
    "# Check if expansions_dict was created correctly\n",
    "print(f\"Expansions dictionary created with {len(expansions_dict)} items.\")\n",
    "\n",
    "# Initialize a list to store the combined documents\n",
    "expanded_documents = []\n",
    "\n",
    "# Iterate through the documents and combine them with their expansions\n",
    "for document in iter(pt_dataset.get_corpus_iter()):\n",
    "    # Get the document's unique identifier\n",
    "    docno = document['docno']\n",
    "    \n",
    "    # Check if there's an expansion for the current document\n",
    "    if docno in expansions_dict:\n",
    "        # Append the expansion text to the document's text\n",
    "        original_text = document['text']\n",
    "        expansion_text = expansions_dict[docno]\n",
    "        combined_text = original_text + expansion_text\n",
    "        \n",
    "        # Create a new dictionary with the combined text and add it to the list\n",
    "        expanded_documents.append({'docno': docno, 'text': combined_text})\n",
    "        \n",
    "        # Debug print to confirm concatenation\n",
    "        # print(f\"Document {docno} expanded. Original length: {len(original_text)}, Expansion length: {len(expansion_text)}, New length: {len(combined_text)}\")\n",
    "    else:\n",
    "        # If there's no expansion, just add the original document\n",
    "        expanded_documents.append({'docno': docno, 'text': document['text']})\n",
    "        print(f\"No expansion found for document {docno}.\")\n",
    "\n",
    "# Check the number of documents combined\n",
    "print(f\"Total combined documents: {len(expanded_documents)}\")"
   ]
  },
  {
   "cell_type": "code",
   "execution_count": 6,
   "metadata": {},
   "outputs": [
    {
     "name": "stdout",
     "output_type": "stream",
     "text": [
      "{'docno': 'O02-2002', 'text': 'A Study on Word Similarity using Context Vector Models\\n\\n\\n There is a need to measure word similarity when processing natural languages, especially when using generalization, classification, or example -based approaches. Usually, measures of similarity between two words are defined according to the distance between their semantic classes in a semantic taxonomy . The taxonomy approaches are more or less semantic -based that do not consider syntactic similarit ies. However, in real applications, both semantic and syntactic similarities are required and weighted differently. Word similarity based on context vectors is a mixture of syntactic and semantic similarit ies. In this paper, we propose using only syntactic related co-occurrences as context vectors and adopt information theoretic models to solve the problems of data sparseness and characteristic precision. The probabilistic distribution of co-occurrence context features is derived by parsing the contextual environment of each word , and all the context features are adjusted according to their IDF (inverse document frequency) values. The agglomerative clustering algorithm is applied to group similar words according to their similarity values. It turns out that words with similar syntactic categories and semantic classes are grouped together.what is the study of word similarity called?\\nwhat is the measure of word similarity\\nwhy measure word similarity?'}\n"
     ]
    }
   ],
   "source": [
    "# Test if the combination worked\n",
    "for document in expanded_documents:\n",
    "  print(document)\n",
    "  # Show document expansion for first document\n",
    "  #print(expansions_dict[document['docno']])\n",
    "  # we only show the first one\n",
    "  break"
   ]
  },
  {
   "cell_type": "code",
   "execution_count": 7,
   "metadata": {},
   "outputs": [
    {
     "name": "stdout",
     "output_type": "stream",
     "text": [
      "The longest docno is: '2007.wwwconf_conference-GeorgakopoulosBNC07.0' with a length of 45\n"
     ]
    }
   ],
   "source": [
    "# Initialize variables to store the longest docno and its length\n",
    "longest_docno = ''\n",
    "max_length = 0\n",
    "\n",
    "# Iterate over the list of documents\n",
    "for document in expanded_documents:\n",
    "    # Get the current docno\n",
    "    docno = document['docno']\n",
    "    \n",
    "    # Check if the current docno is longer than the longest found so far\n",
    "    if len(docno) > max_length:\n",
    "        longest_docno = docno\n",
    "        max_length = len(docno)\n",
    "\n",
    "# Output the longest docno and its length\n",
    "print(f\"The longest docno is: '{longest_docno}' with a length of {max_length}\")"
   ]
  },
  {
   "cell_type": "code",
   "execution_count": 15,
   "metadata": {},
   "outputs": [
    {
     "name": "stdout",
     "output_type": "stream",
     "text": [
      "Evaluation Metrics:\n",
      "{'map': 0.22193809243315205, 'ndcg': 0.5157937714634933, 'ndcg_cut.10': 0.28701453202938193, 'recip_rank': 0.484459943836947, 'recall_100': 0.5656737564073434}\n"
     ]
    }
   ],
   "source": [
    "# Create the Index\n",
    "# Index the documents using PyTerrier\n",
    "#indexer = pt.IterDictIndexer(\"./index_Doc2QueryT5\")\n",
    "#indexref = indexer.index(expanded_documents, fields=[\"text\"], meta=[\"docno\"])\n",
    "\n",
    "# Create the index using PyTerrier\n",
    "indexer = pt.IterDictIndexer(\n",
    "    \"./indexes/index_Doc2QueryT5\",\n",
    "    fields=[\"text\"],\n",
    "    meta=[\"docno\"],\n",
    "    meta_lengths=[max_length],  # Adjust length based on expected docno length\n",
    ")\n",
    "# Index the documents\n",
    "indexref = indexer.index(expanded_documents)\n",
    "\n",
    "# Retrieve documents using BM25\n",
    "bm25 = pt.BatchRetrieve(indexref, wmodel=\"BM25\")\n",
    "\n",
    "# Perform retrieval\n",
    "#queries_df = pt_dataset.get_topics()\n",
    "#run = bm25.transform(queries_df)\n",
    "run = bm25(pt_dataset.get_topics('text'))\n",
    "\n",
    "# Evaluate the results\n",
    "qrels_df = pt_dataset.get_qrels()\n",
    "eval = pt.Evaluate(run, qrels_df, metrics=[\"map\", \"ndcg\", \"ndcg_cut.10\", \"recip_rank\", \"recall_100\"])\n",
    "print(\"Evaluation Metrics:\")\n",
    "print(eval)"
   ]
  },
  {
   "cell_type": "code",
   "execution_count": 13,
   "metadata": {},
   "outputs": [],
   "source": [
    "#run.head(10)"
   ]
  },
  {
   "cell_type": "code",
   "execution_count": 16,
   "metadata": {},
   "outputs": [
    {
     "name": "stdout",
     "output_type": "stream",
     "text": [
      "The run file is normalized outside the TIRA sandbox, I will store it at \"../runs\".\n",
      "Done. run file is stored under \"../runs/run.txt\".\n"
     ]
    }
   ],
   "source": [
    "# Persist the run file for subsequent evaluations\n",
    "persist_and_normalize_run(run, system_name='Doc2QueryT5-BM25', default_output='../runs')"
   ]
  },
  {
   "cell_type": "markdown",
   "metadata": {},
   "source": [
    "### Compare to BM25 Baseline"
   ]
  },
  {
   "cell_type": "code",
   "execution_count": 12,
   "metadata": {},
   "outputs": [
    {
     "name": "stdout",
     "output_type": "stream",
     "text": [
      "Evaluation Metrics:\n",
      "{'map': 0.2623109779858802, 'ndcg': 0.5494611680377397, 'ndcg_cut.10': 0.3740414675768205, 'recip_rank': 0.5798765367925459, 'recall_100': 0.6013331716358514}\n"
     ]
    }
   ],
   "source": [
    "# Baseline without Doc2Query\n",
    "# A (pre-built) PyTerrier index loaded from TIRA\n",
    "index = tira.pt.index('ir-lab-sose-2024/tira-ir-starter/Index (tira-ir-starter-pyterrier)', pt_dataset)\n",
    "# Retrieve documents using BM25\n",
    "bm25 = pt.BatchRetrieve(index, wmodel=\"BM25\")\n",
    "# Perform retrieval\n",
    "run = bm25(pt_dataset.get_topics('text'))\n",
    "# Evaluate the results\n",
    "eval = pt.Evaluate(run, qrels_df, metrics=[\"map\", \"ndcg\", \"ndcg_cut.10\", \"recip_rank\", \"recall_100\"])\n",
    "print(\"Evaluation Metrics:\")\n",
    "print(eval)"
   ]
  },
  {
   "cell_type": "markdown",
   "metadata": {},
   "source": [
    "Somehow the BM25 Baseline is better."
   ]
  }
 ],
 "metadata": {
  "kernelspec": {
   "display_name": "Python 3",
   "language": "python",
   "name": "python3"
  },
  "language_info": {
   "codemirror_mode": {
    "name": "ipython",
    "version": 3
   },
   "file_extension": ".py",
   "mimetype": "text/x-python",
   "name": "python",
   "nbconvert_exporter": "python",
   "pygments_lexer": "ipython3",
   "version": "3.10.12"
  }
 },
 "nbformat": 4,
 "nbformat_minor": 2
}
