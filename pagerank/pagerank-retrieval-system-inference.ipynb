{
 "cells": [
  {
   "cell_type": "code",
   "execution_count": 2,
   "metadata": {},
   "outputs": [],
   "source": [
    "import json\n",
    "import os\n",
    "from collections import defaultdict\n",
    "import numpy as np\n",
    "import pandas as pd\n",
    "import gzip\n",
    "import joblib\n",
    "\n",
    "from tira.third_party_integrations import ensure_pyterrier_is_loaded, persist_and_normalize_run\n",
    "from tira.rest_api_client import Client\n",
    "import pyterrier as pt"
   ]
  },
  {
   "cell_type": "code",
   "execution_count": 3,
   "metadata": {},
   "outputs": [],
   "source": [
    "from sklearn.linear_model import LogisticRegression\n",
    "from sklearn.model_selection import train_test_split"
   ]
  },
  {
   "cell_type": "code",
   "execution_count": 4,
   "metadata": {},
   "outputs": [
    {
     "name": "stderr",
     "output_type": "stream",
     "text": [
      "PyTerrier 0.10.0 has loaded Terrier 5.8 (built by craigm on 2023-11-01 18:05) and terrier-helper 0.0.8\n",
      "\n",
      "No etc/terrier.properties, using terrier.default.properties for bootstrap configuration.\n"
     ]
    }
   ],
   "source": [
    "ensure_pyterrier_is_loaded()\n",
    "tira = Client()\n",
    "pt_dataset = pt.get_dataset('irds:ir-lab-sose-2024/ir-acl-anthology-20240504-training')\n",
    "topics = pt_dataset.get_topics('text')"
   ]
  },
  {
   "cell_type": "code",
   "execution_count": 5,
   "metadata": {},
   "outputs": [],
   "source": [
    "if not os.path.isfile('data/docs_with_all_info.json'):\n",
    "    documents = tira.get_run_output('ir-lab-sose-2024/augsburg-information-retrieval/enriched-documents', 'ir-lab-sose-2024/ir-acl-anthology-20240504-training')\n",
    "    os.makedirs('data', exist_ok=True)\n",
    "    with gzip.open(f'{documents}/enriched-documents.json.gz', 'rt') as compressed_documents, open('data/docs_with_all_info.json', 'w') as documents:\n",
    "        documents.write(compressed_documents.read())\n",
    "\n",
    "with open('data/docs_with_all_info.json', 'r') as file:\n",
    "    documents = json.load(file)"
   ]
  },
  {
   "cell_type": "code",
   "execution_count": 6,
   "metadata": {},
   "outputs": [],
   "source": [
    "df_docs = pd.DataFrame(documents)\n",
    "df_docs = df_docs.transpose()\n",
    "\n",
    "df_docs['docno'] = df_docs.index\n",
    "\n",
    "df_docs['text'] = df_docs['title'] + ' ' + df_docs['abstract']\n",
    "df_docs.drop(columns=['pagerank', 'title', 'abstract', 'discounted_pagerank', 'pub_date'], inplace=True)\n",
    "\n",
    "df_docs.reset_index(drop=True, inplace=True)\n",
    "\n",
    "df_docs = df_docs.to_dict(orient='records')"
   ]
  },
  {
   "cell_type": "code",
   "execution_count": 7,
   "metadata": {},
   "outputs": [],
   "source": [
    "#Create the index using PyTerrier\n",
    "indexer = pt.IterDictIndexer(\n",
    "    \"../index/index_retrieved_docs\",\n",
    "    overwrite=True,\n",
    "    fields=[\"text\"],\n",
    "    meta=[\"docno\"]\n",
    ")\n",
    "\n",
    "# Index the documents\n",
    "index = indexer.index(df_docs)\n",
    "\n",
    "#Retrieve documents using BM25\n",
    "bm25 = pt.BatchRetrieve(index, wmodel=\"BM25\")"
   ]
  },
  {
   "cell_type": "code",
   "execution_count": 8,
   "metadata": {},
   "outputs": [],
   "source": [
    "bm25_run = bm25(pt_dataset.get_topics('text'))"
   ]
  },
  {
   "cell_type": "code",
   "execution_count": 9,
   "metadata": {},
   "outputs": [
    {
     "name": "stdout",
     "output_type": "stream",
     "text": [
      "66391\n"
     ]
    }
   ],
   "source": [
    "print(len(bm25_run))"
   ]
  },
  {
   "cell_type": "code",
   "execution_count": 10,
   "metadata": {},
   "outputs": [],
   "source": [
    "bm25_dict = defaultdict(dict)\n",
    "\n",
    "for i, row in bm25_run.iterrows():\n",
    "    bm25_dict[row['qid']][row['docno']] = {'bm25_score': row['score'], \n",
    "                                           'bm25_rank': row['rank'], \n",
    "                                           'pagerank_score': documents[row['docno']]['pagerank'],\n",
    "                                           'discounted_pagerank_score': documents[row['docno']]['discounted_pagerank']}"
   ]
  },
  {
   "cell_type": "code",
   "execution_count": 11,
   "metadata": {},
   "outputs": [
    {
     "name": "stdout",
     "output_type": "stream",
     "text": [
      "BM25 Imputation:  497.66620475666883\n",
      "Pagerank Imputation:  2.0335444620543548e-06\n",
      "Discounted Pagerank Imputation:  8.441582033060812e-07\n"
     ]
    }
   ],
   "source": [
    "bm25_imputation = np.mean([scores['bm25_rank'] for doc_dict in bm25_dict.values() for scores in doc_dict.values()])\n",
    "pagerank_imputation = np.mean([documents[docno]['pagerank'] for docno in documents])\n",
    "discounted_pagerank_imputation = np.mean([documents[docno]['discounted_pagerank'] for docno in documents])\n",
    "\n",
    "print(\"BM25 Imputation: \", bm25_imputation)\n",
    "print(\"Pagerank Imputation: \", pagerank_imputation)\n",
    "print(\"Discounted Pagerank Imputation: \", discounted_pagerank_imputation)"
   ]
  },
  {
   "cell_type": "code",
   "execution_count": 12,
   "metadata": {},
   "outputs": [
    {
     "data": {
      "text/plain": [
       "array([[-1.68452733e-03,  2.78602961e-07]])"
      ]
     },
     "execution_count": 12,
     "metadata": {},
     "output_type": "execute_result"
    }
   ],
   "source": [
    "logistic_regression_model = joblib.load('linear_regression_model.joblib')\n",
    "logistic_regression_model.coef_"
   ]
  },
  {
   "cell_type": "code",
   "execution_count": 25,
   "metadata": {},
   "outputs": [],
   "source": [
    "data_dict = defaultdict(dict)\n",
    "\n",
    "for qid, doc_dict in bm25_dict.items():\n",
    "    for docno, label in doc_dict.items():\n",
    "        data_dict[qid][docno] = {}\n",
    "        try:\n",
    "            data_dict[qid][docno]['bm25_score'] = bm25_dict[qid][docno]['bm25_score']\n",
    "        except:\n",
    "            data_dict[qid][docno]['bm25_score'] =  bm25_imputation\n",
    "\n",
    "        try:\n",
    "            data_dict[qid][docno]['pagerank_score'] = bm25_dict[qid][docno]['pagerank_score']\n",
    "        except:\n",
    "            data_dict[qid][docno]['pagerank_score'] = pagerank_imputation\n",
    "\n",
    "        try:\n",
    "            data_dict[qid][docno]['discounted_pagerank_score'] = bm25_dict[qid][docno]['discounted_pagerank_score']\n",
    "        except:\n",
    "            data_dict[qid][docno]['discounted_pagerank_score'] = discounted_pagerank_imputation\n"
   ]
  },
  {
   "cell_type": "code",
   "execution_count": 27,
   "metadata": {},
   "outputs": [],
   "source": [
    "#Flatten the data\n",
    "flattened_data = []\n",
    "for qid, docs in data_dict.items():\n",
    "    for docno, values in docs.items():\n",
    "        flattened_data.append({\n",
    "            'qid': qid,\n",
    "            'docno': docno,\n",
    "            'bm25': values['bm25_score'],\n",
    "            'pagerank': values['pagerank_score'],\n",
    "            'discounted_pagerank': values['discounted_pagerank_score']\n",
    "        })\n",
    "\n",
    "df = pd.DataFrame(flattened_data)"
   ]
  },
  {
   "cell_type": "code",
   "execution_count": 28,
   "metadata": {},
   "outputs": [
    {
     "data": {
      "text/html": [
       "<div>\n",
       "<style scoped>\n",
       "    .dataframe tbody tr th:only-of-type {\n",
       "        vertical-align: middle;\n",
       "    }\n",
       "\n",
       "    .dataframe tbody tr th {\n",
       "        vertical-align: top;\n",
       "    }\n",
       "\n",
       "    .dataframe thead th {\n",
       "        text-align: right;\n",
       "    }\n",
       "</style>\n",
       "<table border=\"1\" class=\"dataframe\">\n",
       "  <thead>\n",
       "    <tr style=\"text-align: right;\">\n",
       "      <th></th>\n",
       "      <th>qid</th>\n",
       "      <th>docno</th>\n",
       "      <th>bm25</th>\n",
       "      <th>pagerank</th>\n",
       "      <th>discounted_pagerank</th>\n",
       "    </tr>\n",
       "  </thead>\n",
       "  <tbody>\n",
       "    <tr>\n",
       "      <th>0</th>\n",
       "      <td>1</td>\n",
       "      <td>2004.jasis_journal-ir0volumeA55A10.2</td>\n",
       "      <td>14.091164</td>\n",
       "      <td>0.000004</td>\n",
       "      <td>2.281242e-06</td>\n",
       "    </tr>\n",
       "    <tr>\n",
       "      <th>1</th>\n",
       "      <td>1</td>\n",
       "      <td>2004.cikm_conference-2004.47</td>\n",
       "      <td>13.753853</td>\n",
       "      <td>0.000002</td>\n",
       "      <td>2.930823e-07</td>\n",
       "    </tr>\n",
       "    <tr>\n",
       "      <th>2</th>\n",
       "      <td>1</td>\n",
       "      <td>2009.sigirconf_conference-2009.113</td>\n",
       "      <td>13.082214</td>\n",
       "      <td>0.000003</td>\n",
       "      <td>5.852006e-07</td>\n",
       "    </tr>\n",
       "    <tr>\n",
       "      <th>3</th>\n",
       "      <td>1</td>\n",
       "      <td>1982.sigirjournals_journal-ir0volumeA16A3.3</td>\n",
       "      <td>12.968918</td>\n",
       "      <td>0.000002</td>\n",
       "      <td>1.011560e-06</td>\n",
       "    </tr>\n",
       "    <tr>\n",
       "      <th>4</th>\n",
       "      <td>1</td>\n",
       "      <td>X93-1008</td>\n",
       "      <td>12.910271</td>\n",
       "      <td>0.000003</td>\n",
       "      <td>1.252759e-07</td>\n",
       "    </tr>\n",
       "    <tr>\n",
       "      <th>...</th>\n",
       "      <td>...</td>\n",
       "      <td>...</td>\n",
       "      <td>...</td>\n",
       "      <td>...</td>\n",
       "      <td>...</td>\n",
       "    </tr>\n",
       "    <tr>\n",
       "      <th>66386</th>\n",
       "      <td>18</td>\n",
       "      <td>2015.sigirconf_conference-2015.191</td>\n",
       "      <td>6.033528</td>\n",
       "      <td>0.000002</td>\n",
       "      <td>6.098719e-07</td>\n",
       "    </tr>\n",
       "    <tr>\n",
       "      <th>66387</th>\n",
       "      <td>18</td>\n",
       "      <td>2002.sigirjournals_journal-ir0volumeA36A2.7</td>\n",
       "      <td>6.029317</td>\n",
       "      <td>0.000002</td>\n",
       "      <td>1.684238e-07</td>\n",
       "    </tr>\n",
       "    <tr>\n",
       "      <th>66388</th>\n",
       "      <td>18</td>\n",
       "      <td>P85-1017</td>\n",
       "      <td>6.029111</td>\n",
       "      <td>0.000004</td>\n",
       "      <td>6.062971e-08</td>\n",
       "    </tr>\n",
       "    <tr>\n",
       "      <th>66389</th>\n",
       "      <td>18</td>\n",
       "      <td>2016.ismir_conference-2016.53</td>\n",
       "      <td>6.029111</td>\n",
       "      <td>0.000002</td>\n",
       "      <td>9.866248e-07</td>\n",
       "    </tr>\n",
       "    <tr>\n",
       "      <th>66390</th>\n",
       "      <td>18</td>\n",
       "      <td>2008.tweb_journal-ir0volumeA2A2.4</td>\n",
       "      <td>6.029111</td>\n",
       "      <td>0.000002</td>\n",
       "      <td>2.982689e-07</td>\n",
       "    </tr>\n",
       "  </tbody>\n",
       "</table>\n",
       "<p>66391 rows × 5 columns</p>\n",
       "</div>"
      ],
      "text/plain": [
       "      qid                                        docno       bm25  pagerank  \\\n",
       "0       1         2004.jasis_journal-ir0volumeA55A10.2  14.091164  0.000004   \n",
       "1       1                 2004.cikm_conference-2004.47  13.753853  0.000002   \n",
       "2       1           2009.sigirconf_conference-2009.113  13.082214  0.000003   \n",
       "3       1  1982.sigirjournals_journal-ir0volumeA16A3.3  12.968918  0.000002   \n",
       "4       1                                     X93-1008  12.910271  0.000003   \n",
       "...    ..                                          ...        ...       ...   \n",
       "66386  18           2015.sigirconf_conference-2015.191   6.033528  0.000002   \n",
       "66387  18  2002.sigirjournals_journal-ir0volumeA36A2.7   6.029317  0.000002   \n",
       "66388  18                                     P85-1017   6.029111  0.000004   \n",
       "66389  18                2016.ismir_conference-2016.53   6.029111  0.000002   \n",
       "66390  18            2008.tweb_journal-ir0volumeA2A2.4   6.029111  0.000002   \n",
       "\n",
       "       discounted_pagerank  \n",
       "0             2.281242e-06  \n",
       "1             2.930823e-07  \n",
       "2             5.852006e-07  \n",
       "3             1.011560e-06  \n",
       "4             1.252759e-07  \n",
       "...                    ...  \n",
       "66386         6.098719e-07  \n",
       "66387         1.684238e-07  \n",
       "66388         6.062971e-08  \n",
       "66389         9.866248e-07  \n",
       "66390         2.982689e-07  \n",
       "\n",
       "[66391 rows x 5 columns]"
      ]
     },
     "execution_count": 28,
     "metadata": {},
     "output_type": "execute_result"
    }
   ],
   "source": [
    "df"
   ]
  },
  {
   "cell_type": "code",
   "execution_count": 29,
   "metadata": {},
   "outputs": [],
   "source": [
    "#Prepare training data\n",
    "X = df[['bm25', 'discounted_pagerank']]"
   ]
  },
  {
   "cell_type": "code",
   "execution_count": 30,
   "metadata": {},
   "outputs": [],
   "source": [
    "# Predict relevance scores\n",
    "df['predicted_relevance'] = logistic_regression_model.predict_proba(X)[:, 1]"
   ]
  },
  {
   "cell_type": "code",
   "execution_count": 31,
   "metadata": {},
   "outputs": [],
   "source": [
    "# Select top 10 documents for each query\n",
    "top_10_docs = df.sort_values(by=['qid', 'predicted_relevance'], ascending=[True, False]).groupby('qid').head(10)"
   ]
  },
  {
   "cell_type": "code",
   "execution_count": 32,
   "metadata": {},
   "outputs": [
    {
     "name": "stdout",
     "output_type": "stream",
     "text": [
      "Learned weights for BM25 and PageRank: [[-1.68452733e-03  2.78602961e-07]]\n"
     ]
    }
   ],
   "source": [
    "# Save the resulting document orders in a JSON file\n",
    "result = {}\n",
    "for qid, group in top_10_docs.groupby('qid'):\n",
    "    result[qid] = group[['docno', 'predicted_relevance']].to_dict(orient='records')\n",
    "\n",
    "with open('top_10_docs.json', 'w') as f:\n",
    "    json.dump(result, f, indent=4)\n",
    "\n",
    "# Print learned weights\n",
    "print(\"Learned weights for BM25 and PageRank:\", logistic_regression_model.coef_)"
   ]
  },
  {
   "cell_type": "code",
   "execution_count": 33,
   "metadata": {},
   "outputs": [
    {
     "name": "stdout",
     "output_type": "stream",
     "text": [
      "    qid                         docno     score      bm25  rank\n",
      "999   1  2013.trec_conference-2013.52  0.575540  8.710547     0\n",
      "998   1  2005.clef_workshop-2005w.103  0.575540  8.712382     1\n",
      "997   1  2001.cikm_conference-2001.72  0.575539  8.714200     2\n",
      "996   1                      P98-2205  0.575538  8.715427     3\n",
      "995   1                      P12-1029  0.575538  8.717390     4\n"
     ]
    },
    {
     "name": "stderr",
     "output_type": "stream",
     "text": [
      "/tmp/ipykernel_601/4026046920.py:3: SettingWithCopyWarning: \n",
      "A value is trying to be set on a copy of a slice from a DataFrame\n",
      "\n",
      "See the caveats in the documentation: https://pandas.pydata.org/pandas-docs/stable/user_guide/indexing.html#returning-a-view-versus-a-copy\n",
      "  run.rename(columns={'predicted_relevance': 'score'}, inplace=True)\n",
      "/tmp/ipykernel_601/4026046920.py:5: SettingWithCopyWarning: \n",
      "A value is trying to be set on a copy of a slice from a DataFrame\n",
      "\n",
      "See the caveats in the documentation: https://pandas.pydata.org/pandas-docs/stable/user_guide/indexing.html#returning-a-view-versus-a-copy\n",
      "  run.sort_values(by=['qid', 'score'], ascending=[True, False], inplace=True)\n",
      "/tmp/ipykernel_601/4026046920.py:7: SettingWithCopyWarning: \n",
      "A value is trying to be set on a copy of a slice from a DataFrame.\n",
      "Try using .loc[row_indexer,col_indexer] = value instead\n",
      "\n",
      "See the caveats in the documentation: https://pandas.pydata.org/pandas-docs/stable/user_guide/indexing.html#returning-a-view-versus-a-copy\n",
      "  run['rank'] = run.groupby('qid').cumcount()\n"
     ]
    }
   ],
   "source": [
    "run = df[['qid', 'docno', 'predicted_relevance', 'bm25']]\n",
    "\n",
    "run.rename(columns={'predicted_relevance': 'score'}, inplace=True)\n",
    "\n",
    "run.sort_values(by=['qid', 'score'], ascending=[True, False], inplace=True)\n",
    "\n",
    "run['rank'] = run.groupby('qid').cumcount()\n",
    "\n",
    "print(run.head(5))"
   ]
  },
  {
   "cell_type": "code",
   "execution_count": 36,
   "metadata": {},
   "outputs": [
    {
     "name": "stdout",
     "output_type": "stream",
     "text": [
      "The run file is normalized outside the TIRA sandbox, I will store it at \".\".\n",
      "Done. run file is stored under \"./run.txt\".\n"
     ]
    }
   ],
   "source": [
    "persist_and_normalize_run(run, system_name='BM25_and_discounted_pagerank', default_output='.')"
   ]
  }
 ],
 "metadata": {
  "kernelspec": {
   "display_name": "Python 3",
   "language": "python",
   "name": "python3"
  },
  "language_info": {
   "codemirror_mode": {
    "name": "ipython",
    "version": 3
   },
   "file_extension": ".py",
   "mimetype": "text/x-python",
   "name": "python",
   "nbconvert_exporter": "python",
   "pygments_lexer": "ipython3",
   "version": "3.10.12"
  }
 },
 "nbformat": 4,
 "nbformat_minor": 2
}
