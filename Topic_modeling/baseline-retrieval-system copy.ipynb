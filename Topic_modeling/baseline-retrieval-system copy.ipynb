{
 "cells": [
  {
   "cell_type": "markdown",
   "metadata": {},
   "source": [
    "# IR Lab SoSe 2024: Baseline Retrieval System\n",
    "\n",
    "This jupyter notebook serves as baseline retrieval system that you can try to improve upon.\n",
    "We will use the a corpus of scientific papers (title + abstracts) from the fields of information retrieval and natural language processing (the [IR Anthology](https://ir.webis.de/anthology/) and the [ACL Anthology](https://aclanthology.org/)). This serves Jupyter notebook only serves as retrieval system, i.e., it gets a set of information needs (topics) and a corpus as input and produces a run file as output. Please do evaluations in a new dedicated notebook."
   ]
  },
  {
   "cell_type": "markdown",
   "metadata": {},
   "source": [
    "### Step 1: Import Libraries\n",
    "\n",
    "We will use [tira](https://www.tira.io/), an information retrieval shared task platform, for loading the (pre-built) retrieval index and [ir_dataset](https://ir-datasets.com/) to subsequently build a retrieval system with [PyTerrier](https://github.com/terrier-org/pyterrier), an open-source search engine.\n",
    "\n",
    "Building your own index can be already one way that you can try to improve upon this baseline (if you want to focus on creating good document representations). Other ways could include reformulating queries or tuning parameters or building better retrieval pipelines."
   ]
  },
  {
   "cell_type": "code",
   "execution_count": 1,
   "metadata": {},
   "outputs": [],
   "source": [
    "# You only need to execute this cell if you are using Google Golab.\n",
    "# If you use GitHub Codespaces, everything is already installed.\n",
    "# !pip3 install tira ir-datasets python-terrier"
   ]
  },
  {
   "cell_type": "code",
   "execution_count": 2,
   "metadata": {},
   "outputs": [],
   "source": [
    "# Imports\n",
    "from tira.third_party_integrations import ensure_pyterrier_is_loaded, persist_and_normalize_run\n",
    "from tira.rest_api_client import Client\n",
    "import pyterrier as pt"
   ]
  },
  {
   "cell_type": "code",
   "execution_count": 3,
   "metadata": {},
   "outputs": [
    {
     "name": "stderr",
     "output_type": "stream",
     "text": [
      "PyTerrier 0.10.0 has loaded Terrier 5.8 (built by craigm on 2023-11-01 18:05) and terrier-helper 0.0.8\n",
      "\n",
      "No etc/terrier.properties, using terrier.default.properties for bootstrap configuration.\n"
     ]
    }
   ],
   "source": [
    "# Create a REST client to the TIRA platform for retrieving the pre-indexed data.\n",
    "ensure_pyterrier_is_loaded()\n",
    "tira = Client()"
   ]
  },
  {
   "cell_type": "markdown",
   "metadata": {},
   "source": [
    "### Step 2: Load the Dataset and the Index\n",
    "\n",
    "The type of the index object that we load is `<class 'jnius.reflect.org.terrier.structures.Index'>`, in fact a [Java class](http://terrier.org/docs/v3.6/javadoc/org/terrier/structures/Index.html) wrapped into Python. However, you do not need to worry about this: at this point, we will simply use the provided Index object to run procedures defined in Python."
   ]
  },
  {
   "cell_type": "code",
   "execution_count": 4,
   "metadata": {},
   "outputs": [],
   "source": [
    "# The dataset: the union of the IR Anthology and the ACL Anthology\n",
    "# This line creates an IRDSDataset object and registers it under the name provided as an argument.\n",
    "pt_dataset = pt.get_dataset('irds:ir-lab-sose-2024/ir-acl-anthology-20240504-training')\n",
    "\n",
    "# A (pre-built) PyTerrier index loaded from TIRA\n",
    "index = tira.pt.index('ir-lab-sose-2024/tira-ir-starter/Index (tira-ir-starter-pyterrier)', pt_dataset)"
   ]
  },
  {
   "cell_type": "code",
   "execution_count": 5,
   "metadata": {},
   "outputs": [
    {
     "name": "stdout",
     "output_type": "stream",
     "text": [
      "['__class__', '__delattr__', '__dict__', '__dir__', '__doc__', '__eq__', '__format__', '__ge__', '__getattribute__', '__gt__', '__hash__', '__init__', '__init_subclass__', '__le__', '__lt__', '__module__', '__ne__', '__new__', '__reduce__', '__reduce_ex__', '__repr__', '__setattr__', '__sizeof__', '__str__', '__subclasshook__', '__weakref__', '_configure', '_describe_component', '_irds_id', '_irds_ref', 'get_corpus', 'get_corpus_iter', 'get_corpus_lang', 'get_index', 'get_qrels', 'get_results', 'get_topics', 'get_topics_lang', 'get_topicsqrels', 'info_url', 'irds_ref']\n"
     ]
    }
   ],
   "source": [
    "print(dir(pt_dataset))"
   ]
  },
  {
   "cell_type": "code",
   "execution_count": 6,
   "metadata": {},
   "outputs": [
    {
     "name": "stdout",
     "output_type": "stream",
     "text": [
      "There are multiple query fields available: ('text', 'title', 'query', 'description', 'narrative'). To use with pyterrier, provide variant or modify dataframe to add query column.\n",
      "   qid                                      text  \\\n",
      "0    1  retrieval system improving effectiveness   \n",
      "1    2  machine learning language identification   \n",
      "2    3             social media detect self-harm   \n",
      "3    4             stemming for arabic languages   \n",
      "4    5            audio based animal recognition   \n",
      "..  ..                                       ...   \n",
      "63  65         information in different language   \n",
      "64  66                  Abbreviations in queries   \n",
      "65  67                  lemmatization algorithms   \n",
      "66  68                  filter ad rich documents   \n",
      "67  18     Advancements in Information Retrieval   \n",
      "\n",
      "                                       title  \\\n",
      "0   retrieval system improving effectiveness   \n",
      "1   machine learning language identification   \n",
      "2              social media detect self-harm   \n",
      "3              stemming for arabic languages   \n",
      "4             audio based animal recognition   \n",
      "..                                       ...   \n",
      "63         information in different language   \n",
      "64                  Abbreviations in queries   \n",
      "65                  lemmatization algorithms   \n",
      "66                  filter ad rich documents   \n",
      "67     Advancements in Information Retrieval   \n",
      "\n",
      "                                       query  \\\n",
      "0   retrieval system improving effectiveness   \n",
      "1   machine learning language identification   \n",
      "2              social media detect self harm   \n",
      "3              stemming for arabic languages   \n",
      "4             audio based animal recognition   \n",
      "..                                       ...   \n",
      "63         information in different language   \n",
      "64                  abbreviations in queries   \n",
      "65                  lemmatization algorithms   \n",
      "66                  filter ad rich documents   \n",
      "67     advancements in information retrieval   \n",
      "\n",
      "                                          description  \\\n",
      "0   What papers focus on improving the effectivene...   \n",
      "1   What papers are about machine learning for lan...   \n",
      "2   Which papers focus on how to recognize signs o...   \n",
      "3   Which papers focus on improving stemming in ar...   \n",
      "4   Which papers focus on classifying animal speci...   \n",
      "..                                                ...   \n",
      "63  Which papers cover Cross-language information ...   \n",
      "64  Which papers cover the handling of abbreviatio...   \n",
      "65       Which papers cover lemmatization algorithms?   \n",
      "66                                               None   \n",
      "67                                               None   \n",
      "\n",
      "                                            narrative  \n",
      "0   Relevant papers include research on what makes...  \n",
      "1   Relevant papers include research on methods of...  \n",
      "2   Relevant papers include research on early dete...  \n",
      "3   Relevant papers include research on stemming m...  \n",
      "4   Relevant papers focus on recognizing the speci...  \n",
      "..                                                ...  \n",
      "63  Relevant papers cover concepts, that fall unde...  \n",
      "64  Relevant papers cover concepts, that deal with...  \n",
      "65  Relevant IR documents cover the topic of lemma...  \n",
      "66  How to filter webpages that have tons of ads a...  \n",
      "67  Relevant texts contain Innovations or Advancem...  \n",
      "\n",
      "[68 rows x 6 columns]\n"
     ]
    }
   ],
   "source": [
    "print(pt_dataset.get_topics())"
   ]
  },
  {
   "cell_type": "code",
   "execution_count": 7,
   "metadata": {},
   "outputs": [
    {
     "name": "stdout",
     "output_type": "stream",
     "text": [
      "There are multiple query fields available: ('text', 'title', 'query', 'description', 'narrative'). To use with pyterrier, provide variant or modify dataframe to add query column.\n",
      "0     retrieval system improving effectiveness\n",
      "1     machine learning language identification\n",
      "2                social media detect self-harm\n",
      "3                stemming for arabic languages\n",
      "4               audio based animal recognition\n",
      "                        ...                   \n",
      "63           information in different language\n",
      "64                    Abbreviations in queries\n",
      "65                    lemmatization algorithms\n",
      "66                    filter ad rich documents\n",
      "67       Advancements in Information Retrieval\n",
      "Name: text, Length: 68, dtype: object\n"
     ]
    }
   ],
   "source": [
    "print(pt_dataset.get_topics()[\"text\"])"
   ]
  },
  {
   "cell_type": "code",
   "execution_count": 8,
   "metadata": {},
   "outputs": [
    {
     "name": "stderr",
     "output_type": "stream",
     "text": [
      "ir-lab-sose-2024/ir-acl-anthology-20240504-training documents: 100%|██████████| 126958/126958 [00:02<00:00, 59437.54it/s]"
     ]
    },
    {
     "name": "stdout",
     "output_type": "stream",
     "text": [
      "126958\n"
     ]
    },
    {
     "name": "stderr",
     "output_type": "stream",
     "text": [
      "\n"
     ]
    }
   ],
   "source": [
    "it_test = iter(pt_dataset.get_corpus_iter())\n",
    "\n",
    "sanity = 0\n",
    "for doc in it_test:\n",
    "    if doc[\"text\"] != \"\" :\n",
    "        sanity += 1\n",
    "    if doc[\"text\"] == \"\" :\n",
    "        print(doc)\n",
    "\n",
    "print(sanity)"
   ]
  },
  {
   "cell_type": "code",
   "execution_count": 9,
   "metadata": {},
   "outputs": [
    {
     "data": {
      "text/plain": [
       "['a', '', 's']"
      ]
     },
     "execution_count": 9,
     "metadata": {},
     "output_type": "execute_result"
    }
   ],
   "source": [
    "\"a\\n\\ns\".splitlines()"
   ]
  },
  {
   "cell_type": "code",
   "execution_count": 10,
   "metadata": {},
   "outputs": [
    {
     "name": "stderr",
     "output_type": "stream",
     "text": [
      "ir-lab-sose-2024/ir-acl-anthology-20240504-training documents:   0%|          | 0/126958 [00:00<?, ?it/s]"
     ]
    },
    {
     "data": {
      "text/plain": [
       "{'text': 'A Study on Word Similarity using Context Vector Models\\n\\n\\n There is a need to measure word similarity when processing natural languages, especially when using generalization, classification, or example -based approaches. Usually, measures of similarity between two words are defined according to the distance between their semantic classes in a semantic taxonomy . The taxonomy approaches are more or less semantic -based that do not consider syntactic similarit ies. However, in real applications, both semantic and syntactic similarities are required and weighted differently. Word similarity based on context vectors is a mixture of syntactic and semantic similarit ies. In this paper, we propose using only syntactic related co-occurrences as context vectors and adopt information theoretic models to solve the problems of data sparseness and characteristic precision. The probabilistic distribution of co-occurrence context features is derived by parsing the contextual environment of each word , and all the context features are adjusted according to their IDF (inverse document frequency) values. The agglomerative clustering algorithm is applied to group similar words according to their similarity values. It turns out that words with similar syntactic categories and semantic classes are grouped together.',\n",
       " 'docno': 'O02-2002'}"
      ]
     },
     "execution_count": 10,
     "metadata": {},
     "output_type": "execute_result"
    }
   ],
   "source": [
    "it_test = iter(pt_dataset.get_corpus_iter())\n",
    "\n",
    "next(it_test)"
   ]
  },
  {
   "cell_type": "code",
   "execution_count": 11,
   "metadata": {},
   "outputs": [
    {
     "name": "stderr",
     "output_type": "stream",
     "text": [
      "ir-lab-sose-2024/ir-acl-anthology-20240504-training documents:   0%|          | 0/126958 [00:01<?, ?it/s]"
     ]
    },
    {
     "name": "stdout",
     "output_type": "stream",
     "text": [
      "O02-2002\n",
      "L02-1310\n",
      "R13-1042\n",
      "W05-0819\n",
      "L02-1309\n",
      "R13-1044\n",
      "W05-0818\n",
      "L02-1313\n",
      "R13-1045\n",
      "W05-0821\n",
      "L02-1314\n",
      "R13-1046\n",
      "W05-0820\n",
      "L02-1315\n",
      "R13-1047\n",
      "W05-0823\n",
      "2009.mtsummit-posters.23\n",
      "L02-1316\n",
      "R13-1048\n",
      "W05-0822\n",
      "L02-1317\n"
     ]
    },
    {
     "name": "stderr",
     "output_type": "stream",
     "text": [
      "\n"
     ]
    }
   ],
   "source": [
    "it_test = iter(pt_dataset.get_corpus_iter())\n",
    "print(next(it_test)[\"docno\"])\n",
    "for i in range(20):\n",
    "    print(next(it_test)[\"docno\"])"
   ]
  },
  {
   "cell_type": "code",
   "execution_count": 12,
   "metadata": {},
   "outputs": [
    {
     "name": "stdout",
     "output_type": "stream",
     "text": [
      "0      2005.ipm_journal-ir0volumeA41A1.7\n",
      "1     2019.tois_journal-ir0volumeA37A1.2\n",
      "2     2008.sigirconf_conference-2008.127\n",
      "3      2015.ipm_journal-ir0volumeA51A5.7\n",
      "4     2008.tois_journal-ir0volumeA27A1.1\n",
      "5            1999.ntcir_workshop-1999.31\n",
      "6       2001.sigirconf_workshop-2001w1.0\n",
      "7           2018.wsdm_conference-2018.47\n",
      "8        1995.sigirconf_conference-95.30\n",
      "9      2006.ipm_journal-ir0volumeA42A3.0\n",
      "10    2013.ipm_journal-ir0volumeA49A1.18\n",
      "11    2007.ipm_journal-ir0volumeA43A1.13\n",
      "12          2008.cikm_conference-2008.76\n",
      "13          2004.cikm_conference-2004.47\n",
      "14      2000.sigirconf_conference-2000.7\n",
      "15       1997.sigirconf_conference-97.36\n",
      "16    2005.ipm_journal-ir0volumeA41A4.12\n",
      "17          2008.cikm_conference-2008.59\n",
      "18     2013.ipm_journal-ir0volumeA49A1.7\n",
      "19    2011.tois_journal-ir0volumeA29A2.0\n",
      "Name: docno, dtype: object\n"
     ]
    }
   ],
   "source": [
    "print(pt_dataset.get_qrels()[\"docno\"].head(20))"
   ]
  },
  {
   "cell_type": "code",
   "execution_count": 13,
   "metadata": {},
   "outputs": [
    {
     "name": "stderr",
     "output_type": "stream",
     "text": [
      "ir-lab-sose-2024/ir-acl-anthology-20240504-training documents:   0%|          | 20/126958 [00:02<3:33:30,  9.91it/s]\n",
      "ir-lab-sose-2024/ir-acl-anthology-20240504-training documents: 100%|██████████| 126958/126958 [00:02<00:00, 54568.32it/s]"
     ]
    },
    {
     "name": "stdout",
     "output_type": "stream",
     "text": [
      "{'1986.tois_journal-ir0volumeA4A4.3', '2020.ecir_conference-20201.29', '2020.wsdm_conference-2020.26', '2001.spire_conference-2001.18', '2005.sigirconf_conference-2005.126', '2015.wwwconf_conference-2015.79', '2011.wwwconf_conference-2011c.115', '2011.sigirconf_conference-2011.27', '2017.jasis_journal-ir0volumeA68A8.3', '2018.wwwconf_conference-2018.180', '2009.cikm_conference-2009.1', '2014.wwwconf_conference-2014c.9', '2015.sigirconf_conference-2015.45', '1988.tois_journal-ir0volumeA6A3.0', '2018.clef_conference-2018w.113', '2002.cikm_conference-2002.69', '2018.wwwconf_conference-2018c.140', '2021.wwwconf_conference-2021c.33', '2018.ipm_journal-ir0volumeA54A6.6', '2012.sigirconf_conference-2012.105', '2011.sigirconf_conference-2011.79', '2019.wwwconf_conference-2019.217', '2020.sigirconf_conference-2020.143', '2018.cikm_conference-2018.304', '2014.wwwconf_conference-2014.28', '2008.ipm_journal-ir0volumeA44A2.25', '2017.fire_conference-2017w.30', '2020.clef_conference-2020w.54', '2014.sigirconf_workshop-2014somera.10', '2020.cikm_conference-2020.206', '2004.jasis_journal-ir0volumeA55A11.9', '2020.clef_conference-2020w.49', '2005.sigirconf_conference-2005.64', '2013.trec_conference-2013.23', '2018.wwwconf_conference-2018.13', '2019.tist_journal-ir0volumeA10A1.6', '2019.trec_conference-2019.16', '2017.clef_conference-2017w.49', '2006.jasis_journal-ir0volumeA57A8.8', '2011.sigirconf_conference-2011.55', '2014.fire_conference-2014.5', '2013.wwwconf_conference-2013c.274', '2016.tist_journal-ir0volumeA7A4.3', '2010.wsdm_conference-2010.20', '2015.tist_journal-ir0volumeA7A1.10', '2004.ecir_conference-2004.21', '2002.clef_workshop-2002.29', '2020.ipm_journal-ir0volumeA57A6.89', '2008.jasis_journal-ir0volumeA59A3.10', '2001.wwwconf_conference-2001.33', '2015.wsdm_conference-2015.26', '2013.tois_journal-ir0volumeA31A4.0', '2016.sigirconf_conference-2016.150', '2006.cikm_conference-2006.71', '2019.wwwjournals_journal-ir0volumeA22A4.8', '2008.wwwconf_conference-2008.38', '2007.riao_conference-2007.16', '2011.sigirconf_conference-2011.194', '2019.sigirconf_conference-2019osirrc.2', '2019.wwwjournals_journal-ir0volumeA22A1.3', '2009.ipm_journal-ir0volumeA45A1.5', '2009.wwwconf_workshop-2009ldow.10', '2018.wwwjournals_journal-ir0volumeA21A4.5', '2017.spire_conference-2017.18', '2021.jasis_journal-ir0volumeA72A1.0', '2016.clef_conference-2016w.23', '2009.wsdm_conference-2009.5', '2018.sigirconf_conference-2018.16', '2020.sigirconf_conference-2020.313', '2018.wwwjournals_journal-ir0volumeA21A4.0', '1998.sigirconf_conference-98.32', '2018.wwwconf_conference-2018c.293', '2017.cikm_conference-2017.84', '2014.wwwconf_conference-2014c.155', '2014.sigirconf_workshop-2014medir.9', '2012.wwwconf_conference-2012.21', '2020.sigirconf_conference-2020.249', '2021.jasis_journal-ir0volumeA72A1.8', '1979.jasis_journal-ir0volumeA30A3.10', '2017.sigirconf_conference-2017.244', '2006.wwwjournals_journal-ir0volumeA9A4.1', '2016.wsdm_conference-2016.38', '2020.ecir_conference-20202.58', '2006.ipm_journal-ir0volumeA42A4.12', '2020.sigirconf_conference-2020.290', '2018.ijmir_journal-ir0volumeA7A2.0', '2005.wwwconf_conference-2005si.15', '2020.ecir_conference-20202.78', '2019.wsdm_conference-2019.47', '2018.sigirconf_conference-2018.212', '2005.airs_conference-2005.63', '2015.wwwconf_conference-2015c.71', '2011.wsdm_conference-2011.86', '2017.ictir_conference-2017.36', '2014.cikm_workshop-2014psbd.5', '2011.cikm_conference-2011.57', '2017.cikm_conference-2017.221', '2009.cikm_conference-2009.121', '2020.clef_conference-2020w.74', '2011.cikm_conference-2011.384', '2013.ecir_conference-2013.66', '2013.clef_workshop-2013bioasq.7', '2007.wwwconf_conference-2007.33', '2005.trec_conference-2005.89', '2014.jasis_journal-ir0volumeA65A3.4', '1972.jasis_journal-ir0volumeA23A2.2', '2005.clef_workshop-2005w.8', '2017.wsdm_conference-2017.64', '2008.cikm_conference-2008.76', '2013.clef_conference-2013.32', '2007.wwwconf_conference-MenasceA07.0', '2012.sigirjournals_journal-ir0volumeA46A2.9', '2010.sigirconf_conference-2010.89', '2016.wsdm_conference-2016.2', '2006.airs_conference-2006.25', '2014.wwwconf_conference-2014c.198', '2018.ictir_conference-2018.10', '2019.ecir_workshop-2019amir.2', '2016.cikm_conference-2016.74', '2018.sigirconf_conference-2018.80', '2017.cikm_conference-2017.72', '2021.wsdm_conference-2021.32', '2018.wsdm_conference-2018.104', '2013.sigirconf_conference-2013.122', '2015.jasis_journal-ir0volumeA66A9.6', '2018.cikm_conference-2018.138', '2019.wwwconf_conference-2019.134', '2014.sigirconf_workshop-2014erd.1', '2016.wwwconf_conference-2016.119', '2007.cikm_conference-2007.4', '2003.wwwconf_conference-2003.28', '2009.tois_journal-ir0volumeA27A3.4', '2011.jasis_journal-ir0volumeA62A12.13', '2017.tois_journal-ir0volumeA35A3.10', '2011.ipm_journal-ir0volumeA47A4.10', '2003.tois_journal-ir0volumeA21A4.2', '1986.sigirconf_conference-86.1', '2004.clef_workshop-2004.6', '1991.sigirconf_conference-91.18', '2011.tist_journal-ir0volumeA2A4.6', '2011.sigirconf_conference-2011.188', '2016.spire_conference-2016.12', '2011.tist_journal-ir0volumeA2A3.7', '2013.cikm_conference-2013.136', '2013.cikm_conference-2013.323', '2014.sigirconf_conference-2014.179', '2011.sigirjournals_journal-ir0volumeA45A2.15', '2019.clef_conference-2019w.34', '2009.ipm_journal-ir0volumeA45A2.9', '2017.wwwconf_conference-2017.58', '2015.ictir_conference-2015.2', '2013.wwwconf_conference-2013.41', '2013.clef_conference-2013w.167', '2012.wwwconf_conference-2012c.84', '2018.wwwconf_conference-2018c.28', '2019.tois_journal-ir0volumeA37A2.5', '2020.wwwconf_conference-2020c.40', '2014.sigirconf_conference-2014.197', '2008.tois_journal-ir0volumeA27A1.3', '2012.ecir_conference-2012.53', '2015.ecir_conference-2015.33', '2018.cikm_conference-2018.74', '2010.cikm_workshop-2010smuc.7', '2010.sigirconf_conference-2010.98', '1983.sigirconf_conference-83.9', '2013.clef_conference-2013w.98', '2019.wsdm_conference-2019.83', '2010.jasis_journal-ir0volumeA61A3.9', '2014.ipm_journal-ir0volumeA50A5.12', '2012.cikm_workshop-2012dtmbio.7', '2009.ipm_journal-ir0volumeA45A2.5', '2005.wwwconf_conference-2005.8', '2015.tois_journal-ir0volumeA33A2.4', '2012.sigirconf_conference-2012.27', '2015.cikm_workshop-2015dtmbio.14', '2014.clef_conference-2014w.73', '2008.ipm_journal-ir0volumeA44A1.16', '2013.mir_conference-2013.4', '2007.clef_workshop-2007.59', '2019.sigirconf_workshop-2019birndl.0', '2008.cikm_workshop-2008dtmbio.9', '2015.sigirconf_workshop-2015sps.7', '2020.cikm_conference-2020.260', '1983.jasis_journal-ir0volumeA34A1.7', '2010.wwwconf_conference-2010.4', '2000.cikm_conference-2000.28', '2010.sigirconf_conference-2010.208', '2017.mir_conference-2017.38', '2018.sigirconf_workshop-2018ecom.10', '2019.chiir_conference-2019.20', '1998.wwwjournals_journal-ir0volumeA1A1.3', '2003.wwwconf_conference-2003p.30', '2021.wwwconf_conference-2021.128', '2016.sigirconf_conference-2016.43', '2012.cikm_conference-2012.197', '2017.sigirconf_conference-2017.232', '2019.ecir_conference-20192.53', '2016.ictir_conference-2016.14', '2015.wwwconf_conference-2015.49', '2020.ecir_conference-20202.84', '1995.sigirconf_conference-95.20', '2017.wwwconf_conference-2017c.165', '2004.tois_journal-ir0volumeA22A1.0', '2019.spire_conference-2019.4', '2017.sigirconf_workshop-2017kg4ir.6', '2018.wsdm_conference-2018.102', '2001.wwwconf_conference-2001p.73', '2001.ipm_journal-ir0volumeA37A6.0', '2018.tois_journal-ir0volumeA36A3.6', '2007.clef_workshop-2007.43', '2014.cikm_conference-2014.185', '2020.cikm_conference-2020.223', '2004.ipm_journal-ir0volumeA40A1.2', '2004.wwwconf_conference-2004.3', '2019.tois_journal-ir0volumeA37A3.1', '2009.cikm_conference-2009.70', '2016.wwwconf_conference-2016c.30', '2018.wsdm_conference-2018.14', '2002.cikm_conference-2002.59', '2018.wwwjournals_journal-ir0volumeA21A1.6', '1999.ntcir_workshop-1999.2', '2019.ecir_workshop-2019amir.6', '2005.sigirconf_conference-2005.101', '2018.wsdm_conference-2018.3', '2018.ictir_conference-2018.36', '2017.wwwjournals_journal-ir0volumeA20A2.8', '2016.tois_journal-ir0volumeA35A1.6', '2018.sigirconf_conference-2018.219', '2017.wwwconf_conference-2017.13', '2019.ipm_journal-ir0volumeA56A4.14', '2018.jasis_journal-ir0volumeA69A3.9', '2013.trec_conference-2013.24', '2020.ecir_conference-20202.4', '2014.wwwconf_conference-2014.11', '2014.wwwconf_conference-2014c.288', '2021.wwwconf_conference-2021.305', '2005.wwwconf_conference-2005.38', '2008.wwwconf_workshop-2008ldow.14', '2011.wsdm_conference-2011.9', '2016.sigirconf_conference-2016.1', '2014.cikm_workshop-2014esair.8', '2011.cikm_conference-2011.338', '2018.sigirconf_workshop-2018ecom.6', '2005.wwwconf_conference-2005si.46', '2018.wsdm_conference-2018.81', '2017.tist_journal-ir0volumeA8A2.12', '2018.ijmir_journal-ir0volumeA7A1.1', '2020.wsdm_workshop-2020privatenlp.10', '2013.tweb_journal-ir0volumeA7A2.6', '2019.sigirconf_conference-2019osirrc.4', '2004.clef_workshop-2004.60', '2016.ictir_conference-2016.16', '2011.ntcir_workshop-2011evia.3', '2009.ipm_journal-ir0volumeA45A1.9', '2017.wwwconf_conference-2017c.190', '2005.wwwconf_conference-2005.26', '2006.trec_conference-2006.91', '2005.ipm_journal-ir0volumeA41A5.11', '2018.sigirconf_conference-2018.238', '2021.wsdm_conference-2021.6', '2007.sigirconf_conference-2007.212', '2014.cikm_conference-2014.122', '2014.cikm_workshop-2014dtmbio.3', '2018.trec_conference-2018.44', '2010.clef_workshop-2010w.49', '2005.trec_conference-2005.27', '2012.wwwconf_workshop-2012dec3d.9', '2018.wwwconf_conference-2018.56', '2018.ecir_workshop-2018brodyn.4', '2016.wsdm_conference-2016.10', '2017.wwwconf_conference-2017c.74', '2017.clef_conference-2017w.64', '2009.jasis_journal-ir0volumeA60A5.8', '2008.cikm_conference-2008.16', '2002.cikm_conference-2002.71', '2014.tist_journal-ir0volumeA5A2.8', '2014.wwwconf_conference-2014c.78', '2020.clef_conference-2020w.116', '2017.ecir_workshop-2017bir.4', '2016.wsdm_conference-2016.14', '2009.cikm_conference-2009.258', '2019.ecir_conference-20192.48', '2014.clef_conference-2014w.88', '2017.tweb_journal-ir0volumeA11A3.1', '2016.tweb_journal-ir0volumeA10A3.0', '2015.wsdm_conference-2015.49', '2009.cikm_conference-2009.17', '2014.sigirconf_conference-2014.136', '2012.wwwconf_workshop-2012dec3d.4', '2018.wsdm_conference-2018.97', '2010.wwwconf_conference-2010.109', '2019.fire_conference-2019w.7', '2014.clef_conference-2014w.63', '2016.sigirconf_conference-2016.203', '2014.trec_conference-2014.18', '2021.wsdm_conference-2021.156', '2010.wwwjournals_journal-ir0volumeA13A3.3', '2006.airs_conference-2006.49', '2018.sigirconf_workshop-2018ecom.33', '2018.tois_journal-ir0volumeA36A4.8', '2015.cikm_workshop-2015dtmbio.17', '2020.clef_conference-2020w.169', '2020.sigirconf_conference-2020.110', '2014.wsdm_conference-2014.80', '2012.sigirconf_conference-2012.107', '2018.sigirconf_conference-2018.223', '2004.cikm_conference-2004.14', '2009.cikm_conference-2009.301', '2019.sigirconf_workshop-2019ecom.19', '2013.cikm_conference-2013.200', '1999.trec_conference-1999.56', '2018.tist_journal-ir0volumeA9A6.0', '2013.mir_conference-2013.32', '2012.wwwconf_conference-2012.42', '2011.sigirconf_conference-2011.164', '2012.cikm_conference-2012.308', '2016.wwwjournals_journal-ir0volumeA19A6.1', '2002.clef_workshop-2002w.32', '2006.airs_conference-2006.60', '2016.spire_conference-2016.7', '2015.wwwconf_conference-2015.88', '2010.sigirconf_conference-2010.49', '2013.clef_conference-2013w.11', '2017.clef_conference-2017.9', '2015.sigirconf_workshop-2015sps.2', '2005.trec_conference-2005.110', '1989.sigirjournals_journal-ir0volumeA23A34.6', '2006.jasis_journal-ir0volumeA57A13.6', '2001.tois_journal-ir0volumeA19A4.1', '2015.ictir_conference-2015.9', '2016.cikm_conference-2016.204', '2019.clef_conference-2019w.50', '2013.ntcir_conference-2013.75', '2011.tois_journal-ir0volumeA29A2.5', '2020.wwwconf_conference-2020.37', '2019.sigirconf_workshop-2019ecom.11', '2013.jasis_journal-ir0volumeA64A2.3', '2016.tist_journal-ir0volumeA8A1.3', '2010.iir_workshop-2010.9', '2006.cikm_conference-2006.60', '2018.tweb_journal-ir0volumeA12A1.4', '2004.sigirconf_conference-2004.129', '2010.cikm_conference-2010.91', '2018.wwwconf_conference-2018.57', '2008.sigirconf_conference-2008.170', '2016.cikm_conference-2016.18', '2006.jasis_journal-ir0volumeA57A11.2', '2011.sigirconf_conference-2011.139', '2020.sigirconf_conference-2020.367', '2000.riao_conference-2000.44', '1984.jasis_journal-ir0volumeA35A5.2', '2011.sigirconf_conference-2011.20', '2014.ntcir_workshop-2014evia.5', '2000.cikm_conference-2000.31', '2015.cikm_conference-2015.82', '2017.airs_conference-2017.16', '2018.ecir_conference-2018.12', '2017.cikm_conference-2017.302', '2010.cikm_conference-2010.192', '2007.sigirconf_conference-2007.145', '2014.sigirconf_workshop-2014pir.5', '2018.cikm_workshop-2018w.17', '2004.tois_journal-ir0volumeA22A1.5', '2013.sigirjournals_journal-ir0volumeA47A2.4', '2010.trec_conference-2010.51', '2008.wwwconf_conference-2008.233', '2019.ecir_conference-20192.47', '2012.wsdm_conference-2012.59', '2020.wwwconf_conference-2020c.184', '2014.wsdm_conference-2014.79', '2006.clef_workshop-2006w.111', '2005.clef_workshop-2005w.111', '2006.ipm_journal-ir0volumeA42A3.2', '2014.sigirconf_conference-2014.73', '2020.clef_conference-2020w.52', '2008.ipm_journal-ir0volumeA44A1.20', '2017.cikm_conference-2017.61', '2003.wwwconf_workshop-2002webdyn.1', '2019.wwwconf_conference-2019.152', '2009.wsdm_conference-2009.25', '2004.wwwconf_conference-2004.67', '2010.jasis_journal-ir0volumeA61A1.1', '2009.cikm_conference-2009.291', '2012.tist_journal-ir0volumeA3A4.16', '2015.tois_journal-ir0volumeA33A4.1', '2006.wwwconf_conference-2006.116', '2020.clef_conference-2020.18', '2012.tois_journal-ir0volumeA30A2.5', '2008.cikm_conference-2008.8', '2019.ecir_conference-20191.9', '2017.tois_journal-ir0volumeA35A4.8', '2013.fire_conference-2013.14', '2012.wwwconf_conference-2012c.137', '2017.wwwconf_conference-2017c.159', '2020.clef_conference-2020w.200', '1995.jasis_journal-ir0volumeA46A9.12', '2020.mir_workshop-2020mmart.7', '2019.tois_journal-ir0volumeA37A1.8', '2017.fire_conference-2017w.34', '2012.wwwconf_workshop-2012dec3d.3', '2014.wwwconf_conference-2014c.239', '2010.airs_conference-2010.21', '1998.sigirconf_conference-98.8', '2013.sigirconf_conference-2013.205', '2019.tois_journal-ir0volumeA37A1.0', '2009.clef_workshop-2009w.75', '2010.ntcir_workshop-2010evia.11', '1982.sigirjournals_journal-ir0volumeA17A3.3', '2017.wwwconf_conference-2017.83', '2016.spire_conference-2016.20', '2016.wwwconf_conference-2016c.44', '2016.jasis_journal-ir0volumeA67A9.5', '2005.ipm_journal-ir0volumeA41A4.12', '2005.ipm_journal-ir0volumeA41A3.5', '2009.wsdm_conference-2009.9', '2008.clef_workshop-2008.87', '2005.ipm_journal-ir0volumeA41A4.10', '2008.wwwjournals_journal-ir0volumeA11A4.0', '2015.sigirconf_conference-2015.56', '2012.ipm_journal-ir0volumeA48A1.9', '2017.wwwconf_conference-2017.21', '2020.wwwconf_conference-2020c.2', '2017.cikm_conference-2017.110', '2009.wsdm_workshop-2009wscd.10', '2004.clef_workshop-2004w.74', '2020.cikm_conference-2020.67', '2005.clef_workshop-2005w.119', '2014.fire_conference-2014.17', '2013.ipm_journal-ir0volumeA49A2.10', '2013.cikm_conference-2013.342', '2016.airs_conference-2016.25', '2010.tois_journal-ir0volumeA28A2.0', '2002.clef_workshop-2002w.29', '2018.tweb_journal-ir0volumeA12A1.5', '2018.tweb_journal-ir0volumeA12A1.3', '2007.tweb_journal-ir0volumeA1A3.2', '2013.cikm_conference-2013.177', '2011.cikm_conference-2011.282', '2002.ntcir_workshop-2002.6', '2015.wwwconf_conference-2015c.41', '2017.wsdm_conference-2017.96', '2013.fire_conference-2013.10', '2015.trec_conference-2015.70', '2003.wwwconf_conference-2003p.79', '2013.mir_conference-2013.16', '2005.wwwconf_conference-2005.49', '2007.sigirconf_conference-2007.221', '2012.wwwconf_conference-2012c.106', '2015.wwwjournals_journal-ir0volumeA18A2.6', '2017.wwwconf_conference-2017c.234', '2018.sigirconf_conference-2018.30', '2014.cikm_conference-2014.198', '2009.ipm_journal-ir0volumeA45A3.2', '2021.ecir_conference-20212.82', '2006.ecir_conference-2006.14', '2011.wsdm_conference-2011.59', '2008.cikm_conference-2008.183', '1976.ipm_journal-ir0volumeA12A3.4', '1984.jasis_journal-ir0volumeA35A5.4', '2015.tois_journal-ir0volumeA33A3.5', '2007.ipm_journal-ir0volumeA43A5.17', '2017.trec_conference-2017.21', '2018.wsdm_conference-2018.6', '2019.wsdm_conference-2019.33', '2019.chiir_conference-2019.21', '2009.trec_conference-2009.21', '2008.wwwconf_conference-2008.169', '1977.sigirjournals_journal-ir0volumeA12A2.0', '1980.jasis_journal-ir0volumeA31A4.9', '2014.sigirconf_conference-2014.212', '2013.wsdm_conference-2013.13', '1983.sigirconf_conference-83.20', '2015.wwwjournals_journal-ir0volumeA18A6.3', '2015.wwwconf_conference-2015.2', '2017.wwwconf_conference-2017.14', '2018.wwwconf_conference-2018c.181', '2014.sigirconf_workshop-2014somera.9', '2015.fire_conference-2015.10', '2008.clef_workshop-2008w.21', '2015.clef_conference-2015.5', '2017.clef_conference-2017w.45', '2002.jasis_journal-ir0volumeA53A11.7', '2021.chiir_workshop-2021birds.9', '2021.wsdm_conference-2021.148', '2010.tweb_journal-ir0volumeA4A2.1', '2013.cikm_conference-2013.147', '2014.cikm_workshop-2014dtmbio.15', '2018.sigirjournals_journal-ir0volumeA52A2.26', '2016.jasis_journal-ir0volumeA67A10.16', '2009.trec_conference-2009.5', '2017.sigirconf_conference-2017.9', '2006.wwwconf_conference-2006.147', '2019.wsdm_conference-2019.78', '2003.clef_workshop-2003w.36', '2019.tois_journal-ir0volumeA37A2.10', '2011.wwwconf_conference-2011c.86', '2004.cikm_conference-2004.59', '2014.sigirconf_conference-2014.4', '2009.ecir_conference-2009.0', '2019.chiir_conference-2019.55', '2019.ecir_workshop-2019amir.3', '2018.tois_journal-ir0volumeA36A3.7', '2001.tois_journal-ir0volumeA19A4.0', '2013.sigirconf_conference-2013.152', '2006.clef_workshop-2006w.67', '1990.sigirjournals_journal-ir0volumeA24A3.10', '2020.sigirjournals_journal-ir0volumeA54A1.14', '2021.ecir_conference-20212.27', '2009.ipm_journal-ir0volumeA45A2.3', '1978.sigirconf_conference-78.8', '2004.sigirconf_conference-2004.36', '2015.sigirconf_workshop-2015gsb.4', '2018.cikm_conference-2018.98', '2013.clef_workshop-2013bioasq.1', '2020.wwwconf_conference-2020.240', '2012.trec_conference-2012.73', '2012.jasis_journal-ir0volumeA63A10.6', '2021.chiir_conference-2021.41', '2011.sigirconf_conference-2011.121', '2009.wsdm_conference-2009.23', '2011.sigirconf_conference-2011.58', '2017.wsdm_conference-2017.97', '2016.ictir_conference-2016.17', '2011.ipm_journal-ir0volumeA47A2.9', '2019.clef_conference-2019w.156', '2020.clef_conference-2020w.208', '2008.ntcir_workshop-2008.28', '2013.wwwconf_conference-2013.109', '2008.jasis_journal-ir0volumeA59A1.17', '2013.cikm_conference-2013.240', '2000.ir_journal-ir0volumeA3A2.2', '2019.mir_conference-2019.31', '1983.sigirconf_conference-83.13', '2014.airs_conference-2014.19', '2008.ecir_conference-2008.54', '2017.wwwconf_conference-2017.48', '2017.wwwconf_conference-2017.47', '2012.ipm_journal-ir0volumeA48A5.1', '2013.tois_journal-ir0volumeA31A4.1', '2012.trec_conference-2012.15', '2004.cikm_conference-2004.91', '2015.wwwconf_conference-2015c.35', '2008.cikm_conference-2008.153', '2015.ecir_workshop-2015mrdm.7', '2010.wwwconf_conference-2010.132', '2008.cikm_conference-2008.50', '2015.sigirconf_conference-2015.140', '1973.jasis_journal-ir0volumeA24A5.0', '1999.trec_conference-1999.18', '2013.ntcir_workshop-2013evia.9', '2014.wwwconf_conference-2014c.274', '2017.fire_conference-2017w.43', '2002.wwwconf_conference-2002.69', '2003.ecir_conference-2003.0', '2015.mir_conference-2015.49', '1993.sigirconf_conference-93.7', '2008.cikm_workshop-2008lsdsir.10', '2014.sigirconf_workshop-2014medir.2', '2014.wwwconf_conference-2014.38', '2014.sigirconf_conference-2014.216', '2010.ntcir_workshop-2010.21', '2020.wsdm_conference-2020.30', '2012.cikm_conference-2012.57', '2003.jasis_journal-ir0volumeA54A2.1', '2018.wwwconf_conference-2018c.305', '2007.tois_journal-ir0volumeA26A1.4', '2008.wwwconf_conference-2008.184', '2016.wwwconf_conference-2016c.120', '2016.fire_conference-2016w.55', '2008.cikm_conference-2008.64', '2009.ipm_journal-ir0volumeA45A1.0', '2014.ntcir_conference-2014.19', '2016.ipm_journal-ir0volumeA52A4.10', '2018.wsdm_conference-2018.89', '2013.wwwconf_conference-2013c.138', '2013.riao_conference-2013.38', '2004.cikm_conference-2004.52', '2017.wsdm_conference-2017.15', '2020.wsdm_workshop-2020hsdm.2', '2005.wwwconf_workshop-2004webdyn.11', '2011.wwwconf_conference-2011.28', '2004.clef_workshop-2004.27', '2017.ipm_journal-ir0volumeA53A2.5', '2020.sigirconf_conference-2020.4', '2012.tist_journal-ir0volumeA3A4.3', '2015.wsdm_conference-2015.53', '2019.fire_conference-2019w.36', '2014.wwwconf_conference-2014.32', '1989.tois_journal-ir0volumeA7A3.4', '1991.sigirconf_conference-91.21', '2019.ecir_conference-20191.25', '2015.wwwjournals_journal-ir0volumeA18A3.0', '2016.sigirconf_conference-2016.201', '2018.ecir_conference-2018.70', '2006.sigirconf_conference-2006.144', '2021.ecir_conference-20211.22', '2000.tois_journal-ir0volumeA18A2.0', '2004.clef_workshop-2004.33', '2012.sigirjournals_journal-ir0volumeA46A2.13', '2011.wsdm_conference-2011.56', '2020.clef_conference-2020w.191', '2012.cikm_conference-2012.161', '2007.clef_workshop-2007w.69', '2005.clef_workshop-2005w.96', '2007.wwwconf_conference-2007.154', '2008.cikm_conference-2008.36', '2020.wwwconf_conference-2020c.22', '1989.sigirconf_conference-89.24', '2007.wwwconf_conference-2007.59', '2013.airs_conference-2013.21', '2012.cikm_conference-2012.362', '2002.cikm_conference-2002.1', '2009.cikm_conference-2009.247', '2015.tist_journal-ir0volumeA7A1.0', '2020.ictir_conference-2020.34', '2019.wwwjournals_journal-ir0volumeA22A2.21', '1971.sigirconf_conference-71.2', '2018.sigirconf_workshop-2018birndl.4', '2018.sigirjournals_journal-ir0volumeA52A2.23', '2015.sigirconf_conference-2015.119', '1998.trec_conference-1998.19', '2012.wsdm_conference-2012.73', '1999.cikm_conference-99.67', '2011.sigirconf_conference-2011.216', '2018.wsdm_conference-2018.78', '2000.jasis_journal-ir0volumeA51A2.0', '2018.sigirconf_conference-2018.55', '2017.ipm_journal-ir0volumeA53A4.1', '2013.clef_conference-2013w.34', '2016.ictir_conference-2016.20', '2017.wsdm_conference-2017.94', '2013.wwwconf_conference-2013c.27', '2010.ecir_conference-2010.60', '2014.tois_journal-ir0volumeA32A4.1', '2020.ecir_conference-20202.70', '2017.sigirconf_workshop-2017birndl.1', '2013.sigirconf_conference-2013.1', '2010.cikm_conference-2010.189', '2013.ntcir_workshop-2013evia.10', '2014.tist_journal-ir0volumeA5A4.8', '2012.wwwconf_workshop-2012dec3d.7', '2017.ipm_journal-ir0volumeA53A4.6', '2010.cikm_conference-2010.109', '1999.sigirconf_conference-99.12', '2007.cikm_conference-2007.3', '2007.ipm_journal-ir0volumeA43A5.3', '2018.ecir_workshop-2018brodyn.2', '2016.fire_conference-2016w.53', '2018.wwwconf_conference-2018.188', '2010.cikm_conference-2010.49', '2014.cikm_conference-2014.87', '2019.ipm_journal-ir0volumeA56A4.0', '2012.cikm_conference-2012.98', '2004.sigirconf_conference-2004.14', '2018.wwwconf_conference-2018.141', '2016.cikm_conference-2016.93', '2002.ntcir_workshop-2002.18', '2015.wwwjournals_journal-ir0volumeA18A2.4', '2018.clef_conference-2018w.99', '2016.sigirconf_conference-2016.34', '2019.wwwjournals_journal-ir0volumeA22A3.11', '2004.spire_conference-2004.15', '2015.clef_conference-2015w.42', '2004.clef_workshop-2004.38', '2016.tweb_journal-ir0volumeA10A3.3', '2020.wsdm_conference-2020.1', '2016.sigirconf_conference-2016.231', '2007.cikm_conference-2007.134', '2004.ecir_conference-2004.22', '2020.clef_conference-2020w.59', '2008.cikm_conference-2008.45', '2014.tist_journal-ir0volumeA5A4.14', '2020.sigirconf_conference-2020.301', '2001.wwwconf_conference-2001.11', '2019.ipm_journal-ir0volumeA56A2.1', '2010.jasis_journal-ir0volumeA61A6.8', '2012.sigirconf_workshop-2012osir.5', '2008.sigirconf_conference-2008.56', '2006.wwwconf_conference-2006.195', '2011.wwwconf_conference-2011.78', '2013.clef_conference-2013w.158', '2017.clef_conference-2017w.68', '2001.ntcir_workshop-2001.12', '2010.cikm_workshop-2010smuc.11', '2001.clef_workshop-2000w.8', '2019.trec_conference-2019.26', '1998.sigirjournals_journal-ir0volumeA32A1.1', '2014.sigirconf_conference-2014.222', '2017.sigirconf_conference-2017.243', '2015.wwwconf_conference-2015c.204', '2006.ipm_journal-ir0volumeA42A5.16', '2012.sigirconf_conference-2012.38', '2020.clef_conference-2020w.102', '2007.wwwconf_conference-2007.6', '2016.ecir_conference-2016.88', '2015.wwwjournals_journal-ir0volumeA18A4.8', '2001.jasis_journal-ir0volumeA52A13.6', '2018.wsdm_conference-2018.38', '2018.fire_conference-2018w.9', '2005.sigirconf_conference-2005.9', '2015.wwwconf_conference-2015.17', '2010.wwwconf_conference-2010.91', '2017.cikm_conference-2017.323', '2016.tist_journal-ir0volumeA7A4.0', '2002.ir_journal-ir0volumeA5A23.8', '2018.wwwconf_conference-2018c.377', '2014.clef_conference-2014.5', '2010.wsdm_conference-2010.16', '2008.sigirconf_conference-2008.42', '2001.clef_workshop-2001.44', '2011.cikm_conference-2011.42', '2019.wwwjournals_journal-ir0volumeA22A2.17', '2008.wwwconf_conference-2008.49', '2004.clef_workshop-2004.44', '2011.wwwconf_conference-2011.23', '2013.wwwconf_conference-2013c.282', '2016.wwwjournals_journal-ir0volumeA19A3.6', '1992.sigirjournals_journal-ir0volumeA26A2.3', '2009.ir_journal-ir0volumeA12A3.3', '2007.tois_journal-ir0volumeA26A1.3', '2018.clef_conference-2018w.16', '2010.tweb_journal-ir0volumeA4A2.0', '2010.tois_journal-ir0volumeA29A1.1', '2020.sigirconf_conference-2020.354', '2011.sigirconf_conference-2011.102', '2018.cikm_conference-2018.249', '2018.trec_conference-2018.14', '2016.tist_journal-ir0volumeA7A4.15', '2021.ecir_conference-20212.0', '2009.wwwconf_conference-2009.1', '2011.sigirconf_conference-2011.12', '2019.wsdm_conference-2019.112', '2013.cikm_conference-2013.52', '2007.trec_conference-2007.72', '2019.wsdm_conference-2019.5', '2013.wwwconf_conference-2013c.180', '2012.wwwconf_workshop-2012dec3d.1', '2020.sigirconf_conference-2020.352', '2011.tweb_journal-ir0volumeA5A2.1', '2009.wsdm_workshop-2009wscd.7', '1992.jasis_journal-ir0volumeA43A2.6', '2006.clef_workshop-2006w.110', '2015.sigirconf_conference-2015.39', '2013.cikm_workshop-2013ueo.7', '2016.wwwconf_conference-2016c.45', '2009.ecir_conference-2009.24', '2013.cikm_workshop-2013unlp.10', '1988.ipm_journal-ir0volumeA24A3.1', '2012.wwwconf_conference-2012c.185', '2008.wwwjournals_journal-ir0volumeA11A2.0', '2011.wsdm_conference-2011.79', '2008.ecir_conference-2008.44', '2010.ipm_journal-ir0volumeA46A3.6', '2020.jasis_journal-ir0volumeA71A5.5', '2012.tweb_journal-ir0volumeA6A1.1', '2006.tois_journal-ir0volumeA24A1.1', '2006.clef_workshop-2006.45', '2011.jasis_journal-ir0volumeA62A4.8', '2010.clef_conference-2010.3', '2018.wwwconf_conference-2018.162', '2011.trec_conference-2011.102', '2020.wwwconf_conference-2020.154', '2018.clef_conference-2018.20', '2013.cikm_conference-2013.270', '2019.clef_conference-2019w.170', '2001.tois_journal-ir0volumeA19A2.2', '2019.sigirconf_conference-2019osirrc.8', '2020.sigirconf_workshop-2020birds.12', '2005.clef_workshop-2005w.4', '2014.sigirconf_conference-2014.16', '2010.wsdm_conference-2010.33', '2001.cikm_conference-2001.37', '2009.ecir_conference-2009.92', '2008.cikm_conference-2008.178', '2004.wwwconf_conference-2004at.114', '2017.ipm_journal-ir0volumeA53A5.5', '2017.clef_conference-2017w.88', '2005.sigirconf_conference-2005.48', '2003.clef_workshop-2003w.53', '2004.sigirconf_conference-2004.118', '1997.sigirconf_conference-97.33', '2017.ipm_journal-ir0volumeA53A4.5', '1981.sigirconf_conference-81.18', '2006.trec_conference-2006.86', '2018.chiir_conference-2018.23', '2017.cikm_conference-2017.271', '2003.sigirconf_conference-2003.8', '2020.wsdm_conference-2020.120', '2015.clef_conference-2015.8', '2008.trec_conference-2008.5', '2012.ecir_conference-2012.49', '2017.trec_conference-2017.60', '2020.ipm_journal-ir0volumeA57A2.15', '1999.ntcir_workshop-1999.31', '2007.wwwconf_conference-2007.14', '2014.fire_conference-2014.24', '2016.wwwconf_conference-2016.52', '2004.spire_conference-2004.6', '2014.ecir_conference-2014.30', '2020.wsdm_conference-2020.126', '2019.wwwjournals_journal-ir0volumeA22A2.23', '2015.cikm_workshop-2015dtmbio.18', '2018.ipm_journal-ir0volumeA54A6.5', '2011.sigirconf_conference-2011.198', '2016.wwwjournals_journal-ir0volumeA19A2.6', '2005.tois_journal-ir0volumeA23A4.3', '1999.sigirconf_conference-99.43', '2014.tweb_journal-ir0volumeA8A2.1', '2005.cikm_conference-2005.126', '2019.clef_conference-2019w.160', '2004.sigirconf_conference-2004.13', '2001.wwwconf_conference-2001p.25', '2004.ecir_conference-2004.14', '2010.tweb_journal-ir0volumeA4A4.2', '2010.wwwconf_conference-2010.231', '1973.sigirconf_conference-73.4', '2013.ntcir_conference-2013.84', '2019.wsdm_conference-2019.9', '2021.ecir_conference-20211.0', '2017.ictir_conference-2017.52', '1990.ipm_journal-ir0volumeA26A1.3', '2018.airs_conference-2018.15', '2012.spire_conference-2012.1', '2009.ipm_journal-ir0volumeA45A5.5', '2013.cikm_conference-2013.34', '2012.sigirconf_conference-2012.69', '2007.sigirconf_conference-2007.35', '2016.sigirconf_conference-2016.170', '2020.ecir_conference-20201.0', '2020.clef_conference-2020w.24', '1991.sigirconf_conference-91.24', '2007.wwwjournals_journal-ir0volumeA10A4.3', '2013.clef_conference-2013w.79', '1998.tois_journal-ir0volumeA16A1.2', '2005.cikm_conference-2005.150', '1999.cikm_conference-99.48', '2007.sigirconf_conference-2007.26', '2015.clef_conference-2015w.55', '2020.clef_conference-2020w.90', '2020.wsdm_conference-2020.42', '2015.wwwconf_conference-2015c.338', '2015.ictir_conference-2015.28', '2018.sigirconf_conference-2018.141', '2019.jasis_journal-ir0volumeA70A4.4', '2002.ntcir_workshop-2002.58', '2016.sigirconf_conference-2016.232', '2015.wsdm_conference-2015.62', '2013.wwwconf_conference-2013.77', '2001.ir_journal-ir0volumeA4A1.4', '2011.sigirconf_conference-2011.7', '2020.clef_conference-2020w.60', '2005.cikm_conference-2005.115', '2018.cikm_conference-2018.203', '2012.wwwconf_conference-2012c.153', '2011.cikm_conference-2011.113', '2012.tist_journal-ir0volumeA3A4.1', '2017.wsdm_conference-2017.98', '2012.trec_conference-2012.83', '2016.ipm_journal-ir0volumeA52A3.7', '2018.wsdm_conference-2018.55', '2011.sigirjournals_journal-ir0volumeA45A1.4', '2005.wwwconf_conference-2005si.44', '2019.wsdm_conference-2019.115', '2017.clef_conference-2017w.118', '2010.sigirconf_conference-2010.212', '2010.cikm_conference-2010.243', '2006.sigirconf_conference-2006.14', '2015.wsdm_conference-2015.50', '2020.clef_conference-2020w.205', '2015.wwwjournals_journal-ir0volumeA18A2.2', '2013.wwwconf_conference-2013c.133', '2015.wwwjournals_journal-ir0volumeA18A3.5', '2014.mir_workshop-2014emr.0', '2016.clef_conference-2016.20', '2007.wwwconf_conference-2007.138', '2015.tois_journal-ir0volumeA34A1.3', '2021.wsdm_conference-2021.141', '2013.ijirr_journal-ir0volumeA3A3.0', '2013.ictir_conference-2013.3', '2006.ipm_journal-ir0volumeA42A3.10', '2020.ipm_journal-ir0volumeA57A3.20', '2013.wsdm_conference-2013.91', '2000.cikm_conference-2000.29', '2006.ipm_journal-ir0volumeA42A5.11', '2011.sigirconf_conference-2011.210', '2017.sigirconf_conference-2017.233', '2018.fire_conference-2018w.19', '2007.sigirconf_conference-2007.68', '2018.cikm_conference-2018.45', '2019.clef_conference-2019w.19', '2004.airs_conference-2004.20', '2021.wsdm_conference-2021.114', '2003.spire_conference-2003.15', '2021.ipm_journal-ir0volumeA58A4.9', '2009.cikm_conference-2009.275', '2020.cikm_conference-2020.431', '1999.cikm_conference-99.56', '2019.tweb_journal-ir0volumeA13A2.1', '1994.riao_conference-1994.11', '1999.jasis_journal-ir0volumeA50A11.6', '1986.tois_journal-ir0volumeA4A4.1', '2010.airs_conference-2010.12', '2004.wwwconf_conference-2004at.73', '1997.sigirconf_conference-97.4', '2012.tist_journal-ir0volumeA3A4.10', '2015.wsdm_conference-2015.60', '2018.sigirjournals_journal-ir0volumeA52A2.22', '2009.wwwconf_conference-2009.43', '2011.sigirconf_conference-2011.82', '2012.sigirconf_conference-2012.89', '2005.wwwconf_conference-2005.25', '1999.sigirconf_conference-99.17', '1995.ipm_journal-ir0volumeA31A4.3', '2008.wwwconf_conference-2008.205', '2014.sigirconf_workshop-2014pir.6', '1997.cikm_workshop-97.16', '2016.mir_workshop-2016marmi.3', '2016.cikm_conference-2016.202', '2003.ipm_journal-ir0volumeA39A3.3', '2018.cikm_conference-2018.119', '2008.ipm_journal-ir0volumeA44A3.6', '2011.cikm_conference-2011.115', '2012.jasis_journal-ir0volumeA63A11.15', '2013.tois_journal-ir0volumeA31A3.3', '2013.ictir_conference-2013.10', '2012.cikm_conference-2012.93', '2009.sigirconf_conference-2009.21', '2013.dir_workshop-2013.3', '2006.trec_conference-2006.1', '2013.cikm_workshop-2013ueo.0', '1986.sigirconf_conference-86.31', '2008.tois_journal-ir0volumeA27A1.1', '2003.wwwconf_conference-2003.22', '2014.wwwconf_conference-2014.86', '2012.wwwconf_conference-2012c.141', '2011.sigirconf_conference-2011.217', '2013.wwwconf_conference-2013.131', '2009.cikm_workshop-2009dtmbio.0', '2020.clef_conference-2020w.210', '2014.sigirconf_conference-2014.50', '2017.cikm_conference-2017.12', '2016.wwwconf_conference-2016c.47', '2020.wsdm_conference-2020.44', '2017.wsdm_conference-2017.35', '2012.sigirconf_conference-2012.64', '2005.ipm_journal-ir0volumeA41A1.7', '2016.tist_journal-ir0volumeA7A3.8', '2014.fire_conference-2014.8', '2007.jasis_journal-ir0volumeA58A2.14', '2018.ir_journal-ir0volumeA21A1.1', '2020.sigirconf_conference-2020.161', '2019.fire_conference-2019w.42', '2018.ecir_conference-2018.79', '2011.wwwconf_conference-2011c.164', '1999.sigirconf_conference-99.68', '2006.sigirconf_conference-2006.12', '2001.clef_workshop-2001.4', '2016.sigirconf_conference-2016.47', '2014.tois_journal-ir0volumeA32A4.5', '2004.clef_workshop-2004.36', '2014.wsdm_conference-2014.18', '2012.wwwconf_conference-2012c.168', '2006.ipm_journal-ir0volumeA42A3.18', '2017.wwwconf_conference-2017.142', '2014.wsdm_conference-2014.22', '2007.cikm_workshop-2007pikm.21', '2016.tist_journal-ir0volumeA7A4.21', '2007.sigirconf_conference-2007.34', '1995.sigirjournals_journal-ir0volumeA29A2.2', '2016.ictir_conference-2016.2', '2021.wwwconf_conference-2021c.39', '2015.fire_workshop-2015w.20', '2017.sigirconf_workshop-2017birndl2.2', '2013.wsdm_conference-2013.51', '2010.sigirconf_conference-2010.215', '2018.sigirconf_conference-2018.170', '2002.sigirconf_conference-2002.15', '2017.sigirconf_conference-2017.140', '2009.cikm_conference-2009.46', '1989.ipm_journal-ir0volumeA25A4.2', '2020.tweb_journal-ir0volumeA14A3.4', '2017.fire_conference-2017.4', '2011.wwwconf_conference-2011c.106', '2018.ipm_journal-ir0volumeA54A6.16', '2010.tweb_journal-ir0volumeA4A2.2', '2016.wwwconf_conference-2016.102', '2001.trec_conference-2001.49', '1999.sigirconf_conference-99.6', '2018.chiir_conference-2018.2', '2016.cikm_conference-2016.108', '2010.jasis_journal-ir0volumeA61A12.18', '2015.sigirconf_conference-2015.55', '2020.sigirconf_conference-2020.212', '2021.ecir_conference-20212.70', '2013.clef_workshop-2013bioasq.5', '2001.sigirconf_conference-2001.57', '2010.tois_journal-ir0volumeA28A1.0', '2005.wwwconf_conference-2005si.24', '2010.jasis_journal-ir0volumeA61A3.1', '2018.sigirconf_conference-2018.230', '2018.cikm_conference-2018.277', '2017.ictir_conference-2017.34', '2021.ecir_conference-20211.34', '2010.cikm_conference-2010.163', '2003.wwwconf_conference-2003.3', '2017.wwwconf_conference-2017.133', '2008.cikm_conference-2008.14', '2012.cikm_conference-2012.180', '2009.ipm_journal-ir0volumeA45A4.3', '2018.ipm_journal-ir0volumeA54A6.17', '2015.sigirconf_workshop-2015gsb.1', '2004.airs_conference-2004.4', '2019.tois_journal-ir0volumeA37A2.13', '2006.wwwconf_conference-2006.201', '2020.ipm_journal-ir0volumeA57A3.2', '2015.sigirconf_conference-2015.193', '2001.cikm_conference-2001.28', '2012.tois_journal-ir0volumeA30A4.0', '1984.tois_journal-ir0volumeA2A1.0', '2016.ipm_journal-ir0volumeA52A4.0', '2008.sigirconf_conference-2008.150', '2015.sigirconf_conference-2015.116', '2008.cikm_workshop-2008wicow.8', '2014.mir_workshop-2014somus.0', '2014.sigirconf_conference-2014.143', '2016.ipm_journal-ir0volumeA52A5.10', '2012.sigirconf_workshop-2012osir.11', '2014.wwwconf_conference-2014c.289', '2009.cikm_conference-2009.281', '2001.cikm_conference-2001.43', '2009.spire_conference-2009.9', '2017.clef_conference-2017w.113', '2020.clef_conference-2020w.111', '2014.wwwconf_conference-2014.21', '2000.sigirconf_conference-2000.24', '1999.wwwjournals_journal-ir0volumeA2A4.0', '2020.jasis_journal-ir0volumeA71A8.4', '2009.cikm_conference-2009.261', '1976.sigirjournals_journal-ir0volumeA11A3.3', '2019.trec_conference-2019.17', '2016.wsdm_conference-2016.92', '1996.sigirconf_conference-96.35', '2008.cikm_conference-2008.30', '2012.mir_conference-2012.46', '2018.wwwconf_conference-2018c.69', '2018.tweb_journal-ir0volumeA12A3.5', '2018.cikm_conference-2018.125', '2006.wwwconf_conference-2006.194', '2014.wwwjournals_journal-ir0volumeA17A5.12', '2009.ipm_journal-ir0volumeA45A3.0', '2013.cikm_conference-2013.122', '2020.wsdm_workshop-2020privatenlp.5', '2020.wwwconf_conference-2020c.108', '2014.wwwconf_conference-2014.62', '1985.tois_journal-ir0volumeA3A2.1', '2015.jasis_journal-ir0volumeA66A6.14', '2014.ir_journal-ir0volumeA17A2.1', '2011.sigirconf_conference-2011.10', '2001.jasis_journal-ir0volumeA52A13.20', '2017.wsdm_conference-2017.72', '2008.sigirconf_conference-2008.57', '2015.wwwconf_conference-2015c.137', '2008.sigirconf_conference-2008.31', '2018.sigirconf_workshop-2018birndl.5', '2016.chiir_conference-2016.62', '2011.sigirconf_conference-2011.76', '2005.jasis_journal-ir0volumeA56A2.7', '1968.ipm_journal-ir0volumeA4A2.6', '2010.wwwconf_conference-2010.47', '2016.wwwconf_conference-2016.24', '2020.ecir_workshop-2020siirh.6', '2013.sigirconf_conference-2013.71', '2007.sigirconf_conference-2007.56', '2004.tois_journal-ir0volumeA22A4.2', '2020.wwwconf_conference-2020.3', '2017.cikm_conference-2017.170', '2013.ipm_journal-ir0volumeA49A1.12', '2020.wsdm_conference-2020.23', '2014.wwwjournals_journal-ir0volumeA17A4.11', '2013.cikm_conference-2013.189', '2018.ismir_conference-2018.37', '2018.tist_journal-ir0volumeA9A6.1', '2001.cikm_conference-2001.63', '2010.wwwconf_conference-2010.19', '1993.cikm_conference-93.5', '2010.sigirconf_conference-2010.200', '2004.clef_workshop-2004.66', '2020.ipm_journal-ir0volumeA57A6.19', '2017.cikm_conference-2017.312', '2012.cikm_conference-2012.210', '2017.wwwconf_conference-2017c.3', '2020.sigirconf_conference-2020.49', '1983.sigirconf_conference-83.0', '2013.mir_conference-2013.49', '2011.jasis_journal-ir0volumeA62A6.0', '2017.cikm_conference-2017.320', '2018.sigirconf_conference-2018.210', '2017.wwwconf_conference-2017c.98', '2012.cikm_workshop-2012webkr.1', '1992.sigirconf_conference-92.14', '2018.fire_conference-2018w.14', '2012.wwwconf_conference-2012.2', '2006.clef_workshop-2006w.16', '2015.wwwconf_conference-2015c.131', '2013.ipm_journal-ir0volumeA49A1.7', '2017.cikm_conference-2017.137', '2018.wwwconf_conference-2018c.51', '1992.jasis_journal-ir0volumeA43A1.3', '2017.cikm_conference-2017.134', '2010.airs_conference-2010.31', '2020.chiir_conference-2020.49', '2014.sigirconf_workshop-2014medir.6', '2019.clef_conference-2019w.171', '2008.wwwconf_conference-2008.21', '2017.tist_journal-ir0volumeA8A2.11', '2007.sigirconf_conference-2007.86', '2018.sigirconf_conference-2018.88', '2012.cikm_conference-2012.94', '2014.sigirconf_conference-2014.219', '2016.sigirconf_conference-2016.224', '2017.ipm_journal-ir0volumeA53A1.16', '2016.sigirconf_conference-2016.230', '2015.clef_conference-2015w.87', '2021.ecir_conference-20212.83', '2008.sigirconf_conference-2008.3', '2014.sigirconf_conference-2014.17', '2003.wwwconf_conference-2003.70', '2009.clef_workshop-2009w.5', '2013.clef_conference-2013w.64', '2018.wsdm_conference-2018.21', '2018.sigirconf_workshop-2018birndl.0', '2006.sigirconf_conference-2006.57', '2002.tois_journal-ir0volumeA20A3.0', '2000.clef_workshop-2000.11', '2018.wwwconf_conference-2018.46', '2010.wwwconf_conference-2010.62', '2004.airs_conference-2004.7', '1987.sigirconf_conference-87.25', '2011.tois_journal-ir0volumeA29A4.1', '2013.wsdm_conference-2013.72', '2011.ecir_conference-2011.12', '2009.sigirconf_conference-2009.35', '2018.wwwconf_conference-2018c.268', '2018.chiir_conference-2018.70', '1983.sigirconf_conference-83.6', '2007.ipm_journal-ir0volumeA43A2.9', '2008.clef_workshop-2008w.32', '2015.airs_conference-2015.3', '2017.jasis_journal-ir0volumeA68A8.13', '2019.tois_journal-ir0volumeA37A1.6', '2019.clef_conference-2019w.165', '2017.tois_journal-ir0volumeA35A4.14', '2017.ictir_conference-2017.18', '2021.ipm_journal-ir0volumeA58A3.52', '2002.spire_conference-2002.13', '2011.clef_workshop-2011w.99', '2009.ipm_journal-ir0volumeA45A6.6', '2014.sigirconf_workshop-2014medir.7', '2011.wwwconf_conference-2011.15', '2016.wwwconf_conference-2016.112', '2006.tois_journal-ir0volumeA24A4.3', '2013.cikm_conference-2013.157', '1984.ipm_journal-ir0volumeA20A12.19', '2010.wwwconf_conference-2010.84', '2020.wwwjournals_journal-ir0volumeA23A4.7', '2017.ecir_conference-2017.63', '1985.jasis_journal-ir0volumeA36A3.9', '2011.sigirconf_conference-2011.13', '2004.clef_workshop-2004.79', '2010.clef_workshop-2010w.61', '2015.ipm_journal-ir0volumeA51A1.3', '2009.wwwconf_conference-2009.27', '2012.sigirconf_conference-2012.219', '2008.cikm_conference-2008.57', '2003.wwwconf_conference-2003.43', '2006.sigirconf_conference-2006.110', '2015.ictir_conference-2015.44', '2016.wsdm_conference-2016.55', '2011.mir_conference-2011.72', '2018.sigirconf_conference-2018.221', '2012.cikm_workshop-2012dubmmsm.7', '1997.jasis_journal-ir0volumeA48A7.14', '2018.ecir_workshop-2018newsir.8', '2018.sigirconf_workshop-2018birndl.7', '2012.cikm_workshop-2012dtmbio.5', '2014.airs_conference-2014.24', '2014.wwwconf_conference-2014c.42', '2020.ipm_journal-ir0volumeA57A6.78', '2014.airs_conference-2014.27', '2010.jasis_journal-ir0volumeA61A4.16', '2013.cikm_conference-2013.235', '2013.ipm_journal-ir0volumeA49A6.5', '2008.airs_conference-2008.56', '2017.clef_conference-2017w.46', '2013.ictir_conference-2013.21', '2013.cikm_conference-2013.169', '2008.clef_workshop-2008.72', '2014.wsdm_conference-2014.10', '2014.sigirconf_workshop-2014erd.9', '2015.sigirconf_workshop-2015sps.6', '2018.sigirconf_workshop-2018ecom.5', '2011.sigirconf_conference-2011.67', '2015.wwwjournals_journal-ir0volumeA18A5.7', '2011.clef_workshop-2011w.44', '2018.sigirconf_conference-2018.13', '2019.tist_journal-ir0volumeA10A2.1', '2013.clef_conference-2013w.75', '2005.ipm_journal-ir0volumeA41A2.4', '2011.trec_conference-2011.54', '2013.sigirconf_conference-2013.72', '2001.sigirconf_workshop-2001w1.0', '2018.ictir_conference-2018.1', '1998.jasis_journal-ir0volumeA49A9.10', '2019.fire_conference-2019w.41', '2013.clef_conference-2013w.44', '2004.wwwconf_conference-2004at.94', '2018.ipm_journal-ir0volumeA54A6.4', '2003.sigirconf_conference-2003.49', '2010.wsdm_conference-2010.36', '2020.wsdm_workshop-2020privatenlp.7', '2005.wwwconf_conference-2005si.172', '2019.ipm_journal-ir0volumeA56A3.2', '2002.jasis_journal-ir0volumeA53A1.3', '2019.wwwjournals_journal-ir0volumeA22A2.8', '2019.cikm_conference-2019.376', '2017.sigirconf_conference-2017.255', '1998.sigirconf_conference-98.42', '1998.sigirconf_conference-98.15', '2012.sigirconf_conference-2012.29', '2008.jasis_journal-ir0volumeA59A5.4', '2015.fire_conference-2015.9', '2018.sigirconf_conference-2018.22', '1998.ipm_journal-ir0volumeA34A4.1', '2018.wsdm_conference-2018.52', '2021.ecir_conference-20211.5', '2012.cikm_conference-2012.347', '2008.spire_conference-2008.16', '2008.cikm_workshop-2008inews.13', '2002.cikm_conference-2002.16', '1968.ipm_journal-ir0volumeA4A4.2', '1995.ipm_journal-ir0volumeA31A5.7', '2018.ipm_journal-ir0volumeA54A2.6', '1996.tois_journal-ir0volumeA14A1.3', '2003.sigirconf_conference-2003.102', '2014.wwwconf_conference-2014c.235', '2017.sigirconf_conference-2017.48', '2010.cikm_conference-2010.106', '2012.wsdm_conference-2012.46', '2017.ipm_journal-ir0volumeA53A4.4', '2015.fire_workshop-2015w.4', '2018.tist_journal-ir0volumeA9A6.6', '2016.ipm_journal-ir0volumeA52A6.9', '2010.wwwconf_conference-2010.191', '2012.cikm_workshop-2012dtmbio.6', '2015.fire_workshop-2015w.6', '2010.cikm_conference-2010.171', '2007.sigirconf_conference-2007.38', '2017.sigirjournals_journal-ir0volumeA51A2.3', '1998.trec_conference-1998.45', '2012.sigirconf_conference-2012.84', '1995.sigirconf_conference-95.30', '2008.cikm_conference-2008.27', '2020.birws_workshop-2020.10', '2018.sigirconf_workshop-2018birndl.3', '2011.sigirconf_conference-2011.35', '2017.fire_conference-2017.1', '2014.tist_journal-ir0volumeA5A4.4', '2013.cikm_conference-2013.311', '2019.wwwconf_conference-2019c.232', '2011.jasis_journal-ir0volumeA62A4.4', '2012.spire_conference-2012.30', '2016.cikm_conference-2016.136', '2020.ipm_journal-ir0volumeA57A5.6', '1999.tois_journal-ir0volumeA17A2.1', '2008.cikm_workshop-2008lsdsir.7', '2017.clef_conference-2017w.10', '2019.wwwjournals_journal-ir0volumeA22A2.25', '2001.wwwconf_conference-2001.4', '2020.sigirconf_conference-2020.375', '2019.tois_journal-ir0volumeA37A1.2', '1999.cikm_conference-99.17', '2016.cikm_conference-2016.63', '1991.riao_conference-1991.42', '2016.mir_conference-2016.43', '2017.cikm_conference-2017.113', '2020.sigirconf_conference-2020.360', '2010.clef_workshop-2010w.30', '1983.sigirconf_conference-83.4', '2017.clef_conference-2017w.106', '2001.sigirconf_conference-2001.52', '2004.clef_workshop-2004w.62', '2019.sigirconf_conference-2019.193', '2003.sigirjournals_journal-ir0volumeA37A2.1', '2016.ictir_conference-2016.45', '2020.clef_conference-2020w.120', '2019.ipm_journal-ir0volumeA56A3.34', '2016.wwwconf_conference-2016.82', '2015.wwwconf_conference-2015c.329', '2011.tweb_journal-ir0volumeA5A2.3', '2012.sigirjournals_journal-ir0volumeA46A1.9', '2019.sigirconf_conference-2019osirrc.1', '2020.jasis_journal-ir0volumeA71A6.0', '2016.airs_conference-2016.10', '2009.ecir_conference-2009.5', '2005.ipm_journal-ir0volumeA41A4.0', '2018.wwwconf_conference-2018c.35', '2020.wsdm_conference-2020.62', '2018.wsdm_conference-2018.47', '2021.ecir_conference-20212.25', '2012.mir_conference-2012.1', '2015.tois_journal-ir0volumeA33A2.3', '2012.sigirconf_conference-2012.101', '2007.wwwconf_conference-HeMLYW07.0', '1985.jasis_journal-ir0volumeA36A5.14', '2021.ecir_conference-20212.14', '2003.spire_conference-2003.18', '2013.tist_journal-ir0volumeA4A4.14', '2019.ecir_conference-20191.44', '2008.cikm_workshop-2008inews.2', '2014.sigirconf_conference-2014.185', '2007.sigirconf_conference-2007.3', '2013.wwwconf_conference-2013c.237', '2013.sigirjournals_journal-ir0volumeA47A2.13', '2009.cikm_conference-2009.41', '2018.sigirconf_workshop-2018ecom.12', '2019.wwwconf_conference-2019.343', '2011.trec_conference-2011.79', '2004.clef_workshop-2004.47', '2002.cikm_conference-2002.7', '2012.jasis_journal-ir0volumeA63A6.13', '2018.cikm_workshop-2018w.14', '2004.airs_conference-2004.26', '2010.clef_conference-2010.1', '2012.sigirjournals_journal-ir0volumeA46A1.10', '2006.trec_conference-2006.13', '1996.ipm_journal-ir0volumeA32A3.1', '2017.wwwconf_conference-2017.8', '2012.tist_journal-ir0volumeA3A4.15', '2013.tweb_journal-ir0volumeA8A1.2', '2020.wsdm_conference-2020.70', '2019.wsdm_conference-2019.110', '2017.cikm_conference-2017.151', '2013.wwwconf_conference-2013.115', '2011.sigirconf_conference-2011.145', '2009.ecir_conference-2009.41', '2001.sigirconf_workshop-2001w1.9', '2008.tweb_journal-ir0volumeA2A3.1', '2019.ipm_journal-ir0volumeA56A4.16', '2019.sigirconf_workshop-2019birndl.11', '1981.jasis_journal-ir0volumeA32A3.3', '2013.mir_conference-2013.1', '2003.wwwconf_conference-2003.71', '2020.cikm_conference-2020.118', '2009.wwwjournals_journal-ir0volumeA12A2.2', '2012.cikm_conference-2012.75', '2007.clef_workshop-2007.98', '2010.wwwconf_conference-2010.11', '2006.clef_workshop-2006w.114', '2011.clef_workshop-2011w.42', '2003.wwwconf_conference-2003.54', '2016.clef_conference-2016w.55', '2009.sigirconf_workshop-2009uiir.4', '1995.jasis_journal-ir0volumeA46A8.0', '2004.wwwconf_conference-2004at.37', '2017.ecir_workshop-2017smerp.8', '2006.sigirconf_conference-2006.90', '2000.jasis_journal-ir0volumeA51A5.6', '2002.wwwconf_conference-2002.6', '2011.tweb_journal-ir0volumeA5A4.1', '2015.fire_workshop-2015w.7', '2010.airs_conference-2010.27', '2016.wwwjournals_journal-ir0volumeA19A2.7', '2013.ntcir_conference-2013.69', '2020.sigirconf_conference-2020.258', '2003.trec_conference-2003.68', '2010.jasis_journal-ir0volumeA61A4.0', '2009.clef_workshop-2009w.33', '2017.wwwconf_conference-2017.18', '2021.wsdm_conference-2021.138', '2010.jasis_journal-ir0volumeA61A11.15', '2014.wwwconf_conference-2014c.160', '2007.riao_conference-2007.59', '2008.clef_workshop-2008w.146', '2015.ictir_conference-2015.54', '1993.sigirconf_conference-93.30', '2005.sigirjournals_journal-ir0volumeA39A1.12', '2019.ecir_conference-20191.22', '2008.cikm_workshop-2008dtmbio.13', '2018.cikm_conference-2018.112', '2015.wsdm_conference-2015.10', '2008.clef_workshop-2008w.72', '2012.wwwconf_workshop-2012dec3d.8', '2018.sigirjournals_journal-ir0volumeA52A2.25', '2019.tist_journal-ir0volumeA10A1.5', '2013.cikm_conference-2013.248', '2011.ipm_journal-ir0volumeA47A5.0', '2008.sigirconf_conference-2008.122', '2019.wsdm_conference-2019.114', '2004.jasis_journal-ir0volumeA55A12.7', '2018.sigirconf_workshop-2018profs.3', '2015.cikm_workshop-2015dtmbio.15', '2019.sigirjournals_journal-ir0volumeA53A2.10', '2003.wwwconf_conference-2003.42', '2010.ipm_journal-ir0volumeA46A3.4', '2008.clef_workshop-2008w.23', '2020.wwwconf_conference-2020c.114', '2004.wwwconf_conference-2004.30', '2018.wwwconf_conference-2018c.270', '2017.tist_journal-ir0volumeA8A2.15', '2015.ipm_journal-ir0volumeA51A5.7', '2016.tois_journal-ir0volumeA34A4.3', '2008.wwwconf_workshop-2008ldow.12', '2003.cikm_conference-2003.36', '2013.jasis_journal-ir0volumeA64A2.4', '2016.fire_conference-2016w.30', '2019.fire_conference-2019w.4', '2021.wsdm_conference-2021.147', '2006.ipm_journal-ir0volumeA42A4.8', '2019.wsdm_conference-2019.31', '2017.wsdm_conference-2017.57', '2016.wwwconf_conference-2016.11', '2004.sigirconf_conference-2004.42', '2014.cikm_conference-2014.259', '2008.wwwconf_workshop-2008l.7', '2011.cikm_conference-2011.406', '2016.wsdm_conference-2016.3', '2006.sigirconf_conference-2006.22', '2018.tist_journal-ir0volumeA9A5.0', '2015.wwwconf_conference-2015c.217', '2006.jasis_journal-ir0volumeA57A13.5', '2014.fire_conference-2014.9', '2018.cikm_conference-2018.190', '2016.wwwconf_conference-2016.35', '2011.wwwjournals_journal-ir0volumeA14A3.3', '2004.clef_workshop-2004.45', '2017.wwwconf_conference-2017.109', '2013.wsdm_conference-2013.9', '2010.wsdm_conference-2010.38', '2009.cikm_conference-2009.277', '2008.clef_workshop-2008.10', '2017.wwwjournals_journal-ir0volumeA20A1.3', '2012.sigirconf_workshop-2012osir.6', '2012.ipm_journal-ir0volumeA48A2.8', '2018.chiir_conference-2018.6', '2018.cikm_conference-2018.246', '2009.ictir_conference-2009.0', '2019.wsdm_conference-2019.8', '2018.sigirconf_conference-2018.231', '2012.sigirconf_conference-2012.50', '2011.cikm_conference-2011.313', '2017.tist_journal-ir0volumeA9A1.9', '2014.clef_conference-2014w.104', '2008.sigirconf_conference-2008.32', '2004.ntcir_workshop-2004.7', '2015.wwwconf_conference-2015.6', '2020.wwwconf_conference-2020.32', '2019.wwwjournals_journal-ir0volumeA22A3.19', '2018.sigirconf_workshop-2018birndl.6', '2015.sigirconf_conference-2015.149', '1987.sigirconf_conference-87.5', '1997.sigirconf_conference-97.30', '2020.ecir_conference-20201.30', '2006.sigirconf_conference-2006.58', '2010.wwwconf_conference-2010.32', '2004.clef_workshop-2004.59', '2014.clef_conference-2014.8', '2004.ipm_journal-ir0volumeA40A6.4', '1996.sigirconf_conference-96.43', '2020.ictir_conference-2020.7', '2014.sigirconf_conference-2014.192', '2011.tist_journal-ir0volumeA2A3.0', '2005.ipm_journal-ir0volumeA41A4.1', '2012.wwwconf_workshop-2012dec3d.5', '2020.sigirconf_conference-2020.184', '2001.sigirconf_conference-2001.5', '2015.sigirconf_conference-2015.41', '2017.ecir_conference-2017.4', '2015.wwwconf_conference-2015c.201', '2013.wsdm_conference-2013.1', '2017.wwwconf_conference-2017c.152', '2014.wwwconf_conference-2014c.229', '2018.wwwconf_conference-2018c.101', '2003.clef_workshop-2003w.56', '2010.tois_journal-ir0volumeA28A4.0', '2012.cikm_conference-2012.103', '2004.ir_journal-ir0volumeA7A34.3', '2019.ipm_journal-ir0volumeA56A3.40', '2004.cikm_conference-2004.47', '2015.sigirconf_workshop-2015sps.1', '2011.sigirconf_conference-2011.117', '2004.jasis_journal-ir0volumeA55A14.2', '2011.wsdm_conference-2011.66', '2004.wwwconf_conference-2004at.71', '2011.cikm_workshop-2011pikm.3', '2012.sigirconf_conference-2012.5', '2020.mir_conference-2020.25', '2003.sigirconf_conference-2003.65', '2016.clef_conference-2016.14', '2014.cikm_conference-2014.106', '2006.ipm_journal-ir0volumeA42A4.7', '2011.sigirjournals_journal-ir0volumeA45A1.14', '2008.tweb_journal-ir0volumeA2A1.5', '2018.sigirconf_conference-2018.222', '2012.sigirconf_workshop-2012osir.9', '2017.chiir_conference-2017.28', '2020.cikm_conference-2020.93', '2017.ipm_journal-ir0volumeA53A1.4', '2013.ipm_journal-ir0volumeA49A4.8', '2018.wwwconf_conference-2018c.379', '2015.cikm_workshop-2015esair.2', '2005.cikm_conference-2005.105', '1999.sigirconf_conference-99.9', '2005.cikm_conference-2005.139', '2016.sigirconf_conference-2016.30', '2018.chiir_conference-2018.55', '2010.wsdm_conference-2010.43', '2004.ntcir_workshop-2004.61', '2016.wsdm_conference-2016.88', '2016.wwwconf_conference-2016.120', '2020.sigirconf_conference-2020.170', '2012.sigirconf_workshop-2012osir.2', '2021.wwwconf_conference-2021.256', '2018.wwwconf_conference-2018c.138', '2015.tois_journal-ir0volumeA33A3.2', '2010.sigirjournals_journal-ir0volumeA44A2.14', '2008.ipm_journal-ir0volumeA44A1.18', '2018.sigirconf_workshop-2018ecom.2', '2002.tois_journal-ir0volumeA20A3.1', '2013.cikm_conference-2013.48', '2014.mir_conference-2014.90', '1996.jasis_journal-ir0volumeA47A1.3', '2012.wwwconf_conference-2012c.128', '2017.ictir_workshop-2017learner.7', '2005.airs_conference-2005.5', '2021.wwwconf_conference-2021c.80', '2012.sigirconf_conference-2012.220', '2016.ntcir_conference-2016.90', '2008.ipm_journal-ir0volumeA44A3.9', '2008.tweb_journal-ir0volumeA2A4.2', '2007.wwwconf_conference-2007.180', '2013.sigirconf_conference-2013.57', '2008.sigirconf_workshop-2008and.16', '2014.wsdm_conference-2014.75', '2018.tist_journal-ir0volumeA9A5.9', '1996.tois_journal-ir0volumeA14A3.0', '2007.sigirconf_conference-2007.84', '2015.wwwjournals_journal-ir0volumeA18A4.17', '1998.sigirconf_conference-98.39', '2012.tweb_journal-ir0volumeA6A4.0', '2018.wwwconf_conference-2018.80', '2009.sigirconf_workshop-2009lsdsir.6', '2017.chiir_conference-2017.32', '2008.clef_workshop-2008w.122', '2002.ntcir_workshop-2002.59', '1986.sigirjournals_journal-ir0volumeA19A14.7', '2009.sigirconf_workshop-2009lsdsir.7', '2004.spire_conference-2004.21', '2018.wwwconf_conference-2018c.78', '2012.wsdm_conference-2012.9', '2011.tois_journal-ir0volumeA29A4.3', '2005.cikm_conference-2005.157', '2007.cikm_conference-2007.41', '2019.ecir_conference-20191.23', '2014.ecir_conference-2014.0', '1996.jasis_journal-ir0volumeA47A6.12', '2020.wwwconf_conference-2020c.44', '2016.cikm_conference-2016.180', '1983.sigirconf_conference-83.19', '2004.airs_conference-2004.22', '2018.fire_conference-2018.3', '2007.wwwconf_conference-2007.9', '2014.mir_conference-2014.58', '1999.trec_conference-1999.12', '1981.jasis_journal-ir0volumeA32A5.13', '2017.wwwconf_conference-2017c.241', '2017.wwwconf_conference-2017c.34', '2012.cikm_conference-2012.55', '2011.ipm_journal-ir0volumeA47A2.8', '2012.cikm_workshop-2012dtmbio.0', '2019.wsdm_conference-2019.50', '2013.ntcir_conference-2013.12', '2018.tist_journal-ir0volumeA9A5.10', '2008.ipm_journal-ir0volumeA44A6.3', '2008.wwwconf_conference-2008.40', '2017.wwwconf_conference-2017c.103', '2008.sigirconf_conference-2008.55', '2011.cikm_conference-2011.348', '2013.wsdm_conference-2013.42', '2007.ecir_conference-2007.68', '2011.sigirconf_conference-2011.207', '2020.sigirconf_conference-2020.364', '1993.cikm_conference-93.22', '2000.cikm_conference-2000.57', '2006.wwwconf_conference-2006.34', '2019.ipm_journal-ir0volumeA56A4.3', '2002.jasis_journal-ir0volumeA53A13.5', '2018.mir_workshop-2018mmart.0', '1983.sigirconf_conference-83.24', '2017.wwwjournals_journal-ir0volumeA20A2.11', '2003.spire_conference-2003.11', '2015.jasis_journal-ir0volumeA66A6.15', '1999.cikm_conference-99.28', '2020.ecir_workshop-2020siirh.1', '2007.clef_workshop-2007w.112', '2009.clef_workshop-20092.32', '2018.wwwjournals_journal-ir0volumeA21A1.3', '2015.cikm_conference-2015.150', '2010.trec_conference-2010.29', '2015.cikm_workshop-2015dtmbio.9', '2006.trec_conference-2006.34', '1997.cikm_workshop-97.38', '2009.tois_journal-ir0volumeA27A3.1', '2012.wwwconf_conference-2012c.203', '2010.clef_workshop-2010w.66', '2008.wwwconf_conference-2008.70', '2007.ipm_journal-ir0volumeA43A1.13', '2006.airs_conference-2006.36', '2001.cikm_conference-2001.84', '2018.cikm_conference-2018.52', '1987.ipm_journal-ir0volumeA23A5.7', '2012.ecir_conference-2012.24', '2005.sigirjournals_journal-ir0volumeA39A2.6', '2015.airs_conference-2015.2', '2017.ictir_conference-2017.17', '2011.tist_journal-ir0volumeA2A3.3', '1985.tois_journal-ir0volumeA3A2.5', '2016.cikm_conference-2016.99', '2013.ntcir_conference-2013.74', '2005.ipm_journal-ir0volumeA41A3.2', '2020.sigirconf_conference-2020.312', '2007.sigirjournals_journal-ir0volumeA41A2.17', '2007.clef_workshop-2007w.15', '2012.sigirconf_workshop-2012osir.3', '2014.mir_conference-2014.34', '2016.cikm_conference-2016.133', '2021.wsdm_conference-2021.144', '2006.jasis_journal-ir0volumeA57A10.5', '2005.ecir_conference-2005.0', '2019.tois_journal-ir0volumeA37A3.4', '2009.cikm_conference-2009.278', '2016.tweb_journal-ir0volumeA10A2.0', '2014.wwwconf_conference-2014c.276', '2009.cikm_conference-2009.276', '2015.wwwconf_conference-2015.15', '2018.wwwconf_conference-2018.144', '2006.sigirconf_conference-2006.86', '2012.wsdm_conference-2012.45', '2013.sigirconf_conference-2013.147', '2020.wsdm_conference-2020.4', '2007.cikm_conference-2007.133', '2010.sigirconf_conference-2010.74', '2020.clef_conference-2020w.45', '2006.sigirconf_conference-2006.11', '2013.ictir_conference-2013.19', '2012.wwwconf_conference-2012.18', '2007.clef_workshop-2007w.30', '2020.sigirconf_conference-2020.5', '2003.jasis_journal-ir0volumeA54A9.5', '2012.clef_conference-2012.14', '2013.cikm_conference-2013.86', '2018.sigirconf_conference-2018.180', '2007.clef_workshop-2007w.28', '2018.ipm_journal-ir0volumeA54A2.1', '2008.cikm_conference-2008.69', '2008.cikm_workshop-2008lsdsir.4', '2017.cikm_conference-2017.229', '2006.sigirconf_conference-2006.49', '2019.wwwconf_conference-2019.283', '2019.ipm_journal-ir0volumeA56A4.12', '2015.sigirconf_workshop-2015sps.4', '2005.airs_conference-2005.4', '2018.ictir_conference-2018.20', '2004.clef_workshop-2004.53', '2007.wwwconf_conference-2007.61', '2005.sigirjournals_journal-ir0volumeA39A2.12', '2016.sigirconf_conference-2016.219', '2020.clef_conference-2020w.161', '2012.tois_journal-ir0volumeA30A1.1', '2020.ecir_conference-20202.60', '2019.clef_conference-2019w.31', '2012.wwwconf_conference-2012c.82', '2005.cikm_conference-2005.154', '1998.sigirconf_conference-98.33', '2010.spire_conference-2010.0', '2017.ismir_conference-2017.5', '2013.wsdm_conference-2013.82', '2016.clef_conference-2016.5', '2013.ipm_journal-ir0volumeA49A4.5', '2017.sigirconf_workshop-2017birndl.0', '2020.wsdm_conference-2020.110', '2017.wwwconf_conference-2017.53', '2006.spire_conference-2006.23', '2016.wwwconf_conference-2016.59', '2006.cikm_conference-2006.32', '2019.wsdm_conference-2019.40', '2018.cikm_conference-2018.299', '2004.clef_workshop-2004.22', '2013.clef_conference-2013.7', '2020.wwwconf_conference-2020.16', '2015.ipm_journal-ir0volumeA51A2.8', '2017.tois_journal-ir0volumeA35A4.10', '2008.cikm_workshop-2008inews.5', '2017.wsdm_conference-2017.1', '2011.sigirconf_conference-2011.227', '2012.spire_conference-2012.33', '2010.trec_conference-2010.19', '2016.clef_conference-2016w.4', '2014.cikm_conference-2014.9', '2007.wwwconf_conference-2007.26', '2015.fire_workshop-2015w.9', '2016.ntcir_conference-2016.87', '2013.ecir_conference-2013.58', '2006.clef_workshop-2006.72', '2001.sigirconf_conference-2001.36', '2020.wsdm_conference-2020.49', '2015.tois_journal-ir0volumeA33A4.3', '2018.sigirconf_conference-2018.224', '2011.wsdm_conference-2011.46', '2009.cikm_workshop-2009swsm.4', '2006.clef_workshop-2006.57', '2018.ecir_conference-2018.0', '2001.cikm_conference-2001.23', '2018.wwwconf_conference-2018c.280', '2018.wwwjournals_journal-ir0volumeA21A1.4', '2010.irfc_conference-2010.0', '2017.sigirconf_conference-2017.239', '2006.clef_workshop-2006w.137', '2020.jasis_journal-ir0volumeA71A1.3', '2004.jasis_journal-ir0volumeA55A7.1', '2018.ictir_conference-2018.13', '2011.cikm_conference-2011.257', '2015.cikm_workshop-2015dtmbio.16', '2017.sigirconf_conference-2017.50', '2018.sigirconf_conference-2018.26', '1989.sigirjournals_journal-ir0volumeA23A34.8', '2011.sigirconf_conference-2011.96', '2015.airs_conference-2015.33', '2018.ipm_journal-ir0volumeA54A2.11', '1999.sigirjournals_journal-ir0volumeA33A1.1', '2014.sigirconf_conference-2014.207', '2008.cikm_workshop-2008inews.12', '2016.sigirconf_conference-2016.41', '2005.ntcir_workshop-2005.76', '2014.wwwjournals_journal-ir0volumeA17A6.3', '2006.cikm_conference-2006.64', '2007.wwwconf_conference-2007.203', '2021.ecir_conference-20212.66', '2011.ecir_conference-2011.16', '2010.wsdm_conference-2010.37', '2007.cikm_workshop-2007cims.8', '2016.tois_journal-ir0volumeA34A4.1', '2012.sigirconf_conference-2012.192', '2020.clef_conference-2020w.55', '2011.ijirr_journal-ir0volumeA1A3.3', '2002.tois_journal-ir0volumeA20A1.3', '2018.wwwjournals_journal-ir0volumeA21A1.5', '2011.cikm_conference-2011.397', '2014.sigirjournals_journal-ir0volumeA48A2.0', '2016.ictir_conference-2016.32', '2005.ntcir_workshop-2005.13', '2010.cikm_conference-2010.100', '2017.tist_journal-ir0volumeA8A6.11', '2018.sigirconf_conference-2018.20', '2012.mir_conference-2012.63', '2015.cikm_conference-2015.100', '2020.clef_conference-2020w.8', '2003.clef_workshop-2003.37', '2007.ipm_journal-ir0volumeA43A4.11', '2008.wwwconf_conference-2008.42', '2018.tweb_journal-ir0volumeA12A2.0', '2010.cikm_conference-2010.128', '1993.sigirconf_conference-93.14', '2014.ipm_journal-ir0volumeA50A1.1', '2010.sigirconf_conference-2010.138', '2014.wsdm_conference-2014.26', '2007.cikm_conference-2007.91', '2019.wwwconf_conference-2019.14', '2011.wsdm_conference-2011.60', '2014.cikm_workshop-2014esair.12', '2013.sigirconf_conference-2013.125', '1995.sigirconf_conference-95.5', '2005.ipm_journal-ir0volumeA41A4.9', '2020.wwwconf_conference-2020c.107', '2004.cikm_conference-2004.84', '2010.wsdm_conference-2010.39', '2018.wwwjournals_journal-ir0volumeA21A4.12', '2010.tweb_journal-ir0volumeA4A4.3', '2012.cikm_conference-2012.416', '2008.sigirconf_conference-2008.19', '2002.sigirconf_conference-2002.21', '2008.airs_conference-2008.76', '2011.ipm_journal-ir0volumeA47A4.4', '2014.sigirconf_conference-2014.190', '2011.tist_journal-ir0volumeA2A2.1', '2015.cikm_workshop-2015dtmbio.0', '2020.sigirconf_conference-2020.247', '2008.tweb_journal-ir0volumeA2A1.1', '2006.tois_journal-ir0volumeA24A3.3', '2020.sigirconf_conference-2020.42', '2005.tois_journal-ir0volumeA23A4.2', '1998.jasis_journal-ir0volumeA49A7.0', '2021.ecir_conference-20212.68', '2011.tois_journal-ir0volumeA29A4.2', '2010.sigirconf_conference-2010.75', '2015.ictir_conference-2015.8', '2009.jasis_journal-ir0volumeA60A8.3', '2013.ipm_journal-ir0volumeA49A4.16', '2008.sigirjournals_journal-ir0volumeA42A2.4', '2021.chiir_workshop-2021birds.10', '2011.wwwconf_workshop-2011ldow.14', '2006.cikm_conference-2006.56', '2001.cikm_conference-2001.29', '2008.trec_conference-2008.46', '2006.wwwconf_conference-2006.57', '2005.cikm_conference-2005.161', '2019.sigirconf_conference-2019.88', '2001.cikm_conference-2001.15', '2013.sigirconf_conference-2013.164', '2006.cikm_conference-2006.13', '2014.cikm_conference-2014.13', '2005.clef_workshop-2005w.82', '2010.sigirconf_conference-2010.82', '2003.tois_journal-ir0volumeA21A1.2', '2006.cikm_conference-2006.79', '2018.cikm_conference-2018.114', '2011.ipm_journal-ir0volumeA47A6.3', '2012.ipm_journal-ir0volumeA48A6.2', '2018.jasis_journal-ir0volumeA69A11.1', '2017.sigirjournals_journal-ir0volumeA51A3.1', '2011.sigirconf_conference-2011.45', '1996.tois_journal-ir0volumeA14A2.1', '2008.cikm_conference-2008.105', '2006.spire_conference-2006.20', '2005.cikm_conference-2005.26', '1998.tois_journal-ir0volumeA16A2.0', '2019.ipm_journal-ir0volumeA56A3.22', '2004.clef_workshop-2004.13', '2018.fire_conference-2018w.11', '2014.sigirconf_conference-2014.101', '2008.sigirconf_conference-2008.179', '2008.trec_conference-2008.16', '2005.clef_workshop-2005w.97', '2013.ipm_journal-ir0volumeA49A1.15', '2015.wsdm_conference-2015.58', '2020.ictir_conference-2020.24', '2006.ecir_conference-2006.0', '2013.cikm_conference-2013.145', '2018.wwwconf_conference-2018c.298', '2006.ipm_journal-ir0volumeA42A4.0', '2020.wwwconf_conference-2020c.36', '2014.cikm_conference-2014.164', '2008.wwwconf_conference-2008.102', '2020.wsdm_workshop-2020privatenlp.0', '2001.tois_journal-ir0volumeA19A3.3', '2015.sigirconf_workshop-2015sps.5', '2014.clef_conference-2014w.69', '2012.wwwconf_conference-2012.41', '2013.tist_journal-ir0volumeA4A2.13', '2011.ipm_journal-ir0volumeA47A5.3', '2012.wwwconf_conference-2012c.121', '2001.tois_journal-ir0volumeA19A1.2', '2014.wwwconf_conference-2014.53', '2016.ipm_journal-ir0volumeA52A6.8', '2018.spire_conference-2018.27', '2011.wwwconf_conference-2011c.32', '2008.wwwconf_conference-2008.153', '2004.ir_journal-ir0volumeA7A12.7', '2004.wwwconf_conference-2004.1', '2017.ipm_journal-ir0volumeA53A5.11', '2020.sigirconf_conference-2020.307', '2006.ipm_journal-ir0volumeA42A1.7', '2017.ipm_journal-ir0volumeA53A2.1', '2013.sigirconf_conference-2013.82', '2008.cikm_conference-2008.59', '2011.wsdm_conference-2011.36', '2005.wwwconf_conference-2005.28', '2021.wwwconf_workshop-2021cleopatra.2', '2004.ipm_journal-ir0volumeA40A6.3', '2017.cikm_conference-2017.285', '2016.ecir_conference-2016.0', '2012.ipm_journal-ir0volumeA48A5.11', '2015.wwwconf_conference-2015.58', '2020.sigirconf_conference-2020.382', '2016.ir_journal-ir0volumeA19A4.0', '1984.jasis_journal-ir0volumeA35A5.8', '2016.sigirconf_conference-2016.36', '2013.fire_conference-2013.11', '2018.sigirconf_conference-2018.39', '2014.cikm_conference-2014.12', '2013.cikm_workshop-2013ueo.2', '2018.ipm_journal-ir0volumeA54A4.13', '2007.spire_conference-2007.2', '2013.tist_journal-ir0volumeA4A1.2', '2016.ipm_journal-ir0volumeA52A1.1', '2002.sigirconf_conference-2002.36', '2016.wwwjournals_journal-ir0volumeA19A1.4', '2015.fire_workshop-2015w.1', '2017.cikm_conference-2017.307', '2000.clef_workshop-2000.0', '2012.tois_journal-ir0volumeA30A2.2', '1981.sigirconf_conference-81.10', '2015.wsdm_conference-2015.25', '2001.ir_journal-ir0volumeA4A34.2', '2017.sigirconf_conference-2017.187', '2011.cikm_conference-2011.194', '2018.tist_journal-ir0volumeA9A5.1', '2015.wwwconf_conference-2015c.125', '2016.ipm_journal-ir0volumeA52A6.12', '2006.sigirconf_conference-2006.7', '2019.fire_conference-2019w.3', '2011.cikm_workshop-2011pikm.2', '2017.jasis_journal-ir0volumeA68A10.7', '2015.tist_journal-ir0volumeA6A4.9', '2015.clef_conference-2015.10', '2007.cikm_workshop-2007pikm.1', '2018.clef_conference-2018w.118', '2015.cikm_workshop-2015dtmbio.12', '2003.cikm_conference-2003.21', '2012.sigirconf_workshop-2012osir.7', '2013.sigirconf_conference-2013.198', '2014.sigirconf_workshop-2014erd.10', '2018.wwwconf_conference-2018c.123', '2009.cikm_conference-2009.57', '2008.cikm_conference-2008.35', '2020.ecir_conference-20202.79', '2019.clef_conference-2019w.108', '2007.ipm_journal-ir0volumeA43A4.3', '2008.sigirconf_conference-2008.86', '2013.ipm_journal-ir0volumeA49A1.5', '2019.clef_conference-2019w.1', '2009.wsdm_conference-2009.26', '2020.clef_conference-2020w.32', '2011.wsdm_conference-2011.84', '2017.cikm_conference-2017.242', '2005.ipm_journal-ir0volumeA41A5.6', '2012.wwwconf_workshop-2012tempweb.3', '2018.ecir_conference-2018.17', '2012.tist_journal-ir0volumeA3A2.0', '2019.tist_journal-ir0volumeA10A2.0', '2012.sigirconf_conference-2012.77', '2013.wwwconf_conference-2013.62', '2008.wsdm_conference-2008.12', '2012.mir_conference-2012.58', '2020.jasis_journal-ir0volumeA71A11.3', '2011.jasis_journal-ir0volumeA62A7.5', '2020.cikm_conference-2020.432', '2016.ismir_conference-2016.111', '2017.trec_conference-2017.10', '2008.sigirconf_conference-2008.127', '2012.ipm_journal-ir0volumeA48A4.6', '2017.sigirconf_conference-2017.40', '2001.sigirconf_conference-2001.55', '2008.clef_workshop-2008w.41', '2019.sigirconf_conference-2019osirrc.14', '2007.cikm_conference-2007.31', '2016.tois_journal-ir0volumeA35A2.3', '2004.cikm_conference-2004.7', '2016.tist_journal-ir0volumeA7A3.16', '2015.wwwconf_conference-2015c.287', '2012.trec_conference-2012.60', '2007.ipm_journal-ir0volumeA43A3.4', '2013.ipm_journal-ir0volumeA49A4.3', '2014.cikm_conference-2014.109', '2007.sigirconf_conference-2007.214', '2014.cikm_conference-2014.67', '2017.sigirconf_conference-2017.251', '2003.clef_workshop-2003w.21', '1999.cikm_conference-99.35', '2017.sigirjournals_journal-ir0volumeA51A2.20', '2011.cikm_conference-2011.128', '2005.ecir_conference-2005.8', '2013.sigirconf_conference-2013.18', '2021.ecir_conference-20211.24', '2013.cikm_conference-2013.11', '2012.ipm_journal-ir0volumeA48A5.2', '2005.sigirconf_conference-2005.35', '2005.trec_conference-2005.73', '2018.ecir_conference-2018.43', '2010.cikm_conference-2010.71', '2007.sigirconf_conference-2007.88', '2005.ipm_journal-ir0volumeA41A3.3', '1990.jasis_journal-ir0volumeA41A2.13', '2018.sigirconf_workshop-2018ecom.23', '2016.clef_conference-2016w.53', '2014.wwwconf_workshop-2014ldow.1', '2018.sigirconf_conference-2018.78', '2006.ir_journal-ir0volumeA9A4.2', '2020.sigirconf_conference-2020.65', '2006.wwwjournals_journal-ir0volumeA9A3.0', '1990.ipm_journal-ir0volumeA26A2.8', '2020.sigirconf_conference-2020.131', '2018.wwwjournals_journal-ir0volumeA21A6.19', '2007.ntcir_workshop-2007.77', '2019.clef_conference-2019w.125', '2014.sigirconf_conference-2014.40', '2014.cikm_workshop-2014dtmbio.21', '1979.jasis_journal-ir0volumeA30A5.3', '2018.cikm_workshop-2018w.24', '2012.cikm_conference-2012.196', '2013.wwwconf_conference-2013.18', '2000.sigirconf_conference-2000.23', '2008.tois_journal-ir0volumeA26A4.1', '2016.sigirconf_workshop-2016sal.9', '2003.sigirconf_conference-2003.73', '2017.tist_journal-ir0volumeA8A5.3', '2020.clef_conference-2020w.14', '2008.wwwconf_conference-2008.132', '2000.cikm_conference-2000.40', '2007.wwwconf_conference-2007.30', '2003.wwwconf_conference-2003.11', '2017.ecir_conference-2017.33', '2016.cikm_workshop-2016cybersafety.1', '2009.sigirconf_conference-2009.148', '2021.wsdm_conference-2021.62', '2008.ipm_journal-ir0volumeA44A5.1', '2018.tist_journal-ir0volumeA9A6.8', '2018.sigirconf_conference-2018.240', '2016.sigirconf_conference-2016.50', '2011.wwwconf_conference-2011.26', '2005.ipm_journal-ir0volumeA41A5.7', '2015.tois_journal-ir0volumeA33A3.1', '2011.wwwconf_conference-2011c.21', '2018.sigirconf_conference-2018.21', '2011.wsdm_conference-2011.81', '1981.sigirconf_conference-81.6', '1991.jasis_journal-ir0volumeA42A1.7', '2018.chiir_conference-2018.33', '2017.fire_conference-2017w.36', '2008.airs_conference-2008.5', '2020.sigirconf_conference-2020.32', '2011.ir_journal-ir0volumeA14A2.5', '2002.wwwconf_conference-2002.5', '2012.mir_conference-2012.69', '2018.ictir_conference-2018.23', '2009.wwwconf_conference-2009.41', '2007.sigirconf_conference-2007.39', '2014.wwwjournals_journal-ir0volumeA17A5.15', '2015.wwwconf_conference-2015c.30', '2012.sigirconf_conference-2012.42', '2005.sigirconf_conference-2005.23', '2014.wwwconf_conference-2014c.40', '2017.wsdm_conference-2017.19', '2008.cikm_workshop-2008dtmbio.2', '1983.sigirconf_conference-83.27', '2018.wwwconf_conference-2018c.22', '2005.jasis_journal-ir0volumeA56A14.6', '2014.wwwconf_conference-2014c.66', '2013.tist_journal-ir0volumeA4A3.2', '2013.cikm_conference-2013.84', '1999.tois_journal-ir0volumeA17A2.2', '2007.cikm_conference-2007.76', '2004.sigirconf_conference-2004.112', '2004.trec_conference-2004.8', '2003.wwwconf_conference-2003.32', '2012.cikm_conference-2012.349', '2017.ictir_conference-2017.48', '2020.clef_conference-2020w.20', '2019.ipm_journal-ir0volumeA56A4.5', '2006.ipm_journal-ir0volumeA42A3.0', '2013.clef_conference-2013w.109', '2020.clef_conference-2020w.66', '2008.tois_journal-ir0volumeA27A1.0', '2017.sigirconf_conference-2017.67', '2006.wwwconf_conference-2006.135', '2016.clef_conference-2016.7', '2020.wsdm_conference-2020.51', '2013.wwwconf_conference-2013.73', '2015.tist_journal-ir0volumeA6A2.9', '2021.chiir_workshop-2021birds.11', '2016.wwwjournals_journal-ir0volumeA19A3.1', '2016.ipm_journal-ir0volumeA52A4.9', '2016.sigirconf_conference-2016.54', '2002.ntcir_workshop-2002.70', '2016.wwwconf_conference-2016.126', '2013.ipm_journal-ir0volumeA49A1.18', '2013.wsdm_conference-2013.89', '2013.clef_workshop-2013bioasq.8', '2020.sigirconf_conference-2020.337', '2004.cikm_conference-2004.55', '2000.riao_conference-2000.60', '2001.sigirconf_workshop-2001w1.2', '2018.sigirconf_workshop-2018profs.8', '2011.cikm_conference-2011.281', '2019.wsdm_conference-2019.37', '2008.cikm_workshop-2008ssm.7', '2006.wwwconf_conference-2006.93', '2018.ecir_workshop-2018text2story.3', '2020.sigirconf_conference-2020.19', '1988.sigirjournals_journal-ir0volumeA22A12.3', '2014.airs_conference-2014.28', '2019.fire_conference-2019w.45', '2007.jasis_journal-ir0volumeA58A13.10', '2015.wwwjournals_journal-ir0volumeA18A3.4', '2018.chiir_conference-2018.58', '2011.wwwconf_workshop-2011ldow.11', '2018.wwwconf_conference-2018c.14', '2012.cikm_conference-2012.238', '2018.wwwconf_conference-2018c.330', '2013.mir_conference-2013.23', '2018.cikm_workshop-2018w.29', '2004.riao_conference-2004.57', '2017.cikm_conference-2017.232', '2004.cikm_conference-2004.22', '2018.mir_conference-2018.42', '1992.sigirjournals_journal-ir0volumeA26A1.2', '2020.wsdm_conference-2020.13', '2013.tois_journal-ir0volumeA31A2.1', '2016.wsdm_conference-2016.26', '2015.wsdm_conference-2015.8', '2017.jasis_journal-ir0volumeA68A6.5', '2007.sigirconf_workshop-2007pan.7', '2006.tois_journal-ir0volumeA24A4.1', '2020.sigirconf_conference-2020.70', '2013.clef_conference-2013w.159', '2010.clef_workshop-2010w.104', '2013.cikm_conference-2013.354', '2018.clef_conference-2018w.7', '2019.wsdm_conference-2019.6', '2011.wwwconf_conference-2011.52', '2020.mir_conference-2020.2', '2003.tois_journal-ir0volumeA21A3.0', '2012.sigirconf_conference-2012.49', '2012.sigirconf_conference-2012.63', '2005.sigirconf_conference-2005.70', '2017.wwwjournals_journal-ir0volumeA20A4.11', '2006.ipm_journal-ir0volumeA42A4.4', '2018.fire_conference-2018.12', '2007.tois_journal-ir0volumeA25A1.3', '2010.ipm_journal-ir0volumeA46A3.3', '2015.clef_conference-2015.33', '2011.wsdm_conference-2011.48', '2015.wwwconf_conference-2015.65', '2020.sigirconf_conference-2020.179', '2010.tois_journal-ir0volumeA28A2.1', '2013.cikm_workshop-2013esair.6', '2009.cikm_conference-2009.161', '2009.jasis_journal-ir0volumeA60A8.9', '2000.ir_journal-ir0volumeA2A1.6', '2013.sigirjournals_journal-ir0volumeA47A1.8', '2015.ipm_journal-ir0volumeA51A2.12', '2001.trec_conference-2001.32', '2006.clef_workshop-2006w.31', '2015.sigirconf_workshop-2015sps.3', '2010.sigirjournals_journal-ir0volumeA44A2.15', '2010.wsdm_conference-2010.5', '2019.tois_journal-ir0volumeA37A3.3', '2011.sigirconf_conference-2011.176', '2014.tist_journal-ir0volumeA5A4.1', '2010.cikm_conference-2010.240', '2018.airs_conference-2018.4', '2010.ecir_conference-2010.1', '1991.riao_conference-1991.40', '2008.wwwconf_conference-2008.134', '2009.cikm_conference-2009.190', '2011.sigirconf_conference-2011.19', '2019.ipm_journal-ir0volumeA56A1.7', '2010.sigirconf_conference-2010.123', '1983.sigirconf_conference-83.2', '1999.jasis_journal-ir0volumeA50A8.10', '2006.ipm_journal-ir0volumeA42A1.2', '2016.wwwconf_conference-2016.57', '1973.ipm_journal-ir0volumeA9A12.1', '2017.sigirconf_workshop-2017kg4ir.3', '2020.sigirconf_conference-2020.2', '2021.ecir_conference-20211.19', '1997.cikm_workshop-97.53', '2002.cikm_conference-2002.43', '2019.ipm_journal-ir0volumeA56A1.9', '2021.wsdm_conference-2021.75', '2000.riao_conference-2000.38', '2002.sigirconf_conference-2002.37', '2011.cikm_workshop-2011books.9', '2004.ipm_journal-ir0volumeA40A2.4', '1988.riao_conference-1988.72', '2016.ictir_conference-2016.35', '2019.sigirconf_workshop-2019birndl.12', '2008.sigirconf_conference-2008.190', '2004.trec_conference-2004.41', '2014.wsdm_conference-2014.44', '2019.clef_conference-2019w.78', '2008.wwwconf_conference-2008.201', '2015.spire_conference-2015.9', '2017.wsdm_conference-2017.89', '2016.ictir_conference-2016.7', '2020.wwwconf_conference-2020.145', '1997.sigirconf_conference-97.36', '2003.wwwconf_conference-2003at.5', '2006.clef_workshop-2006w.105', '2011.trec_conference-2011.34', '1995.ipm_journal-ir0volumeA31A1.2', '2011.cikm_conference-2011.246', '2018.desires_conference-2018.13', '2012.wsdm_conference-2012.50', '2000.sigirconf_conference-2000.7', '2011.tois_journal-ir0volumeA29A2.0', '2013.jasis_journal-ir0volumeA64A4.4', '2016.fire_conference-2016.3', '2015.wwwconf_conference-2015.48', '1991.ipm_journal-ir0volumeA27A6.2', '2020.jasis_journal-ir0volumeA71A3.4', '2020.wsdm_workshop-2020privatenlp.6', '2009.cikm_conference-2009.102', '2011.fire_workshop-2011.30', '2020.ipm_journal-ir0volumeA57A2.10', '2017.sigirconf_conference-2017.203', '2006.wwwjournals_journal-ir0volumeA9A3.2', '2018.ictir_conference-2018.35', '2020.sigirconf_conference-2020.279', '2017.ecir_workshop-2017bir.7', '2003.clef_workshop-2003w.3', '2013.mir_conference-2013.21', '2005.wwwconf_conference-2005si.112', '2013.sigirconf_conference-2013.32', '2019.ipm_journal-ir0volumeA56A3.0', '2002.wwwconf_conference-2002.32', '2008.sigirconf_conference-2008.20', '2010.tois_journal-ir0volumeA28A1.3', '2009.sigirconf_workshop-2009uiir.5', '2017.ictir_conference-2017.57', '2018.tist_journal-ir0volumeA9A2.0', '2019.sigirconf_conference-2019.185', '2015.ecir_workshop-2015mrdm.9', '2008.ipm_journal-ir0volumeA44A2.23', '2017.chiir_conference-2017.72', '2013.wwwconf_conference-2013c.216', '2019.ictir_conference-2019.39', '2012.clef_workshop-2012w.1', '2017.tweb_journal-ir0volumeA11A1.3', '2013.wwwconf_conference-2013c.238', '2016.wwwjournals_journal-ir0volumeA19A5.3', '2018.sigirconf_conference-2018.173', '2009.clef_workshop-2009w.82', '2017.sigirconf_workshop-2017ecom.10', '2009.wsdm_workshop-2009wscd.2', '2013.sigirconf_conference-2013.184', '2018.fire_conference-2018w.10', '2018.sigirconf_conference-2018.103', '2014.fire_conference-2014.18', '2010.jasis_journal-ir0volumeA61A9.0', '2018.ictir_conference-2018.25', '2016.sigirconf_conference-2016.27', '2011.cikm_conference-2011.250', '2014.sigirconf_workshop-2014erd.17', '2012.sigirconf_conference-2012.213', '2012.wwwconf_conference-2012.20', '1998.sigirconf_conference-98.22', '2002.trec_conference-2002.83', '2020.ipm_journal-ir0volumeA57A6.40', '2013.wsdm_conference-2013.85', '2012.wwwjournals_journal-ir0volumeA15A3.2', '2009.airs_conference-2009.34', '1981.sigirconf_conference-81.7', '2011.wsdm_conference-2011.65', '2014.wwwconf_conference-2014c.218', '2012.sigirconf_conference-2012.66', '1988.riao_conference-1988.4', '2016.sigirconf_conference-2016.211', '2013.jasis_journal-ir0volumeA64A9.16', '2021.ipm_journal-ir0volumeA58A1.24', '2016.wwwconf_conference-2016.107', '2011.cikm_workshop-2011esair.9', '2018.cikm_conference-2018.66', '2019.wwwjournals_journal-ir0volumeA22A6.30', '2019.sigirconf_conference-2019osirrc.5', '2020.sigirconf_conference-2020.365', '2021.wsdm_conference-2021.78', '2016.tois_journal-ir0volumeA35A1.5', '2017.wwwconf_conference-2017.20', '2012.airs_conference-2012.25', '2014.cikm_workshop-2014dtmbio.17', '2008.sigirconf_conference-2008.62', '2007.cikm_conference-2007.81', '2020.ecir_conference-20202.48', '2012.wwwconf_workshop-2012dec3d.2', '2015.ictir_conference-2015.38', '1987.jasis_journal-ir0volumeA38A4.12', '2017.ictir_conference-2017.45', '2005.spire_conference-2005.9', '2009.sigirconf_workshop-2009uiir.7', '2018.sigirconf_workshop-2018ecom.14', '1982.sigirjournals_journal-ir0volumeA17A1.2', '2003.sigirconf_conference-2003.86', '2014.trec_conference-2014.41', '2006.ecir_conference-2006.1', '2016.tois_journal-ir0volumeA35A2.0', '1998.sigirconf_conference-98.74', '2016.airs_conference-2016.15', '2018.sigirconf_workshop-2018profs.6', '2014.mir_conference-2014.28', '2018.tweb_journal-ir0volumeA12A3.2', '2010.sigirjournals_journal-ir0volumeA44A2.20', '2018.sigirconf_workshop-2018profs.1', '2004.ipm_journal-ir0volumeA40A5.2', '2018.cikm_conference-2018.168', '2010.wsdm_conference-2010.19', '2019.ecir_workshop-2019amir.1', '2011.cikm_conference-2011.222', '2020.sigirconf_conference-2020.355', '2009.spire_conference-2009.17', '2004.airs_conference-2004.13', '2018.tweb_journal-ir0volumeA12A4.5', '2015.jasis_journal-ir0volumeA66A6.2', '2012.wwwconf_workshop-2012dec3d.6', '2016.wsdm_conference-2016.15', '2018.sigirconf_workshop-2018ecom.9'}\n"
     ]
    },
    {
     "name": "stderr",
     "output_type": "stream",
     "text": [
      "\n"
     ]
    }
   ],
   "source": [
    "it_test = iter(pt_dataset.get_corpus_iter())\n",
    "\n",
    "docno_list = []\n",
    "for doc in it_test:\n",
    "    docno_list.append(doc[\"docno\"])\n",
    "\n",
    "docno_qrel_list = pt_dataset.get_qrels()[\"docno\"].tolist()\n",
    "\n",
    "print(set(docno_qrel_list).intersection(set(docno_list)))"
   ]
  },
  {
   "cell_type": "code",
   "execution_count": null,
   "metadata": {},
   "outputs": [],
   "source": []
  },
  {
   "cell_type": "code",
   "execution_count": 15,
   "metadata": {},
   "outputs": [
    {
     "name": "stderr",
     "output_type": "stream",
     "text": [
      "ir-lab-sose-2024/ir-acl-anthology-20240504-training documents:  20%|█▉        | 25310/126958 [03:02<12:14, 138.34it/s] \n"
     ]
    },
    {
     "name": "stdout",
     "output_type": "stream",
     "text": [
      "Proceedings of the 4th Joint Workshop on Bibliometric-enhanced Information Retrieval and Natural Language Processing for Digital Libraries (BIRNDL 2019) co-located with the 42nd International ACM SIGIR Conference on Research and Development in Information Retrieval (SIGIR 2019), Paris, France, July 25, 2019\n",
      "Practice-based Evidence in Medicine: Where Information Retrieval Meets Data Mining\n",
      "Proceedings of the 3rd Joint Workshop on Bibliometric-enhanced Information Retrieval and Natural Language Processing for Digital Libraries (BIRNDL 2018) co-located with the 41st International ACM SIGIR Conference on Research and Development in Information Retrieval (SIGIR 2018), Ann Arbor, USA, July 12, 2018\n"
     ]
    },
    {
     "name": "stderr",
     "output_type": "stream",
     "text": []
    },
    {
     "name": "stdout",
     "output_type": "stream",
     "text": [
      "Proceedings of the 2nd Joint Workshop on Bibliometric-enhanced Information Retrieval and Natural Language Processing for Digital Libraries (BIRNDL 2017) co-located with the 40th International ACM SIGIR Conference on Research and Development in Information Retrieval (SIGIR 2017), Tokyo, Japan, August 11, 2017\n",
      "Editorial for the 2nd Joint Workshop on Bibliometric-enhanced Information Retrieval and Natural Language Processing for Digital Libraries (BIRNDL) at SIGIR 2017\n",
      "Content-based Image Search System Design for Capturing User Preferences during Query Formulation\n",
      "ezDL: An Interactive Search and Evaluation System\n",
      "Apache Lucene 4\n",
      "A Framework for Bridging the Gap Between Open Source Search Tools\n",
      "Towards an Efficient and Effective Search Engine\n",
      "SMART: An Open Source Framework for Searching the Physical World\n"
     ]
    },
    {
     "name": "stderr",
     "output_type": "stream",
     "text": [
      "ir-lab-sose-2024/ir-acl-anthology-20240504-training documents: 100%|██████████| 126958/126958 [03:46<00:00, 561.74it/s]"
     ]
    },
    {
     "name": "stdout",
     "output_type": "stream",
     "text": [
      "39701, 126958\n",
      "387, 2305\n"
     ]
    },
    {
     "name": "stderr",
     "output_type": "stream",
     "text": [
      "\n"
     ]
    }
   ],
   "source": [
    "it_test = iter(pt_dataset.get_corpus_iter())\n",
    "\n",
    "sanity = 0\n",
    "sanity_labeled = 0\n",
    "test = 0\n",
    "for doc in it_test:\n",
    "    txt = doc[\"text\"].splitlines()\n",
    "    title = \"\"\n",
    "    abstract = False\n",
    "    for line in txt:\n",
    "        if line != \"\" and title == \"\":\n",
    "            title = line\n",
    "        elif line != \"\" and title != \"\":\n",
    "            abstract = True\n",
    "    if not abstract:\n",
    "        sanity += 1\n",
    "        if doc[\"docno\"] in set(docno_qrel_list).intersection(set(docno_list)):\n",
    "            sanity_labeled += 1\n",
    "            if test <= 10:\n",
    "                print(doc[\"text\"])\n",
    "                test += 1\n",
    "\n",
    "\n",
    "print(f\"{sanity}, {index.getDocumentIndex().getNumberOfDocuments()}\")\n",
    "print(f\"{sanity_labeled}, {len(set(docno_qrel_list).intersection(set(docno_list)))}\")"
   ]
  },
  {
   "cell_type": "code",
   "execution_count": 13,
   "metadata": {},
   "outputs": [
    {
     "name": "stdout",
     "output_type": "stream",
     "text": [
      "There are multiple query fields available: ('text', 'title', 'query', 'description', 'narrative'). To use with pyterrier, provide variant or modify dataframe to add query column.\n",
      "(   qid                                      text  \\\n",
      "0    1  retrieval system improving effectiveness   \n",
      "1    2  machine learning language identification   \n",
      "2    3             social media detect self-harm   \n",
      "3    4             stemming for arabic languages   \n",
      "4    5            audio based animal recognition   \n",
      "..  ..                                       ...   \n",
      "63  65         information in different language   \n",
      "64  66                  Abbreviations in queries   \n",
      "65  67                  lemmatization algorithms   \n",
      "66  68                  filter ad rich documents   \n",
      "67  18     Advancements in Information Retrieval   \n",
      "\n",
      "                                       title  \\\n",
      "0   retrieval system improving effectiveness   \n",
      "1   machine learning language identification   \n",
      "2              social media detect self-harm   \n",
      "3              stemming for arabic languages   \n",
      "4             audio based animal recognition   \n",
      "..                                       ...   \n",
      "63         information in different language   \n",
      "64                  Abbreviations in queries   \n",
      "65                  lemmatization algorithms   \n",
      "66                  filter ad rich documents   \n",
      "67     Advancements in Information Retrieval   \n",
      "\n",
      "                                       query  \\\n",
      "0   retrieval system improving effectiveness   \n",
      "1   machine learning language identification   \n",
      "2              social media detect self harm   \n",
      "3              stemming for arabic languages   \n",
      "4             audio based animal recognition   \n",
      "..                                       ...   \n",
      "63         information in different language   \n",
      "64                  abbreviations in queries   \n",
      "65                  lemmatization algorithms   \n",
      "66                  filter ad rich documents   \n",
      "67     advancements in information retrieval   \n",
      "\n",
      "                                          description  \\\n",
      "0   What papers focus on improving the effectivene...   \n",
      "1   What papers are about machine learning for lan...   \n",
      "2   Which papers focus on how to recognize signs o...   \n",
      "3   Which papers focus on improving stemming in ar...   \n",
      "4   Which papers focus on classifying animal speci...   \n",
      "..                                                ...   \n",
      "63  Which papers cover Cross-language information ...   \n",
      "64  Which papers cover the handling of abbreviatio...   \n",
      "65       Which papers cover lemmatization algorithms?   \n",
      "66                                               None   \n",
      "67                                               None   \n",
      "\n",
      "                                            narrative  \n",
      "0   Relevant papers include research on what makes...  \n",
      "1   Relevant papers include research on methods of...  \n",
      "2   Relevant papers include research on early dete...  \n",
      "3   Relevant papers include research on stemming m...  \n",
      "4   Relevant papers focus on recognizing the speci...  \n",
      "..                                                ...  \n",
      "63  Relevant papers cover concepts, that fall unde...  \n",
      "64  Relevant papers cover concepts, that deal with...  \n",
      "65  Relevant IR documents cover the topic of lemma...  \n",
      "66  How to filter webpages that have tons of ads a...  \n",
      "67  Relevant texts contain Innovations or Advancem...  \n",
      "\n",
      "[68 rows x 6 columns],      qid                                docno  label iteration\n",
      "0      1    2005.ipm_journal-ir0volumeA41A1.7      1         0\n",
      "1      1   2019.tois_journal-ir0volumeA37A1.2      1         0\n",
      "2      1   2008.sigirconf_conference-2008.127      1         0\n",
      "3      1    2015.ipm_journal-ir0volumeA51A5.7      0         0\n",
      "4      1   2008.tois_journal-ir0volumeA27A1.1      0         0\n",
      "...   ..                                  ...    ...       ...\n",
      "2618  18  1985.jasis_journal-ir0volumeA36A3.9      0         0\n",
      "2619  18      2010.wwwconf_conference-2010.11      1         0\n",
      "2620  18       2011.ntcir_workshop-2011evia.3      0         0\n",
      "2621  18    1988.ipm_journal-ir0volumeA24A3.1      0         0\n",
      "2622  18         2010.airs_conference-2010.12      0         0\n",
      "\n",
      "[2623 rows x 4 columns])\n"
     ]
    }
   ],
   "source": [
    "print(pt_dataset.get_topicsqrels())"
   ]
  },
  {
   "cell_type": "code",
   "execution_count": 14,
   "metadata": {},
   "outputs": [
    {
     "name": "stdout",
     "output_type": "stream",
     "text": [
      "i with frequency 2\n",
      "mixtur with frequency 1\n",
      "adopt with frequency 1\n",
      "exampl with frequency 1\n",
      "featur with frequency 2\n",
      "especi with frequency 1\n",
      "classif with frequency 1\n",
      "requir with frequency 1\n",
      "gener with frequency 1\n",
      "measur with frequency 2\n",
      "idf with frequency 1\n",
      "characterist with frequency 1\n",
      "valu with frequency 2\n",
      "languag with frequency 1\n",
      "vector with frequency 3\n",
      "environ with frequency 1\n",
      "data with frequency 1\n",
      "turn with frequency 1\n",
      "differ with frequency 1\n",
      "model with frequency 2\n",
      "solv with frequency 1\n",
      "context with frequency 5\n",
      "probabilist with frequency 1\n",
      "similarit with frequency 2\n",
      "accord with frequency 3\n",
      "weight with frequency 1\n",
      "invers with frequency 1\n",
      "propos with frequency 1\n",
      "similar with frequency 8\n",
      "appli with frequency 1\n",
      "base with frequency 3\n",
      "defin with frequency 1\n",
      "syntact with frequency 5\n",
      "word with frequency 7\n",
      "us with frequency 3\n",
      "categori with frequency 1\n",
      "applic with frequency 1\n",
      "adjust with frequency 1\n",
      "algorithm with frequency 1\n",
      "need with frequency 1\n",
      "spars with frequency 1\n",
      "process with frequency 1\n",
      "studi with frequency 1\n",
      "natur with frequency 1\n",
      "precis with frequency 1\n",
      "consid with frequency 1\n",
      "paper with frequency 1\n",
      "frequenc with frequency 1\n",
      "group with frequency 2\n",
      "agglom with frequency 1\n",
      "problem with frequency 1\n",
      "document with frequency 1\n",
      "approach with frequency 2\n",
      "semant with frequency 6\n",
      "distribut with frequency 1\n",
      "real with frequency 1\n",
      "occurr with frequency 2\n",
      "deriv with frequency 1\n",
      "pars with frequency 1\n",
      "class with frequency 2\n",
      "taxonomi with frequency 2\n",
      "cluster with frequency 1\n",
      "distanc with frequency 1\n",
      "contextu with frequency 1\n",
      "theoret with frequency 1\n",
      "onli with frequency 1\n"
     ]
    }
   ],
   "source": [
    "di = index.getDirectIndex()\n",
    "doi = index.getDocumentIndex()\n",
    "lex = index.getLexicon()\n",
    "meta = index.getMetaIndex()\n",
    "docid = 0\n",
    "#NB: postings will be null if the document is empty\n",
    "for posting in  di.getPostings(doi.getDocumentEntry(docid)):\n",
    "  termid = posting.getId()\n",
    "  lee = lex.getLexiconEntry(termid)\n",
    "  print(\"%s with frequency %d\" % (lee.getKey(),posting.getFrequency()))"
   ]
  },
  {
   "cell_type": "code",
   "execution_count": 15,
   "metadata": {},
   "outputs": [],
   "source": [
    "bow = {}\n",
    "for docid in range(doi.getNumberOfDocuments()):\n",
    "  for posting in  di.getPostings(doi.getDocumentEntry(docid)):\n",
    "    docno = meta.getItem(\"docno\", docid)\n",
    "    if not docno in bow:\n",
    "      bow[docno]= {}\n",
    "    termid = posting.getId()\n",
    "    lee = lex.getLexiconEntry(termid)\n",
    "    bow[docno][lee.getKey()] = posting.getFrequency()"
   ]
  },
  {
   "cell_type": "code",
   "execution_count": 36,
   "metadata": {},
   "outputs": [
    {
     "name": "stdout",
     "output_type": "stream",
     "text": [
      "{'i': 2, 'mixtur': 1, 'adopt': 1, 'exampl': 1, 'featur': 2, 'especi': 1, 'classif': 1, 'requir': 1, 'gener': 1, 'measur': 2, 'idf': 1, 'characterist': 1, 'valu': 2, 'languag': 1, 'vector': 3, 'environ': 1, 'data': 1, 'turn': 1, 'differ': 1, 'model': 2, 'solv': 1, 'context': 5, 'probabilist': 1, 'similarit': 2, 'accord': 3, 'weight': 1, 'invers': 1, 'propos': 1, 'similar': 8, 'appli': 1, 'base': 3, 'defin': 1, 'syntact': 5, 'word': 7, 'us': 3, 'categori': 1, 'applic': 1, 'adjust': 1, 'algorithm': 1, 'need': 1, 'spars': 1, 'process': 1, 'studi': 1, 'natur': 1, 'precis': 1, 'consid': 1, 'paper': 1, 'frequenc': 1, 'group': 2, 'agglom': 1, 'problem': 1, 'document': 1, 'approach': 2, 'semant': 6, 'distribut': 1, 'real': 1, 'occurr': 2, 'deriv': 1, 'pars': 1, 'class': 2, 'taxonomi': 2, 'cluster': 1, 'distanc': 1, 'contextu': 1, 'theoret': 1, 'onli': 1}\n"
     ]
    }
   ],
   "source": [
    "print(bow[\"O02-2002\"])"
   ]
  },
  {
   "cell_type": "markdown",
   "metadata": {},
   "source": [
    "### Step 3: Define the Retrieval Pipeline\n",
    "\n",
    "We will define a BM25 retrieval pipeline as baseline. For details, see:\n",
    "\n",
    "- [https://pyterrier.readthedocs.io](https://pyterrier.readthedocs.io)\n",
    "- [https://github.com/terrier-org/ecir2021tutorial](https://github.com/terrier-org/ecir2021tutorial)"
   ]
  },
  {
   "cell_type": "code",
   "execution_count": 4,
   "metadata": {},
   "outputs": [],
   "source": [
    "bm25 = pt.BatchRetrieve(index, wmodel=\"BM25\")"
   ]
  },
  {
   "cell_type": "markdown",
   "metadata": {},
   "source": [
    "### Step 4: Create the Run\n"
   ]
  },
  {
   "cell_type": "code",
   "execution_count": 5,
   "metadata": {},
   "outputs": [
    {
     "name": "stdout",
     "output_type": "stream",
     "text": [
      "First, we have a short look at the first three topics:\n",
      "Download from the Incubator: https://files.webis.de/data-in-production/data-research/tira-zenodo-dump-preparation/ir-lab-sose2024/ir-acl-anthology-20240504-truth.zip?download=1\n",
      "\tThis is only used for last spot checks before archival to Zenodo.\n"
     ]
    },
    {
     "name": "stderr",
     "output_type": "stream",
     "text": [
      "Download: 100%|██████████| 29.6k/29.6k [00:00<00:00, 1.49MiB/s]"
     ]
    },
    {
     "name": "stdout",
     "output_type": "stream",
     "text": [
      "Download finished. Extract...\n",
      "Extraction finished:  /root/.tira/extracted_datasets/ir-lab-sose-2024/ir-acl-anthology-20240504-training/\n"
     ]
    },
    {
     "name": "stderr",
     "output_type": "stream",
     "text": [
      "\n"
     ]
    },
    {
     "data": {
      "text/html": [
       "<div>\n",
       "<style scoped>\n",
       "    .dataframe tbody tr th:only-of-type {\n",
       "        vertical-align: middle;\n",
       "    }\n",
       "\n",
       "    .dataframe tbody tr th {\n",
       "        vertical-align: top;\n",
       "    }\n",
       "\n",
       "    .dataframe thead th {\n",
       "        text-align: right;\n",
       "    }\n",
       "</style>\n",
       "<table border=\"1\" class=\"dataframe\">\n",
       "  <thead>\n",
       "    <tr style=\"text-align: right;\">\n",
       "      <th></th>\n",
       "      <th>qid</th>\n",
       "      <th>query</th>\n",
       "    </tr>\n",
       "  </thead>\n",
       "  <tbody>\n",
       "    <tr>\n",
       "      <th>0</th>\n",
       "      <td>1</td>\n",
       "      <td>retrieval system improving effectiveness</td>\n",
       "    </tr>\n",
       "    <tr>\n",
       "      <th>1</th>\n",
       "      <td>2</td>\n",
       "      <td>machine learning language identification</td>\n",
       "    </tr>\n",
       "    <tr>\n",
       "      <th>2</th>\n",
       "      <td>3</td>\n",
       "      <td>social media detect self harm</td>\n",
       "    </tr>\n",
       "  </tbody>\n",
       "</table>\n",
       "</div>"
      ],
      "text/plain": [
       "  qid                                     query\n",
       "0   1  retrieval system improving effectiveness\n",
       "1   2  machine learning language identification\n",
       "2   3             social media detect self harm"
      ]
     },
     "execution_count": 5,
     "metadata": {},
     "output_type": "execute_result"
    }
   ],
   "source": [
    "print('First, we have a short look at the first three topics:')\n",
    "\n",
    "pt_dataset.get_topics('text').head(3)"
   ]
  },
  {
   "cell_type": "code",
   "execution_count": 11,
   "metadata": {},
   "outputs": [
    {
     "name": "stdout",
     "output_type": "stream",
     "text": [
      "Now we do the retrieval...\n",
      "Done. Here are the first 10 entries of the run\n"
     ]
    },
    {
     "data": {
      "text/html": [
       "<div>\n",
       "<style scoped>\n",
       "    .dataframe tbody tr th:only-of-type {\n",
       "        vertical-align: middle;\n",
       "    }\n",
       "\n",
       "    .dataframe tbody tr th {\n",
       "        vertical-align: top;\n",
       "    }\n",
       "\n",
       "    .dataframe thead th {\n",
       "        text-align: right;\n",
       "    }\n",
       "</style>\n",
       "<table border=\"1\" class=\"dataframe\">\n",
       "  <thead>\n",
       "    <tr style=\"text-align: right;\">\n",
       "      <th></th>\n",
       "      <th>qid</th>\n",
       "      <th>docid</th>\n",
       "      <th>docno</th>\n",
       "      <th>rank</th>\n",
       "      <th>score</th>\n",
       "      <th>query</th>\n",
       "    </tr>\n",
       "  </thead>\n",
       "  <tbody>\n",
       "    <tr>\n",
       "      <th>0</th>\n",
       "      <td>1</td>\n",
       "      <td>94858</td>\n",
       "      <td>2004.cikm_conference-2004.47</td>\n",
       "      <td>0</td>\n",
       "      <td>15.681777</td>\n",
       "      <td>retrieval system improving effectiveness</td>\n",
       "    </tr>\n",
       "    <tr>\n",
       "      <th>1</th>\n",
       "      <td>1</td>\n",
       "      <td>125137</td>\n",
       "      <td>1989.ipm_journal-ir0volumeA25A4.2</td>\n",
       "      <td>1</td>\n",
       "      <td>15.047380</td>\n",
       "      <td>retrieval system improving effectiveness</td>\n",
       "    </tr>\n",
       "    <tr>\n",
       "      <th>2</th>\n",
       "      <td>1</td>\n",
       "      <td>125817</td>\n",
       "      <td>2005.ipm_journal-ir0volumeA41A5.11</td>\n",
       "      <td>2</td>\n",
       "      <td>14.144223</td>\n",
       "      <td>retrieval system improving effectiveness</td>\n",
       "    </tr>\n",
       "    <tr>\n",
       "      <th>3</th>\n",
       "      <td>1</td>\n",
       "      <td>5868</td>\n",
       "      <td>W05-0704</td>\n",
       "      <td>3</td>\n",
       "      <td>14.025748</td>\n",
       "      <td>retrieval system improving effectiveness</td>\n",
       "    </tr>\n",
       "    <tr>\n",
       "      <th>4</th>\n",
       "      <td>1</td>\n",
       "      <td>84876</td>\n",
       "      <td>2016.ntcir_conference-2016.90</td>\n",
       "      <td>4</td>\n",
       "      <td>13.947994</td>\n",
       "      <td>retrieval system improving effectiveness</td>\n",
       "    </tr>\n",
       "    <tr>\n",
       "      <th>5</th>\n",
       "      <td>1</td>\n",
       "      <td>82472</td>\n",
       "      <td>1998.sigirconf_conference-98.15</td>\n",
       "      <td>5</td>\n",
       "      <td>13.901647</td>\n",
       "      <td>retrieval system improving effectiveness</td>\n",
       "    </tr>\n",
       "    <tr>\n",
       "      <th>6</th>\n",
       "      <td>1</td>\n",
       "      <td>94415</td>\n",
       "      <td>2008.cikm_conference-2008.183</td>\n",
       "      <td>6</td>\n",
       "      <td>13.808208</td>\n",
       "      <td>retrieval system improving effectiveness</td>\n",
       "    </tr>\n",
       "    <tr>\n",
       "      <th>7</th>\n",
       "      <td>1</td>\n",
       "      <td>17496</td>\n",
       "      <td>O01-2005</td>\n",
       "      <td>7</td>\n",
       "      <td>13.749449</td>\n",
       "      <td>retrieval system improving effectiveness</td>\n",
       "    </tr>\n",
       "    <tr>\n",
       "      <th>8</th>\n",
       "      <td>1</td>\n",
       "      <td>82490</td>\n",
       "      <td>1998.sigirconf_conference-98.33</td>\n",
       "      <td>8</td>\n",
       "      <td>13.735541</td>\n",
       "      <td>retrieval system improving effectiveness</td>\n",
       "    </tr>\n",
       "    <tr>\n",
       "      <th>9</th>\n",
       "      <td>1</td>\n",
       "      <td>124801</td>\n",
       "      <td>2006.ipm_journal-ir0volumeA42A3.2</td>\n",
       "      <td>9</td>\n",
       "      <td>13.569263</td>\n",
       "      <td>retrieval system improving effectiveness</td>\n",
       "    </tr>\n",
       "  </tbody>\n",
       "</table>\n",
       "</div>"
      ],
      "text/plain": [
       "  qid   docid                               docno  rank      score  \\\n",
       "0   1   94858        2004.cikm_conference-2004.47     0  15.681777   \n",
       "1   1  125137   1989.ipm_journal-ir0volumeA25A4.2     1  15.047380   \n",
       "2   1  125817  2005.ipm_journal-ir0volumeA41A5.11     2  14.144223   \n",
       "3   1    5868                            W05-0704     3  14.025748   \n",
       "4   1   84876       2016.ntcir_conference-2016.90     4  13.947994   \n",
       "5   1   82472     1998.sigirconf_conference-98.15     5  13.901647   \n",
       "6   1   94415       2008.cikm_conference-2008.183     6  13.808208   \n",
       "7   1   17496                            O01-2005     7  13.749449   \n",
       "8   1   82490     1998.sigirconf_conference-98.33     8  13.735541   \n",
       "9   1  124801   2006.ipm_journal-ir0volumeA42A3.2     9  13.569263   \n",
       "\n",
       "                                      query  \n",
       "0  retrieval system improving effectiveness  \n",
       "1  retrieval system improving effectiveness  \n",
       "2  retrieval system improving effectiveness  \n",
       "3  retrieval system improving effectiveness  \n",
       "4  retrieval system improving effectiveness  \n",
       "5  retrieval system improving effectiveness  \n",
       "6  retrieval system improving effectiveness  \n",
       "7  retrieval system improving effectiveness  \n",
       "8  retrieval system improving effectiveness  \n",
       "9  retrieval system improving effectiveness  "
      ]
     },
     "execution_count": 11,
     "metadata": {},
     "output_type": "execute_result"
    }
   ],
   "source": [
    "print('Now we do the retrieval...')\n",
    "run = bm25(pt_dataset.get_topics('text'))\n",
    "\n",
    "print('Done. Here are the first 10 entries of the run')\n",
    "run.head(10)"
   ]
  },
  {
   "cell_type": "markdown",
   "metadata": {},
   "source": [
    "### Step 5: Persist the run file for subsequent evaluations\n",
    "\n",
    "The output of a prototypical retrieval system is a run file. This run file can later (optimally in a different notebook) be statistically evaluated."
   ]
  },
  {
   "cell_type": "code",
   "execution_count": 20,
   "metadata": {},
   "outputs": [
    {
     "name": "stdout",
     "output_type": "stream",
     "text": [
      "The run file is normalized outside the TIRA sandbox, I will store it at \"../runs\".\n",
      "Done. run file is stored under \"../runs/run.txt\".\n"
     ]
    }
   ],
   "source": [
    "persist_and_normalize_run(run, system_name='bm25-baseline', default_output='../runs')"
   ]
  }
 ],
 "metadata": {
  "kernelspec": {
   "display_name": "Python 3",
   "language": "python",
   "name": "python3"
  },
  "language_info": {
   "codemirror_mode": {
    "name": "ipython",
    "version": 3
   },
   "file_extension": ".py",
   "mimetype": "text/x-python",
   "name": "python",
   "nbconvert_exporter": "python",
   "pygments_lexer": "ipython3",
   "version": "3.10.12"
  }
 },
 "nbformat": 4,
 "nbformat_minor": 2
}
